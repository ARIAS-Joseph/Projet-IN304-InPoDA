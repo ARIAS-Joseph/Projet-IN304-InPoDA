{
 "cells": [
  {
   "cell_type": "markdown",
   "metadata": {},
   "source": [
    "Importation des différentes librairies nécessaires au projet"
   ]
  },
  {
   "cell_type": "code",
   "execution_count": 98,
   "metadata": {},
   "outputs": [],
   "source": [
    "#!/usr/bin/env python\n",
    "# -*- coding: utf-8 -*-\n",
    "\n",
    "__author__ = \"Mathilde GAUTEUR, Joseph ARIAS\"\n",
    "__copyright__ = \"Copyright 2023, Projet InPoDa\"\n",
    "__credits__ = [\"Mathilde GAUTEUR\", \"Joseph ARIAS\"]\n",
    "__license__ = \"GPL\"\n",
    "__maintainer__ = \"Joseph ARIAS\"\n",
    "__email__ = \"joseph.arias@ens.uvsq.fr\"\n",
    "__status__ = \"Development\"\n",
    "\n",
    "import json as js\n",
    "import time\n",
    "import geopy.exc\n",
    "from textblob import TextBlob\n",
    "import random\n",
    "import folium\n",
    "from collections import Counter\n",
    "from geopy.geocoders import Nominatim\n",
    "import regex as re\n",
    "import plotly.express as px\n",
    "import pandas as pd\n",
    "import os\n",
    "import emoji\n",
    "import gradio as gr\n",
    "import operator\n",
    "import threading"
   ]
  },
  {
   "cell_type": "markdown",
   "metadata": {},
   "source": [
    "Différentes variable permettant le bon fonctionnement du projet"
   ]
  },
  {
   "cell_type": "code",
   "execution_count": 99,
   "metadata": {},
   "outputs": [],
   "source": [
    "avancement_map = 0 # devient 1 lorsque la géolocalisation des tweets se lance\n",
    "fin_map = 0 # devint 1 lorsque le thread s'occupant de la carte recensant les lieux de publications des tweets est fini\n",
    "analyse_finished = 0 # devient 1 lorsque l'ensemble des tweets du fichier json de départ ont été converti en objet puis analysé\n",
    "file_path = 'aitweets.json' # chemin du fichier à analyser"
   ]
  },
  {
   "cell_type": "markdown",
   "metadata": {},
   "source": [
    "Création d'une classe tweet afin de faciliter la manipulation et l'analyse des tweets fournit."
   ]
  },
  {
   "cell_type": "code",
   "execution_count": 100,
   "metadata": {},
   "outputs": [],
   "source": [
    "class Tweet:\n",
    "    used_hashtag = {}  # dictionnaire avec le nom du hashtag en clé et la liste des tweets contenant le hashtag en\n",
    "    # valeur\n",
    "    used_hashtag_sorted = []\n",
    "    user_mentioned = {}  # dictionnaire avec le nom de l'utilisateur en clé et la liste des tweets mentionnant\n",
    "    # l'utilisateur en valeur\n",
    "    user_mentioned_sorted = []\n",
    "    tweets_of_users = {}  # dictionnaire avec le nom de l'utilisateur en clé et la liste des tweets de l'utilisateur en\n",
    "    # valeur\n",
    "    tweets_of_users_sorted = []\n",
    "    tweets_users = []\n",
    "    tweets_polarity = [0, 0, 0]  # avec en indice 0 le nombre de tweets négatifs, en indice 1 le nombre de tweets\n",
    "    # neutres et en indice 2 le nombre de tweets positifs\n",
    "    tweets_objectivity = [0, 0]  # avec en indice 0 le nombre de tweets objectifs et en indice 1 le nombre de tweets\n",
    "    # subjectifs\n",
    "    topics = {}\n",
    "    topics_sorted = []\n",
    "    tweets_localization = []  # liste de toutes les localisations des tweets\n",
    "    tweets_time = {str(i).zfill(2): 0 for i in range(24)}  # création des clés dans le dictionnaire dans l'ordre\n",
    "    # croissant pour améliorer le graphique de la fonction visualize_time\n",
    "    compass = []\n",
    "    specific_user = {}\n",
    "    specific_hashtag = {}\n",
    "    mentioned_by_user = {}\n",
    "    hashtag_by_user = {}\n",
    "    retweets = {}\n",
    "    retweets_sorted = []\n",
    "    languages = {}\n",
    "    languages_sorted = []\n",
    "    nb_tweets = 0\n",
    "\n",
    "    def __init__(self, tweet: dict):\n",
    "\n",
    "        if not isinstance(tweet, dict):\n",
    "            print(f'Un élément n\\'est pas un dictionnaire et n\\'a donc pas pu être analysé: {tweet}')\n",
    "        else:\n",
    "            required_keys = ['id', 'AuthorLocation', 'CreatedAt', 'RetweetCount', 'TweetLanguage', 'TweetText']\n",
    "            missing_keys = [key for key in required_keys if key not in tweet]\n",
    "            if missing_keys:\n",
    "                print(f\"Attention : Le dictionnaire {tweet} ne contient pas toutes les clés requises ! \\n\"\n",
    "                      f\"Clé{'s' if len(missing_keys) > 1 else ''} manquante{'s' if len(missing_keys) > 1 else ''} : \"\n",
    "                      f\"{', '.join(missing_keys)}\")\n",
    "            else:\n",
    "                tweet['Hashtags'] = []\n",
    "                tweet['Mentions'] = []\n",
    "                tweet['Topics'] = []\n",
    "                tweet['Polarity'] = ''\n",
    "                tweet['Subjectivity'] = ''\n",
    "                self.id = tweet['id']\n",
    "                self.localization = tweet['AuthorLocation']\n",
    "                self.date = tweet['CreatedAt']\n",
    "                self.rt = int(tweet['RetweetCount'])\n",
    "                self.langue = tweet['TweetLanguage']\n",
    "                self.texte = tweet['TweetText']\n",
    "                self.hashtag = tweet['Hashtags']\n",
    "                self.mention = tweet['Mentions']\n",
    "                self.polarity = tweet['Polarity']\n",
    "                self.subjectivity = tweet['Subjectivity']\n",
    "                self.topics = tweet['Topics']\n",
    "                self.author = tweet['Author']\n",
    "                Tweet.retweets[self.texte] = self.rt\n",
    "                self.extract_car('#')  # extraction des hashtags utilisés dans le tweet\n",
    "                self.extract_car('@')  # extraction des utilisateurs mentionnés dans le tweet\n",
    "                self.analyze_sentiment()  # analyse du sentiment du tweet (négatif, neutre ou positif) et la\n",
    "                # subjectivité\n",
    "                self.extract_topics()  # extraction des topics du tweet\n",
    "                self.list_tweet_by_author()  # ajout du tweet au dictionnaire tweets_of_users avec en clé l'auteur du\n",
    "                # tweet\n",
    "                self.analyse_language()\n",
    "                tweet['Polarity'] = self.polarity\n",
    "                tweet['Subjectivity'] = self.subjectivity\n",
    "                tweet['Topics'] = self.topics\n",
    "                tweet['Mentions'] = self.mention\n",
    "                tweet['Hashtags'] = self.hashtag\n",
    "                if self.localization != \"\":\n",
    "                    Tweet.tweets_localization.append(self.localization)\n",
    "                Tweet.tweets_time[self.date[11:13]] += 1\n",
    "                Tweet.nb_tweets += 1\n",
    "\n",
    "    @staticmethod\n",
    "    def instantiate_from_file(filepath=\"aitweets.json\"):\n",
    "        \"\"\" Fonction qui instancie les tweets présents dans un fichier json\n",
    "        \"\"\"\n",
    "        global analyse_finished\n",
    "        if filepath == '':\n",
    "            filepath = 'aitweets.json'\n",
    "        data = open(filepath, 'r', encoding='UTF-8')\n",
    "        list_tweets = [js.loads(line) for line in data]\n",
    "\n",
    "        # Noms d'utilisateurs qui seront ajoutés aux tweets afin de mieux répondre aux questions du projet étant donné\n",
    "        # qu'aucun nom d'utilisateur n'est fourni (certains noms sont plus susceptibles d'apparaître souvent pour\n",
    "        # rendre l'analyse des données plus intéressante)\n",
    "        users_names = [*['@The_Fiend'] * 18, *['@Bray_Wyatt'] * 66, *['@Shinsuke_Nakamura'] * 11, *['@Cory'] * 20,\n",
    "                       '@Chumlee', '@Liklenb', '@Jean_Valjean', '@Martin', '@Dupont', *['@IainLJBrown'] * 100,\n",
    "                       *['@Paula_Piccard'] * 50, *['@nigewillson'] * 25, *['@machinelearnTec'] * 15, '@Karl_Marx',\n",
    "                       *['@akbarth3great'] * 15, '@JoshuaBarbeau', '@sankrant', '@machinelearnflx', '@SpirosMargaris',\n",
    "                       *['@Datascience__'] * 30, *['@Charles_Henry'] * 38, *['@UEYvelines'] * 78,\n",
    "                       *['@unionetudiante_'] * 99, *['@la_classe_ouvriere'] * 16, *['@ogcnice'] * 6, '@Utah',\n",
    "                       '@chachat']\n",
    "\n",
    "        for i in range(len(list_tweets)):\n",
    "            list_tweets[i]['Author'] = random.choice(users_names)\n",
    "        try:\n",
    "            for tweet in list_tweets:\n",
    "                tweet['TweetText'] = emoji.demojize(tweet['TweetText'])\n",
    "                tweet['TweetText'] = ''.join(re.split(':[^:]+:', tweet['TweetText']))\n",
    "        except KeyError:\n",
    "            print('Pas de texte associé au tweet. Les données fournit ne possèdentprobablement pas la bonne structure')\n",
    "        for tweet in list_tweets:\n",
    "            Tweet(tweet)\n",
    "        Tweet.fill_zone_atterrissage(filepath, list_tweets)\n",
    "\n",
    "        Tweet.used_hashtag_sorted = sorted(Tweet.used_hashtag.items(),\n",
    "                                           key=operator.itemgetter(1), reverse=True)  # création d'une liste\n",
    "        # des hashtags présents dans les tweets analysés triée par ordre décroissant du nombre d'apparitions du\n",
    "        # hashtag\n",
    "        Tweet.user_mentioned_sorted = sorted(Tweet.user_mentioned.items(),\n",
    "                                             key=operator.itemgetter(1),\n",
    "                                             reverse=True)  # création d'une liste\n",
    "        # des utilisateurs mentionnés dans les tweets analysés triée par ordre décroissant du nombre de mentions\n",
    "        # de l'utilisateur\n",
    "        Tweet.tweets_of_users_sorted = dict(sorted(Tweet.tweets_of_users.items(), key=lambda x: len(x[1]),\n",
    "                                                   reverse=True))  # création d'une liste des utilisateurs triée\n",
    "        # par ordre décroissant du nombre de tweets de l'utilisateur\n",
    "        Tweet.tweets_users = [(key, len(tweets)) for key, tweets in Tweet.tweets_of_users_sorted.items()]\n",
    "        Tweet.topics_sorted = sorted(Tweet.topics.items(), key=operator.itemgetter(1), reverse=True)\n",
    "        Tweet.retweets_sorted = sorted(Tweet.retweets.items(), key=operator.itemgetter(1), reverse=True)\n",
    "        Tweet.languages_sorted = sorted(Tweet.languages.items(), key=operator.itemgetter(1), reverse=True)\n",
    "        for user in Tweet.hashtag_by_user:\n",
    "            Tweet.hashtag_by_user[user] = list(set(Tweet.hashtag_by_user[user]))\n",
    "        for user in Tweet.mentioned_by_user:\n",
    "            Tweet.mentioned_by_user[user] = list(set(Tweet.mentioned_by_user[user]))\n",
    "        analyse_finished = 1\n",
    "\n",
    "    @staticmethod\n",
    "    def fill_zone_atterrissage(filepath, list_tweets):\n",
    "        \"\"\"Remplit la zone d'atterrissage avec tous les tweets de la liste de tweets.\"\"\"\n",
    "        new_name = os.path.basename(filepath)\n",
    "        new_name = os.path.splitext(new_name)[0]\n",
    "\n",
    "        Tweet.reset_zone_atterrissage(new_name)\n",
    "        file = open(f'zone_atterrissage_{new_name}.json', 'a')\n",
    "        for tweet in list_tweets:\n",
    "            js.dump(tweet, file)\n",
    "            file.write('\\n')\n",
    "        file.close()\n",
    "        return f'zone_atterrissage_{new_name}.json'\n",
    "\n",
    "    @staticmethod\n",
    "    def reset_zone_atterrissage(name):\n",
    "        \"\"\"Supprime tout le text du fichier zone_atterrissage.txt.\"\"\"\n",
    "        open(f'zone_atterrissage_{name}.json', \"w\").close()\n",
    "\n",
    "    def analyse_language(self):\n",
    "        langue_correspondance = {\n",
    "            'en': 'anglais',\n",
    "            'fr': 'français',\n",
    "            'und': 'non-défini',\n",
    "            'ja': 'japonais',\n",
    "            'es': 'espagnol',\n",
    "            'da': 'danois',\n",
    "            'ro': 'roumain',\n",
    "            'pt': 'portugais',\n",
    "            'ko': 'coréen',\n",
    "            'de': 'allemand',\n",
    "            'in': 'maori',\n",
    "            'it': 'italien',\n",
    "            'ar': 'arabe',\n",
    "            'fa': 'persan',\n",
    "            'ca': 'catalan',\n",
    "            'fi': 'finnois'\n",
    "        }\n",
    "        self.langue = langue_correspondance[self.langue]\n",
    "        try:\n",
    "            Tweet.languages[self.langue] += 1\n",
    "        except KeyError:\n",
    "            Tweet.languages[self.langue] = 1\n",
    "\n",
    "    def extract_car(self, car: str):\n",
    "        \"\"\"Fonction qui extrait les hashtags utilisés ou les utilisateurs mentionnés dans le tweet à partir d'une base\n",
    "        de données et les ajoute à la base de données\n",
    "\n",
    "        Parameters\n",
    "        ----------\n",
    "        car : str\n",
    "            Le caractère que l'on recherche (# si on cherche les hashtags et @ si on cherche les utilisateurs\"\n",
    "        \"\"\"\n",
    "\n",
    "        txt = self.texte\n",
    "        if car == \"@\":  # si on veut extraire les utilisateurs mentionnés\n",
    "            list_car = self.mention\n",
    "            used_car = Tweet.user_mentioned\n",
    "            name_car = re.findall(r'@\\w+', txt)\n",
    "            specific = Tweet.specific_user\n",
    "            for user in name_car:\n",
    "                try:\n",
    "                    Tweet.mentioned_by_user[self.author].append(user)\n",
    "                except KeyError:\n",
    "                    Tweet.mentioned_by_user[self.author] = [user]\n",
    "        elif car == \"#\":  # si on veut extraire les hashtags utilisés\n",
    "            list_car = self.hashtag\n",
    "            used_car = Tweet.used_hashtag\n",
    "            name_car = re.findall(r'#\\w+', txt)\n",
    "            specific = Tweet.specific_hashtag\n",
    "            for hashtag in name_car:\n",
    "                try:\n",
    "                    Tweet.hashtag_by_user[hashtag].append(self.author)\n",
    "                except KeyError:\n",
    "                    Tweet.hashtag_by_user[hashtag] = [self.author]\n",
    "        else:\n",
    "            return f'Le caractère {car} ne correspond ni aux hashtags ni aux mentions'\n",
    "        for element in name_car:\n",
    "            list_car.append(element)\n",
    "            if element in used_car:\n",
    "                used_car[element] += 1\n",
    "            else:\n",
    "                used_car[element] = 1\n",
    "            if element in specific:\n",
    "                specific[element].append(txt)\n",
    "            else:\n",
    "                specific[element] = [txt]\n",
    "\n",
    "    def analyze_sentiment(self):\n",
    "        \"\"\"Fonction qui analyse le sentiment d'un tweet (négatif, neutre ou positif)\n",
    "        \"\"\"\n",
    "        sentiment = TextBlob(self.texte).sentiment\n",
    "        if sentiment[0] < 0:\n",
    "            self.polarity = 'Negative'\n",
    "            Tweet.tweets_polarity[0] += 1\n",
    "        elif sentiment[0] == 0:\n",
    "            self.polarity = 'Neutral'\n",
    "            Tweet.tweets_polarity[1] += 1\n",
    "        elif sentiment[0] > 0:\n",
    "            self.polarity = 'Positive'\n",
    "            Tweet.tweets_polarity[2] += 1\n",
    "\n",
    "        if sentiment[1] <= 0.5:\n",
    "            self.subjectivity = 'Objective'\n",
    "            Tweet.tweets_objectivity[0] += 1\n",
    "        elif sentiment[1] >= 0.5:\n",
    "            self.subjectivity = 'Subjectif'\n",
    "            Tweet.tweets_objectivity[1] += 1\n",
    "        Tweet.compass.append([sentiment[0], sentiment[1]])\n",
    "\n",
    "    def extract_topics(self):\n",
    "        equivalence = {'artificial intelligence': ['ai', 'artificialintelligence', 'artificial', 'artif', 'arti', 'art',\n",
    "                                                   'intoainews', 'intelligence', 'artificial_intelligence',\n",
    "                                                   'artificia', 'artificialin', 'artificialintellig',\n",
    "                                                   'artificialintellige', 'artificialintell', 'ainews', 'artificialint',\n",
    "                                                   'artificialintelli', 'artific', 'ia', 'inteligenciaartificial',\n",
    "                                                   'artificialintelligen', 'artificialintel', 'artificialinte',\n",
    "                                                   'arificialinterlligence', 'artificialintelligenc', 'intela',\n",
    "                                                   'artificialintelligenc', 'ronald_teaches_artificial_intelligence',\n",
    "                                                   'artificial intelligence', 'ia', 'artifici',\n",
    "                                                   'artificialintelligencetechnology'],\n",
    "                       'machine learning': ['machinelearn', 'machinelearning', 'ml', 'deeplearning', 'learning',\n",
    "                                            'machine', 'dl', 'nlp', 'machinelea', 'datascien', 'machi', 'machinelearni'\n",
    "                                                                                                        'deeple',\n",
    "                                            'mach', 'machinelearnin', 'tensorflow', 'deepneuralnetworks',\n",
    "                                            'machinele', 'neuralnetworks', 'machin', 'machinelear', 'sciketlearn',\n",
    "                                            'deeplearningframework', '100daysofmlcode', 'machinelearni',\n",
    "                                            'machine learning', 'deeple'],\n",
    "                       'data': ['datascience', 'bigdata', 'analytics', 'data', 'datatype', 'datax', 'datas', 'datasc',\n",
    "                                'bigdat', 'datasci', 'dat', 'hdatasystems'],\n",
    "                       'programmation': ['python', 'python3', 'programming', '100daysofcode', 'coding', 'javascript',\n",
    "                                         'java', 'sql', 'code', 'cod', '100da', '100daysof', 'pytho', '100days',\n",
    "                                         'fullstack', '100day', 'coder', '100daysofcod', 'cloudcomputing', 'prog',\n",
    "                                         'flutte', 'algorithm', 'programmerlife', 'iot', 'programmation', 'numpy',\n",
    "                                         'devcommunity']\n",
    "                       }\n",
    "        for hashtag in self.hashtag:\n",
    "            hashtag = hashtag[1::].lower()\n",
    "            for topic in equivalence:\n",
    "                if hashtag in equivalence[topic]:\n",
    "                    hashtag = topic\n",
    "                self.topics.append(hashtag)\n",
    "\n",
    "        for word in self.texte.split():\n",
    "            word = word.lower()\n",
    "            for topic in equivalence:\n",
    "                if word in equivalence[topic]:\n",
    "                    word = topic\n",
    "                    self.topics.append(word)\n",
    "\n",
    "        self.topics = list(set(self.topics))\n",
    "\n",
    "        for topic in self.topics:\n",
    "            if topic in Tweet.topics:\n",
    "                Tweet.topics[topic] += 1\n",
    "            else:\n",
    "                Tweet.topics[topic] = 1\n",
    "\n",
    "    def list_tweet_by_author(self):\n",
    "        \"\"\"Fonction qui ajoute le tweet à la liste des tweets d'un utilisateur\n",
    "        \"\"\"\n",
    "        try:\n",
    "            Tweet.tweets_of_users[self.author].append(self.texte)\n",
    "        except KeyError:\n",
    "            Tweet.tweets_of_users[self.author] = [self.texte]"
   ]
  },
  {
   "cell_type": "code",
   "execution_count": 101,
   "metadata": {},
   "outputs": [],
   "source": [
    "Tweet.instantiate_from_file()"
   ]
  },
  {
   "cell_type": "markdown",
   "metadata": {},
   "source": [
    "Fonction qui retourne tout les utilisateurs utilisant un hashtag particulier"
   ]
  },
  {
   "cell_type": "code",
   "execution_count": 102,
   "metadata": {},
   "outputs": [
    {
     "name": "stdout",
     "output_type": "stream",
     "text": [
      "Utilisateur n°1 utilisant #AI: @ogcnice\n",
      "Utilisateur n°2 utilisant #AI: @la_classe_ouvriere\n",
      "Utilisateur n°3 utilisant #AI: @Dupont\n",
      "Utilisateur n°4 utilisant #AI: @Charles_Henry\n",
      "Utilisateur n°5 utilisant #AI: @UEYvelines\n",
      "Utilisateur n°6 utilisant #AI: @Bray_Wyatt\n",
      "Utilisateur n°7 utilisant #AI: @unionetudiante_\n",
      "Utilisateur n°8 utilisant #AI: @IainLJBrown\n",
      "Utilisateur n°9 utilisant #AI: @nigewillson\n",
      "Utilisateur n°10 utilisant #AI: @machinelearnTec\n",
      "Utilisateur n°11 utilisant #AI: @Shinsuke_Nakamura\n",
      "Utilisateur n°12 utilisant #AI: @Paula_Piccard\n",
      "Utilisateur n°13 utilisant #AI: @The_Fiend\n",
      "Utilisateur n°14 utilisant #AI: @akbarth3great\n",
      "Utilisateur n°15 utilisant #AI: @Datascience__\n",
      "Utilisateur n°16 utilisant #AI: @Cory\n",
      "Utilisateur n°1 utilisant #machine: @Charles_Henry\n",
      "Utilisateur n°2 utilisant #machine: @UEYvelines\n",
      "Utilisateur n°3 utilisant #machine: @Bray_Wyatt\n",
      "Utilisateur n°4 utilisant #machine: @unionetudiante_\n",
      "Utilisateur n°5 utilisant #machine: @IainLJBrown\n",
      "Utilisateur n°6 utilisant #machine: @machinelearnTec\n",
      "Utilisateur n°7 utilisant #machine: @Paula_Piccard\n",
      "#chocolat n'a jamais été utilisé\n"
     ]
    }
   ],
   "source": [
    "def user_mention_specific_hashtag(hashtag: str):\n",
    "    if hashtag[0] != '#':\n",
    "        hashtag = '#' + hashtag\n",
    "    try:\n",
    "        i = 1\n",
    "        for utilisateur in Tweet.hashtag_by_user[hashtag]:\n",
    "            print(f'Utilisateur n°{i} utilisant {hashtag}: {utilisateur}')\n",
    "            i += 1\n",
    "    except KeyError:\n",
    "        print(f'{hashtag} n\\'a jamais été utilisé')\n",
    "\n",
    "user_mention_specific_hashtag('#AI')\n",
    "user_mention_specific_hashtag('#machine')\n",
    "user_mention_specific_hashtag('#chocolat')"
   ]
  },
  {
   "cell_type": "markdown",
   "metadata": {},
   "source": [
    "Fonction qui retourne tous les utilisateurs mentionnés par un utilisateur spécifique."
   ]
  },
  {
   "cell_type": "code",
   "execution_count": 103,
   "metadata": {},
   "outputs": [
    {
     "name": "stdout",
     "output_type": "stream",
     "text": [
      "@UEY n'a jamais mentionné ou tweeté\n",
      "Utilisateur n°1 mentionné par @Chumlee: @KingSazeeb\n",
      "@Charlou n'a jamais mentionné ou tweeté\n"
     ]
    }
   ],
   "source": [
    "def users_mention_by_user(user: str):\n",
    "    if user[0] != '@':\n",
    "        user = '@' + user\n",
    "    try:\n",
    "        i = 1\n",
    "        for utilisateur in Tweet.mentioned_by_user[user]:\n",
    "            print(f'Utilisateur n°{i} mentionné par {user}: {utilisateur}')\n",
    "            i += 1\n",
    "    except KeyError:\n",
    "        print(f'{user} n\\'a jamais mentionné ou tweeté')\n",
    "\n",
    "users_mention_by_user('@UEY')\n",
    "users_mention_by_user('@Chumlee')\n",
    "users_mention_by_user('@Charlou')"
   ]
  },
  {
   "cell_type": "markdown",
   "metadata": {},
   "source": [
    "Fonction qui fait apparaître un graphique montrant les top k (marche pour utilisateurs, hashtags, utilisateurs mentionnés, topics)"
   ]
  },
  {
   "cell_type": "code",
   "execution_count": 104,
   "metadata": {},
   "outputs": [
    {
     "name": "stdout",
     "output_type": "stream",
     "text": [
      "Top 1 utilisateur : @IainLJBrown avec 288 tweets\n",
      "Top 2 utilisateur : @unionetudiante_ avec 273 tweets\n",
      "Top 3 utilisateur : @UEYvelines avec 226 tweets\n",
      "Top 4 utilisateur : @Bray_Wyatt avec 176 tweets\n",
      "Top 5 utilisateur : @Paula_Piccard avec 156 tweets\n",
      "Top 6 utilisateur : @Charles_Henry avec 107 tweets\n",
      "Top 7 utilisateur : @Datascience__ avec 81 tweets\n",
      "Top 8 utilisateur : @nigewillson avec 74 tweets\n",
      "Top 9 utilisateur : @Cory avec 56 tweets\n",
      "Top 10 utilisateur : @machinelearnTec avec 52 tweets\n",
      "Top 11 utilisateur : @The_Fiend avec 51 tweets\n"
     ]
    },
    {
     "data": {
      "application/vnd.plotly.v1+json": {
       "config": {
        "plotlyServerURL": "https://plot.ly"
       },
       "data": [
        {
         "alignmentgroup": "True",
         "hovertemplate": "Utilisateurs=%{x}<br>Nombre de tweets=%{text}<extra></extra>",
         "legendgroup": "",
         "marker": {
          "color": "#636efa",
          "pattern": {
           "shape": ""
          }
         },
         "name": "",
         "offsetgroup": "",
         "orientation": "v",
         "showlegend": false,
         "text": [
          288,
          273,
          226,
          176,
          156,
          107,
          81,
          74,
          56,
          52,
          51
         ],
         "textposition": "auto",
         "type": "bar",
         "x": [
          "@IainLJBrown",
          "@unionetudiante_",
          "@UEYvelines",
          "@Bray_Wyatt",
          "@Paula_Piccard",
          "@Charles_Henry",
          "@Datascience__",
          "@nigewillson",
          "@Cory",
          "@machinelearnTec",
          "@The_Fiend"
         ],
         "xaxis": "x",
         "y": [
          288,
          273,
          226,
          176,
          156,
          107,
          81,
          74,
          56,
          52,
          51
         ],
         "yaxis": "y"
        }
       ],
       "layout": {
        "barmode": "relative",
        "legend": {
         "tracegroupgap": 0
        },
        "template": {
         "data": {
          "bar": [
           {
            "error_x": {
             "color": "#2a3f5f"
            },
            "error_y": {
             "color": "#2a3f5f"
            },
            "marker": {
             "line": {
              "color": "#E5ECF6",
              "width": 0.5
             },
             "pattern": {
              "fillmode": "overlay",
              "size": 10,
              "solidity": 0.2
             }
            },
            "type": "bar"
           }
          ],
          "barpolar": [
           {
            "marker": {
             "line": {
              "color": "#E5ECF6",
              "width": 0.5
             },
             "pattern": {
              "fillmode": "overlay",
              "size": 10,
              "solidity": 0.2
             }
            },
            "type": "barpolar"
           }
          ],
          "carpet": [
           {
            "aaxis": {
             "endlinecolor": "#2a3f5f",
             "gridcolor": "white",
             "linecolor": "white",
             "minorgridcolor": "white",
             "startlinecolor": "#2a3f5f"
            },
            "baxis": {
             "endlinecolor": "#2a3f5f",
             "gridcolor": "white",
             "linecolor": "white",
             "minorgridcolor": "white",
             "startlinecolor": "#2a3f5f"
            },
            "type": "carpet"
           }
          ],
          "choropleth": [
           {
            "colorbar": {
             "outlinewidth": 0,
             "ticks": ""
            },
            "type": "choropleth"
           }
          ],
          "contour": [
           {
            "colorbar": {
             "outlinewidth": 0,
             "ticks": ""
            },
            "colorscale": [
             [
              0,
              "#0d0887"
             ],
             [
              0.1111111111111111,
              "#46039f"
             ],
             [
              0.2222222222222222,
              "#7201a8"
             ],
             [
              0.3333333333333333,
              "#9c179e"
             ],
             [
              0.4444444444444444,
              "#bd3786"
             ],
             [
              0.5555555555555556,
              "#d8576b"
             ],
             [
              0.6666666666666666,
              "#ed7953"
             ],
             [
              0.7777777777777778,
              "#fb9f3a"
             ],
             [
              0.8888888888888888,
              "#fdca26"
             ],
             [
              1,
              "#f0f921"
             ]
            ],
            "type": "contour"
           }
          ],
          "contourcarpet": [
           {
            "colorbar": {
             "outlinewidth": 0,
             "ticks": ""
            },
            "type": "contourcarpet"
           }
          ],
          "heatmap": [
           {
            "colorbar": {
             "outlinewidth": 0,
             "ticks": ""
            },
            "colorscale": [
             [
              0,
              "#0d0887"
             ],
             [
              0.1111111111111111,
              "#46039f"
             ],
             [
              0.2222222222222222,
              "#7201a8"
             ],
             [
              0.3333333333333333,
              "#9c179e"
             ],
             [
              0.4444444444444444,
              "#bd3786"
             ],
             [
              0.5555555555555556,
              "#d8576b"
             ],
             [
              0.6666666666666666,
              "#ed7953"
             ],
             [
              0.7777777777777778,
              "#fb9f3a"
             ],
             [
              0.8888888888888888,
              "#fdca26"
             ],
             [
              1,
              "#f0f921"
             ]
            ],
            "type": "heatmap"
           }
          ],
          "heatmapgl": [
           {
            "colorbar": {
             "outlinewidth": 0,
             "ticks": ""
            },
            "colorscale": [
             [
              0,
              "#0d0887"
             ],
             [
              0.1111111111111111,
              "#46039f"
             ],
             [
              0.2222222222222222,
              "#7201a8"
             ],
             [
              0.3333333333333333,
              "#9c179e"
             ],
             [
              0.4444444444444444,
              "#bd3786"
             ],
             [
              0.5555555555555556,
              "#d8576b"
             ],
             [
              0.6666666666666666,
              "#ed7953"
             ],
             [
              0.7777777777777778,
              "#fb9f3a"
             ],
             [
              0.8888888888888888,
              "#fdca26"
             ],
             [
              1,
              "#f0f921"
             ]
            ],
            "type": "heatmapgl"
           }
          ],
          "histogram": [
           {
            "marker": {
             "pattern": {
              "fillmode": "overlay",
              "size": 10,
              "solidity": 0.2
             }
            },
            "type": "histogram"
           }
          ],
          "histogram2d": [
           {
            "colorbar": {
             "outlinewidth": 0,
             "ticks": ""
            },
            "colorscale": [
             [
              0,
              "#0d0887"
             ],
             [
              0.1111111111111111,
              "#46039f"
             ],
             [
              0.2222222222222222,
              "#7201a8"
             ],
             [
              0.3333333333333333,
              "#9c179e"
             ],
             [
              0.4444444444444444,
              "#bd3786"
             ],
             [
              0.5555555555555556,
              "#d8576b"
             ],
             [
              0.6666666666666666,
              "#ed7953"
             ],
             [
              0.7777777777777778,
              "#fb9f3a"
             ],
             [
              0.8888888888888888,
              "#fdca26"
             ],
             [
              1,
              "#f0f921"
             ]
            ],
            "type": "histogram2d"
           }
          ],
          "histogram2dcontour": [
           {
            "colorbar": {
             "outlinewidth": 0,
             "ticks": ""
            },
            "colorscale": [
             [
              0,
              "#0d0887"
             ],
             [
              0.1111111111111111,
              "#46039f"
             ],
             [
              0.2222222222222222,
              "#7201a8"
             ],
             [
              0.3333333333333333,
              "#9c179e"
             ],
             [
              0.4444444444444444,
              "#bd3786"
             ],
             [
              0.5555555555555556,
              "#d8576b"
             ],
             [
              0.6666666666666666,
              "#ed7953"
             ],
             [
              0.7777777777777778,
              "#fb9f3a"
             ],
             [
              0.8888888888888888,
              "#fdca26"
             ],
             [
              1,
              "#f0f921"
             ]
            ],
            "type": "histogram2dcontour"
           }
          ],
          "mesh3d": [
           {
            "colorbar": {
             "outlinewidth": 0,
             "ticks": ""
            },
            "type": "mesh3d"
           }
          ],
          "parcoords": [
           {
            "line": {
             "colorbar": {
              "outlinewidth": 0,
              "ticks": ""
             }
            },
            "type": "parcoords"
           }
          ],
          "pie": [
           {
            "automargin": true,
            "type": "pie"
           }
          ],
          "scatter": [
           {
            "fillpattern": {
             "fillmode": "overlay",
             "size": 10,
             "solidity": 0.2
            },
            "type": "scatter"
           }
          ],
          "scatter3d": [
           {
            "line": {
             "colorbar": {
              "outlinewidth": 0,
              "ticks": ""
             }
            },
            "marker": {
             "colorbar": {
              "outlinewidth": 0,
              "ticks": ""
             }
            },
            "type": "scatter3d"
           }
          ],
          "scattercarpet": [
           {
            "marker": {
             "colorbar": {
              "outlinewidth": 0,
              "ticks": ""
             }
            },
            "type": "scattercarpet"
           }
          ],
          "scattergeo": [
           {
            "marker": {
             "colorbar": {
              "outlinewidth": 0,
              "ticks": ""
             }
            },
            "type": "scattergeo"
           }
          ],
          "scattergl": [
           {
            "marker": {
             "colorbar": {
              "outlinewidth": 0,
              "ticks": ""
             }
            },
            "type": "scattergl"
           }
          ],
          "scattermapbox": [
           {
            "marker": {
             "colorbar": {
              "outlinewidth": 0,
              "ticks": ""
             }
            },
            "type": "scattermapbox"
           }
          ],
          "scatterpolar": [
           {
            "marker": {
             "colorbar": {
              "outlinewidth": 0,
              "ticks": ""
             }
            },
            "type": "scatterpolar"
           }
          ],
          "scatterpolargl": [
           {
            "marker": {
             "colorbar": {
              "outlinewidth": 0,
              "ticks": ""
             }
            },
            "type": "scatterpolargl"
           }
          ],
          "scatterternary": [
           {
            "marker": {
             "colorbar": {
              "outlinewidth": 0,
              "ticks": ""
             }
            },
            "type": "scatterternary"
           }
          ],
          "surface": [
           {
            "colorbar": {
             "outlinewidth": 0,
             "ticks": ""
            },
            "colorscale": [
             [
              0,
              "#0d0887"
             ],
             [
              0.1111111111111111,
              "#46039f"
             ],
             [
              0.2222222222222222,
              "#7201a8"
             ],
             [
              0.3333333333333333,
              "#9c179e"
             ],
             [
              0.4444444444444444,
              "#bd3786"
             ],
             [
              0.5555555555555556,
              "#d8576b"
             ],
             [
              0.6666666666666666,
              "#ed7953"
             ],
             [
              0.7777777777777778,
              "#fb9f3a"
             ],
             [
              0.8888888888888888,
              "#fdca26"
             ],
             [
              1,
              "#f0f921"
             ]
            ],
            "type": "surface"
           }
          ],
          "table": [
           {
            "cells": {
             "fill": {
              "color": "#EBF0F8"
             },
             "line": {
              "color": "white"
             }
            },
            "header": {
             "fill": {
              "color": "#C8D4E3"
             },
             "line": {
              "color": "white"
             }
            },
            "type": "table"
           }
          ]
         },
         "layout": {
          "annotationdefaults": {
           "arrowcolor": "#2a3f5f",
           "arrowhead": 0,
           "arrowwidth": 1
          },
          "autotypenumbers": "strict",
          "coloraxis": {
           "colorbar": {
            "outlinewidth": 0,
            "ticks": ""
           }
          },
          "colorscale": {
           "diverging": [
            [
             0,
             "#8e0152"
            ],
            [
             0.1,
             "#c51b7d"
            ],
            [
             0.2,
             "#de77ae"
            ],
            [
             0.3,
             "#f1b6da"
            ],
            [
             0.4,
             "#fde0ef"
            ],
            [
             0.5,
             "#f7f7f7"
            ],
            [
             0.6,
             "#e6f5d0"
            ],
            [
             0.7,
             "#b8e186"
            ],
            [
             0.8,
             "#7fbc41"
            ],
            [
             0.9,
             "#4d9221"
            ],
            [
             1,
             "#276419"
            ]
           ],
           "sequential": [
            [
             0,
             "#0d0887"
            ],
            [
             0.1111111111111111,
             "#46039f"
            ],
            [
             0.2222222222222222,
             "#7201a8"
            ],
            [
             0.3333333333333333,
             "#9c179e"
            ],
            [
             0.4444444444444444,
             "#bd3786"
            ],
            [
             0.5555555555555556,
             "#d8576b"
            ],
            [
             0.6666666666666666,
             "#ed7953"
            ],
            [
             0.7777777777777778,
             "#fb9f3a"
            ],
            [
             0.8888888888888888,
             "#fdca26"
            ],
            [
             1,
             "#f0f921"
            ]
           ],
           "sequentialminus": [
            [
             0,
             "#0d0887"
            ],
            [
             0.1111111111111111,
             "#46039f"
            ],
            [
             0.2222222222222222,
             "#7201a8"
            ],
            [
             0.3333333333333333,
             "#9c179e"
            ],
            [
             0.4444444444444444,
             "#bd3786"
            ],
            [
             0.5555555555555556,
             "#d8576b"
            ],
            [
             0.6666666666666666,
             "#ed7953"
            ],
            [
             0.7777777777777778,
             "#fb9f3a"
            ],
            [
             0.8888888888888888,
             "#fdca26"
            ],
            [
             1,
             "#f0f921"
            ]
           ]
          },
          "colorway": [
           "#636efa",
           "#EF553B",
           "#00cc96",
           "#ab63fa",
           "#FFA15A",
           "#19d3f3",
           "#FF6692",
           "#B6E880",
           "#FF97FF",
           "#FECB52"
          ],
          "font": {
           "color": "#2a3f5f"
          },
          "geo": {
           "bgcolor": "white",
           "lakecolor": "white",
           "landcolor": "#E5ECF6",
           "showlakes": true,
           "showland": true,
           "subunitcolor": "white"
          },
          "hoverlabel": {
           "align": "left"
          },
          "hovermode": "closest",
          "mapbox": {
           "style": "light"
          },
          "paper_bgcolor": "white",
          "plot_bgcolor": "#E5ECF6",
          "polar": {
           "angularaxis": {
            "gridcolor": "white",
            "linecolor": "white",
            "ticks": ""
           },
           "bgcolor": "#E5ECF6",
           "radialaxis": {
            "gridcolor": "white",
            "linecolor": "white",
            "ticks": ""
           }
          },
          "scene": {
           "xaxis": {
            "backgroundcolor": "#E5ECF6",
            "gridcolor": "white",
            "gridwidth": 2,
            "linecolor": "white",
            "showbackground": true,
            "ticks": "",
            "zerolinecolor": "white"
           },
           "yaxis": {
            "backgroundcolor": "#E5ECF6",
            "gridcolor": "white",
            "gridwidth": 2,
            "linecolor": "white",
            "showbackground": true,
            "ticks": "",
            "zerolinecolor": "white"
           },
           "zaxis": {
            "backgroundcolor": "#E5ECF6",
            "gridcolor": "white",
            "gridwidth": 2,
            "linecolor": "white",
            "showbackground": true,
            "ticks": "",
            "zerolinecolor": "white"
           }
          },
          "shapedefaults": {
           "line": {
            "color": "#2a3f5f"
           }
          },
          "ternary": {
           "aaxis": {
            "gridcolor": "white",
            "linecolor": "white",
            "ticks": ""
           },
           "baxis": {
            "gridcolor": "white",
            "linecolor": "white",
            "ticks": ""
           },
           "bgcolor": "#E5ECF6",
           "caxis": {
            "gridcolor": "white",
            "linecolor": "white",
            "ticks": ""
           }
          },
          "title": {
           "x": 0.05
          },
          "xaxis": {
           "automargin": true,
           "gridcolor": "white",
           "linecolor": "white",
           "ticks": "",
           "title": {
            "standoff": 15
           },
           "zerolinecolor": "white",
           "zerolinewidth": 2
          },
          "yaxis": {
           "automargin": true,
           "gridcolor": "white",
           "linecolor": "white",
           "ticks": "",
           "title": {
            "standoff": 15
           },
           "zerolinecolor": "white",
           "zerolinewidth": 2
          }
         }
        },
        "title": {
         "text": "Top 11 des utilisateurs"
        },
        "xaxis": {
         "anchor": "y",
         "domain": [
          0,
          1
         ],
         "title": {
          "text": "Utilisateurs"
         }
        },
        "yaxis": {
         "anchor": "x",
         "domain": [
          0,
          1
         ],
         "title": {
          "text": "Nombre de tweets"
         }
        }
       }
      }
     },
     "metadata": {},
     "output_type": "display_data"
    },
    {
     "name": "stdout",
     "output_type": "stream",
     "text": [
      "Top 1 hashtag : #AI avec 168 occurrences\n",
      "Top 2 hashtag : #ArtificialIntelligence avec 144 occurrences\n",
      "Top 3 hashtag : #MachineLearning avec 77 occurrences\n",
      "Top 4 hashtag : #DataScience avec 47 occurrences\n",
      "Top 5 hashtag : #ai avec 43 occurrences\n",
      "Top 6 hashtag : #artificialintelligence avec 25 occurrences\n",
      "Top 7 hashtag : #BigData avec 21 occurrences\n",
      "Top 8 hashtag : #5G avec 20 occurrences\n",
      "Top 9 hashtag : #fintech avec 19 occurrences\n",
      "Top 10 hashtag : #Python avec 17 occurrences\n",
      "Top 11 hashtag : #learning avec 17 occurrences\n"
     ]
    },
    {
     "data": {
      "application/vnd.plotly.v1+json": {
       "config": {
        "plotlyServerURL": "https://plot.ly"
       },
       "data": [
        {
         "alignmentgroup": "True",
         "hovertemplate": "Hashtags=%{x}<br>Nombre d'utilisations=%{text}<extra></extra>",
         "legendgroup": "",
         "marker": {
          "color": "#636efa",
          "pattern": {
           "shape": ""
          }
         },
         "name": "",
         "offsetgroup": "",
         "orientation": "v",
         "showlegend": false,
         "text": [
          168,
          144,
          77,
          47,
          43,
          25,
          21,
          20,
          19,
          17,
          17
         ],
         "textposition": "auto",
         "type": "bar",
         "x": [
          "#AI",
          "#ArtificialIntelligence",
          "#MachineLearning",
          "#DataScience",
          "#ai",
          "#artificialintelligence",
          "#BigData",
          "#5G",
          "#fintech",
          "#Python",
          "#learning"
         ],
         "xaxis": "x",
         "y": [
          168,
          144,
          77,
          47,
          43,
          25,
          21,
          20,
          19,
          17,
          17
         ],
         "yaxis": "y"
        }
       ],
       "layout": {
        "barmode": "relative",
        "legend": {
         "tracegroupgap": 0
        },
        "template": {
         "data": {
          "bar": [
           {
            "error_x": {
             "color": "#2a3f5f"
            },
            "error_y": {
             "color": "#2a3f5f"
            },
            "marker": {
             "line": {
              "color": "#E5ECF6",
              "width": 0.5
             },
             "pattern": {
              "fillmode": "overlay",
              "size": 10,
              "solidity": 0.2
             }
            },
            "type": "bar"
           }
          ],
          "barpolar": [
           {
            "marker": {
             "line": {
              "color": "#E5ECF6",
              "width": 0.5
             },
             "pattern": {
              "fillmode": "overlay",
              "size": 10,
              "solidity": 0.2
             }
            },
            "type": "barpolar"
           }
          ],
          "carpet": [
           {
            "aaxis": {
             "endlinecolor": "#2a3f5f",
             "gridcolor": "white",
             "linecolor": "white",
             "minorgridcolor": "white",
             "startlinecolor": "#2a3f5f"
            },
            "baxis": {
             "endlinecolor": "#2a3f5f",
             "gridcolor": "white",
             "linecolor": "white",
             "minorgridcolor": "white",
             "startlinecolor": "#2a3f5f"
            },
            "type": "carpet"
           }
          ],
          "choropleth": [
           {
            "colorbar": {
             "outlinewidth": 0,
             "ticks": ""
            },
            "type": "choropleth"
           }
          ],
          "contour": [
           {
            "colorbar": {
             "outlinewidth": 0,
             "ticks": ""
            },
            "colorscale": [
             [
              0,
              "#0d0887"
             ],
             [
              0.1111111111111111,
              "#46039f"
             ],
             [
              0.2222222222222222,
              "#7201a8"
             ],
             [
              0.3333333333333333,
              "#9c179e"
             ],
             [
              0.4444444444444444,
              "#bd3786"
             ],
             [
              0.5555555555555556,
              "#d8576b"
             ],
             [
              0.6666666666666666,
              "#ed7953"
             ],
             [
              0.7777777777777778,
              "#fb9f3a"
             ],
             [
              0.8888888888888888,
              "#fdca26"
             ],
             [
              1,
              "#f0f921"
             ]
            ],
            "type": "contour"
           }
          ],
          "contourcarpet": [
           {
            "colorbar": {
             "outlinewidth": 0,
             "ticks": ""
            },
            "type": "contourcarpet"
           }
          ],
          "heatmap": [
           {
            "colorbar": {
             "outlinewidth": 0,
             "ticks": ""
            },
            "colorscale": [
             [
              0,
              "#0d0887"
             ],
             [
              0.1111111111111111,
              "#46039f"
             ],
             [
              0.2222222222222222,
              "#7201a8"
             ],
             [
              0.3333333333333333,
              "#9c179e"
             ],
             [
              0.4444444444444444,
              "#bd3786"
             ],
             [
              0.5555555555555556,
              "#d8576b"
             ],
             [
              0.6666666666666666,
              "#ed7953"
             ],
             [
              0.7777777777777778,
              "#fb9f3a"
             ],
             [
              0.8888888888888888,
              "#fdca26"
             ],
             [
              1,
              "#f0f921"
             ]
            ],
            "type": "heatmap"
           }
          ],
          "heatmapgl": [
           {
            "colorbar": {
             "outlinewidth": 0,
             "ticks": ""
            },
            "colorscale": [
             [
              0,
              "#0d0887"
             ],
             [
              0.1111111111111111,
              "#46039f"
             ],
             [
              0.2222222222222222,
              "#7201a8"
             ],
             [
              0.3333333333333333,
              "#9c179e"
             ],
             [
              0.4444444444444444,
              "#bd3786"
             ],
             [
              0.5555555555555556,
              "#d8576b"
             ],
             [
              0.6666666666666666,
              "#ed7953"
             ],
             [
              0.7777777777777778,
              "#fb9f3a"
             ],
             [
              0.8888888888888888,
              "#fdca26"
             ],
             [
              1,
              "#f0f921"
             ]
            ],
            "type": "heatmapgl"
           }
          ],
          "histogram": [
           {
            "marker": {
             "pattern": {
              "fillmode": "overlay",
              "size": 10,
              "solidity": 0.2
             }
            },
            "type": "histogram"
           }
          ],
          "histogram2d": [
           {
            "colorbar": {
             "outlinewidth": 0,
             "ticks": ""
            },
            "colorscale": [
             [
              0,
              "#0d0887"
             ],
             [
              0.1111111111111111,
              "#46039f"
             ],
             [
              0.2222222222222222,
              "#7201a8"
             ],
             [
              0.3333333333333333,
              "#9c179e"
             ],
             [
              0.4444444444444444,
              "#bd3786"
             ],
             [
              0.5555555555555556,
              "#d8576b"
             ],
             [
              0.6666666666666666,
              "#ed7953"
             ],
             [
              0.7777777777777778,
              "#fb9f3a"
             ],
             [
              0.8888888888888888,
              "#fdca26"
             ],
             [
              1,
              "#f0f921"
             ]
            ],
            "type": "histogram2d"
           }
          ],
          "histogram2dcontour": [
           {
            "colorbar": {
             "outlinewidth": 0,
             "ticks": ""
            },
            "colorscale": [
             [
              0,
              "#0d0887"
             ],
             [
              0.1111111111111111,
              "#46039f"
             ],
             [
              0.2222222222222222,
              "#7201a8"
             ],
             [
              0.3333333333333333,
              "#9c179e"
             ],
             [
              0.4444444444444444,
              "#bd3786"
             ],
             [
              0.5555555555555556,
              "#d8576b"
             ],
             [
              0.6666666666666666,
              "#ed7953"
             ],
             [
              0.7777777777777778,
              "#fb9f3a"
             ],
             [
              0.8888888888888888,
              "#fdca26"
             ],
             [
              1,
              "#f0f921"
             ]
            ],
            "type": "histogram2dcontour"
           }
          ],
          "mesh3d": [
           {
            "colorbar": {
             "outlinewidth": 0,
             "ticks": ""
            },
            "type": "mesh3d"
           }
          ],
          "parcoords": [
           {
            "line": {
             "colorbar": {
              "outlinewidth": 0,
              "ticks": ""
             }
            },
            "type": "parcoords"
           }
          ],
          "pie": [
           {
            "automargin": true,
            "type": "pie"
           }
          ],
          "scatter": [
           {
            "fillpattern": {
             "fillmode": "overlay",
             "size": 10,
             "solidity": 0.2
            },
            "type": "scatter"
           }
          ],
          "scatter3d": [
           {
            "line": {
             "colorbar": {
              "outlinewidth": 0,
              "ticks": ""
             }
            },
            "marker": {
             "colorbar": {
              "outlinewidth": 0,
              "ticks": ""
             }
            },
            "type": "scatter3d"
           }
          ],
          "scattercarpet": [
           {
            "marker": {
             "colorbar": {
              "outlinewidth": 0,
              "ticks": ""
             }
            },
            "type": "scattercarpet"
           }
          ],
          "scattergeo": [
           {
            "marker": {
             "colorbar": {
              "outlinewidth": 0,
              "ticks": ""
             }
            },
            "type": "scattergeo"
           }
          ],
          "scattergl": [
           {
            "marker": {
             "colorbar": {
              "outlinewidth": 0,
              "ticks": ""
             }
            },
            "type": "scattergl"
           }
          ],
          "scattermapbox": [
           {
            "marker": {
             "colorbar": {
              "outlinewidth": 0,
              "ticks": ""
             }
            },
            "type": "scattermapbox"
           }
          ],
          "scatterpolar": [
           {
            "marker": {
             "colorbar": {
              "outlinewidth": 0,
              "ticks": ""
             }
            },
            "type": "scatterpolar"
           }
          ],
          "scatterpolargl": [
           {
            "marker": {
             "colorbar": {
              "outlinewidth": 0,
              "ticks": ""
             }
            },
            "type": "scatterpolargl"
           }
          ],
          "scatterternary": [
           {
            "marker": {
             "colorbar": {
              "outlinewidth": 0,
              "ticks": ""
             }
            },
            "type": "scatterternary"
           }
          ],
          "surface": [
           {
            "colorbar": {
             "outlinewidth": 0,
             "ticks": ""
            },
            "colorscale": [
             [
              0,
              "#0d0887"
             ],
             [
              0.1111111111111111,
              "#46039f"
             ],
             [
              0.2222222222222222,
              "#7201a8"
             ],
             [
              0.3333333333333333,
              "#9c179e"
             ],
             [
              0.4444444444444444,
              "#bd3786"
             ],
             [
              0.5555555555555556,
              "#d8576b"
             ],
             [
              0.6666666666666666,
              "#ed7953"
             ],
             [
              0.7777777777777778,
              "#fb9f3a"
             ],
             [
              0.8888888888888888,
              "#fdca26"
             ],
             [
              1,
              "#f0f921"
             ]
            ],
            "type": "surface"
           }
          ],
          "table": [
           {
            "cells": {
             "fill": {
              "color": "#EBF0F8"
             },
             "line": {
              "color": "white"
             }
            },
            "header": {
             "fill": {
              "color": "#C8D4E3"
             },
             "line": {
              "color": "white"
             }
            },
            "type": "table"
           }
          ]
         },
         "layout": {
          "annotationdefaults": {
           "arrowcolor": "#2a3f5f",
           "arrowhead": 0,
           "arrowwidth": 1
          },
          "autotypenumbers": "strict",
          "coloraxis": {
           "colorbar": {
            "outlinewidth": 0,
            "ticks": ""
           }
          },
          "colorscale": {
           "diverging": [
            [
             0,
             "#8e0152"
            ],
            [
             0.1,
             "#c51b7d"
            ],
            [
             0.2,
             "#de77ae"
            ],
            [
             0.3,
             "#f1b6da"
            ],
            [
             0.4,
             "#fde0ef"
            ],
            [
             0.5,
             "#f7f7f7"
            ],
            [
             0.6,
             "#e6f5d0"
            ],
            [
             0.7,
             "#b8e186"
            ],
            [
             0.8,
             "#7fbc41"
            ],
            [
             0.9,
             "#4d9221"
            ],
            [
             1,
             "#276419"
            ]
           ],
           "sequential": [
            [
             0,
             "#0d0887"
            ],
            [
             0.1111111111111111,
             "#46039f"
            ],
            [
             0.2222222222222222,
             "#7201a8"
            ],
            [
             0.3333333333333333,
             "#9c179e"
            ],
            [
             0.4444444444444444,
             "#bd3786"
            ],
            [
             0.5555555555555556,
             "#d8576b"
            ],
            [
             0.6666666666666666,
             "#ed7953"
            ],
            [
             0.7777777777777778,
             "#fb9f3a"
            ],
            [
             0.8888888888888888,
             "#fdca26"
            ],
            [
             1,
             "#f0f921"
            ]
           ],
           "sequentialminus": [
            [
             0,
             "#0d0887"
            ],
            [
             0.1111111111111111,
             "#46039f"
            ],
            [
             0.2222222222222222,
             "#7201a8"
            ],
            [
             0.3333333333333333,
             "#9c179e"
            ],
            [
             0.4444444444444444,
             "#bd3786"
            ],
            [
             0.5555555555555556,
             "#d8576b"
            ],
            [
             0.6666666666666666,
             "#ed7953"
            ],
            [
             0.7777777777777778,
             "#fb9f3a"
            ],
            [
             0.8888888888888888,
             "#fdca26"
            ],
            [
             1,
             "#f0f921"
            ]
           ]
          },
          "colorway": [
           "#636efa",
           "#EF553B",
           "#00cc96",
           "#ab63fa",
           "#FFA15A",
           "#19d3f3",
           "#FF6692",
           "#B6E880",
           "#FF97FF",
           "#FECB52"
          ],
          "font": {
           "color": "#2a3f5f"
          },
          "geo": {
           "bgcolor": "white",
           "lakecolor": "white",
           "landcolor": "#E5ECF6",
           "showlakes": true,
           "showland": true,
           "subunitcolor": "white"
          },
          "hoverlabel": {
           "align": "left"
          },
          "hovermode": "closest",
          "mapbox": {
           "style": "light"
          },
          "paper_bgcolor": "white",
          "plot_bgcolor": "#E5ECF6",
          "polar": {
           "angularaxis": {
            "gridcolor": "white",
            "linecolor": "white",
            "ticks": ""
           },
           "bgcolor": "#E5ECF6",
           "radialaxis": {
            "gridcolor": "white",
            "linecolor": "white",
            "ticks": ""
           }
          },
          "scene": {
           "xaxis": {
            "backgroundcolor": "#E5ECF6",
            "gridcolor": "white",
            "gridwidth": 2,
            "linecolor": "white",
            "showbackground": true,
            "ticks": "",
            "zerolinecolor": "white"
           },
           "yaxis": {
            "backgroundcolor": "#E5ECF6",
            "gridcolor": "white",
            "gridwidth": 2,
            "linecolor": "white",
            "showbackground": true,
            "ticks": "",
            "zerolinecolor": "white"
           },
           "zaxis": {
            "backgroundcolor": "#E5ECF6",
            "gridcolor": "white",
            "gridwidth": 2,
            "linecolor": "white",
            "showbackground": true,
            "ticks": "",
            "zerolinecolor": "white"
           }
          },
          "shapedefaults": {
           "line": {
            "color": "#2a3f5f"
           }
          },
          "ternary": {
           "aaxis": {
            "gridcolor": "white",
            "linecolor": "white",
            "ticks": ""
           },
           "baxis": {
            "gridcolor": "white",
            "linecolor": "white",
            "ticks": ""
           },
           "bgcolor": "#E5ECF6",
           "caxis": {
            "gridcolor": "white",
            "linecolor": "white",
            "ticks": ""
           }
          },
          "title": {
           "x": 0.05
          },
          "xaxis": {
           "automargin": true,
           "gridcolor": "white",
           "linecolor": "white",
           "ticks": "",
           "title": {
            "standoff": 15
           },
           "zerolinecolor": "white",
           "zerolinewidth": 2
          },
          "yaxis": {
           "automargin": true,
           "gridcolor": "white",
           "linecolor": "white",
           "ticks": "",
           "title": {
            "standoff": 15
           },
           "zerolinecolor": "white",
           "zerolinewidth": 2
          }
         }
        },
        "title": {
         "text": "Top 11 des hashtags"
        },
        "xaxis": {
         "anchor": "y",
         "domain": [
          0,
          1
         ],
         "title": {
          "text": "Hashtags"
         }
        },
        "yaxis": {
         "anchor": "x",
         "domain": [
          0,
          1
         ],
         "title": {
          "text": "Nombre d'utilisations"
         }
        }
       }
      }
     },
     "metadata": {},
     "output_type": "display_data"
    },
    {
     "name": "stdout",
     "output_type": "stream",
     "text": [
      "Top 1 utilisateur mentionné : @IainLJBrown avec 112 mentions\n",
      "Top 2 utilisateur mentionné : @Paula_Piccard avec 49 mentions\n",
      "Top 3 utilisateur mentionné : @nigewillson avec 24 mentions\n",
      "Top 4 utilisateur mentionné : @machinelearnTec avec 17 mentions\n",
      "Top 5 utilisateur mentionné : @akbarth3great avec 17 mentions\n",
      "Top 6 utilisateur mentionné : @sankrant avec 17 mentions\n",
      "Top 7 utilisateur mentionné : @machinelearnflx avec 16 mentions\n",
      "Top 8 utilisateur mentionné : @SpirosMargaris avec 16 mentions\n",
      "Top 9 utilisateur mentionné : @JoshuaBarbeau avec 16 mentions\n",
      "Top 10 utilisateur mentionné : @Datascience__ avec 15 mentions\n",
      "Top 11 utilisateur mentionné : @byLilyV avec 13 mentions\n"
     ]
    },
    {
     "data": {
      "application/vnd.plotly.v1+json": {
       "config": {
        "plotlyServerURL": "https://plot.ly"
       },
       "data": [
        {
         "alignmentgroup": "True",
         "hovertemplate": "Utilisateurs mentionnés=%{x}<br>Nombre de mentions=%{text}<extra></extra>",
         "legendgroup": "",
         "marker": {
          "color": "#636efa",
          "pattern": {
           "shape": ""
          }
         },
         "name": "",
         "offsetgroup": "",
         "orientation": "v",
         "showlegend": false,
         "text": [
          112,
          49,
          24,
          17,
          17,
          17,
          16,
          16,
          16,
          15,
          13
         ],
         "textposition": "auto",
         "type": "bar",
         "x": [
          "@IainLJBrown",
          "@Paula_Piccard",
          "@nigewillson",
          "@machinelearnTec",
          "@akbarth3great",
          "@sankrant",
          "@machinelearnflx",
          "@SpirosMargaris",
          "@JoshuaBarbeau",
          "@Datascience__",
          "@byLilyV"
         ],
         "xaxis": "x",
         "y": [
          112,
          49,
          24,
          17,
          17,
          17,
          16,
          16,
          16,
          15,
          13
         ],
         "yaxis": "y"
        }
       ],
       "layout": {
        "barmode": "relative",
        "legend": {
         "tracegroupgap": 0
        },
        "template": {
         "data": {
          "bar": [
           {
            "error_x": {
             "color": "#2a3f5f"
            },
            "error_y": {
             "color": "#2a3f5f"
            },
            "marker": {
             "line": {
              "color": "#E5ECF6",
              "width": 0.5
             },
             "pattern": {
              "fillmode": "overlay",
              "size": 10,
              "solidity": 0.2
             }
            },
            "type": "bar"
           }
          ],
          "barpolar": [
           {
            "marker": {
             "line": {
              "color": "#E5ECF6",
              "width": 0.5
             },
             "pattern": {
              "fillmode": "overlay",
              "size": 10,
              "solidity": 0.2
             }
            },
            "type": "barpolar"
           }
          ],
          "carpet": [
           {
            "aaxis": {
             "endlinecolor": "#2a3f5f",
             "gridcolor": "white",
             "linecolor": "white",
             "minorgridcolor": "white",
             "startlinecolor": "#2a3f5f"
            },
            "baxis": {
             "endlinecolor": "#2a3f5f",
             "gridcolor": "white",
             "linecolor": "white",
             "minorgridcolor": "white",
             "startlinecolor": "#2a3f5f"
            },
            "type": "carpet"
           }
          ],
          "choropleth": [
           {
            "colorbar": {
             "outlinewidth": 0,
             "ticks": ""
            },
            "type": "choropleth"
           }
          ],
          "contour": [
           {
            "colorbar": {
             "outlinewidth": 0,
             "ticks": ""
            },
            "colorscale": [
             [
              0,
              "#0d0887"
             ],
             [
              0.1111111111111111,
              "#46039f"
             ],
             [
              0.2222222222222222,
              "#7201a8"
             ],
             [
              0.3333333333333333,
              "#9c179e"
             ],
             [
              0.4444444444444444,
              "#bd3786"
             ],
             [
              0.5555555555555556,
              "#d8576b"
             ],
             [
              0.6666666666666666,
              "#ed7953"
             ],
             [
              0.7777777777777778,
              "#fb9f3a"
             ],
             [
              0.8888888888888888,
              "#fdca26"
             ],
             [
              1,
              "#f0f921"
             ]
            ],
            "type": "contour"
           }
          ],
          "contourcarpet": [
           {
            "colorbar": {
             "outlinewidth": 0,
             "ticks": ""
            },
            "type": "contourcarpet"
           }
          ],
          "heatmap": [
           {
            "colorbar": {
             "outlinewidth": 0,
             "ticks": ""
            },
            "colorscale": [
             [
              0,
              "#0d0887"
             ],
             [
              0.1111111111111111,
              "#46039f"
             ],
             [
              0.2222222222222222,
              "#7201a8"
             ],
             [
              0.3333333333333333,
              "#9c179e"
             ],
             [
              0.4444444444444444,
              "#bd3786"
             ],
             [
              0.5555555555555556,
              "#d8576b"
             ],
             [
              0.6666666666666666,
              "#ed7953"
             ],
             [
              0.7777777777777778,
              "#fb9f3a"
             ],
             [
              0.8888888888888888,
              "#fdca26"
             ],
             [
              1,
              "#f0f921"
             ]
            ],
            "type": "heatmap"
           }
          ],
          "heatmapgl": [
           {
            "colorbar": {
             "outlinewidth": 0,
             "ticks": ""
            },
            "colorscale": [
             [
              0,
              "#0d0887"
             ],
             [
              0.1111111111111111,
              "#46039f"
             ],
             [
              0.2222222222222222,
              "#7201a8"
             ],
             [
              0.3333333333333333,
              "#9c179e"
             ],
             [
              0.4444444444444444,
              "#bd3786"
             ],
             [
              0.5555555555555556,
              "#d8576b"
             ],
             [
              0.6666666666666666,
              "#ed7953"
             ],
             [
              0.7777777777777778,
              "#fb9f3a"
             ],
             [
              0.8888888888888888,
              "#fdca26"
             ],
             [
              1,
              "#f0f921"
             ]
            ],
            "type": "heatmapgl"
           }
          ],
          "histogram": [
           {
            "marker": {
             "pattern": {
              "fillmode": "overlay",
              "size": 10,
              "solidity": 0.2
             }
            },
            "type": "histogram"
           }
          ],
          "histogram2d": [
           {
            "colorbar": {
             "outlinewidth": 0,
             "ticks": ""
            },
            "colorscale": [
             [
              0,
              "#0d0887"
             ],
             [
              0.1111111111111111,
              "#46039f"
             ],
             [
              0.2222222222222222,
              "#7201a8"
             ],
             [
              0.3333333333333333,
              "#9c179e"
             ],
             [
              0.4444444444444444,
              "#bd3786"
             ],
             [
              0.5555555555555556,
              "#d8576b"
             ],
             [
              0.6666666666666666,
              "#ed7953"
             ],
             [
              0.7777777777777778,
              "#fb9f3a"
             ],
             [
              0.8888888888888888,
              "#fdca26"
             ],
             [
              1,
              "#f0f921"
             ]
            ],
            "type": "histogram2d"
           }
          ],
          "histogram2dcontour": [
           {
            "colorbar": {
             "outlinewidth": 0,
             "ticks": ""
            },
            "colorscale": [
             [
              0,
              "#0d0887"
             ],
             [
              0.1111111111111111,
              "#46039f"
             ],
             [
              0.2222222222222222,
              "#7201a8"
             ],
             [
              0.3333333333333333,
              "#9c179e"
             ],
             [
              0.4444444444444444,
              "#bd3786"
             ],
             [
              0.5555555555555556,
              "#d8576b"
             ],
             [
              0.6666666666666666,
              "#ed7953"
             ],
             [
              0.7777777777777778,
              "#fb9f3a"
             ],
             [
              0.8888888888888888,
              "#fdca26"
             ],
             [
              1,
              "#f0f921"
             ]
            ],
            "type": "histogram2dcontour"
           }
          ],
          "mesh3d": [
           {
            "colorbar": {
             "outlinewidth": 0,
             "ticks": ""
            },
            "type": "mesh3d"
           }
          ],
          "parcoords": [
           {
            "line": {
             "colorbar": {
              "outlinewidth": 0,
              "ticks": ""
             }
            },
            "type": "parcoords"
           }
          ],
          "pie": [
           {
            "automargin": true,
            "type": "pie"
           }
          ],
          "scatter": [
           {
            "fillpattern": {
             "fillmode": "overlay",
             "size": 10,
             "solidity": 0.2
            },
            "type": "scatter"
           }
          ],
          "scatter3d": [
           {
            "line": {
             "colorbar": {
              "outlinewidth": 0,
              "ticks": ""
             }
            },
            "marker": {
             "colorbar": {
              "outlinewidth": 0,
              "ticks": ""
             }
            },
            "type": "scatter3d"
           }
          ],
          "scattercarpet": [
           {
            "marker": {
             "colorbar": {
              "outlinewidth": 0,
              "ticks": ""
             }
            },
            "type": "scattercarpet"
           }
          ],
          "scattergeo": [
           {
            "marker": {
             "colorbar": {
              "outlinewidth": 0,
              "ticks": ""
             }
            },
            "type": "scattergeo"
           }
          ],
          "scattergl": [
           {
            "marker": {
             "colorbar": {
              "outlinewidth": 0,
              "ticks": ""
             }
            },
            "type": "scattergl"
           }
          ],
          "scattermapbox": [
           {
            "marker": {
             "colorbar": {
              "outlinewidth": 0,
              "ticks": ""
             }
            },
            "type": "scattermapbox"
           }
          ],
          "scatterpolar": [
           {
            "marker": {
             "colorbar": {
              "outlinewidth": 0,
              "ticks": ""
             }
            },
            "type": "scatterpolar"
           }
          ],
          "scatterpolargl": [
           {
            "marker": {
             "colorbar": {
              "outlinewidth": 0,
              "ticks": ""
             }
            },
            "type": "scatterpolargl"
           }
          ],
          "scatterternary": [
           {
            "marker": {
             "colorbar": {
              "outlinewidth": 0,
              "ticks": ""
             }
            },
            "type": "scatterternary"
           }
          ],
          "surface": [
           {
            "colorbar": {
             "outlinewidth": 0,
             "ticks": ""
            },
            "colorscale": [
             [
              0,
              "#0d0887"
             ],
             [
              0.1111111111111111,
              "#46039f"
             ],
             [
              0.2222222222222222,
              "#7201a8"
             ],
             [
              0.3333333333333333,
              "#9c179e"
             ],
             [
              0.4444444444444444,
              "#bd3786"
             ],
             [
              0.5555555555555556,
              "#d8576b"
             ],
             [
              0.6666666666666666,
              "#ed7953"
             ],
             [
              0.7777777777777778,
              "#fb9f3a"
             ],
             [
              0.8888888888888888,
              "#fdca26"
             ],
             [
              1,
              "#f0f921"
             ]
            ],
            "type": "surface"
           }
          ],
          "table": [
           {
            "cells": {
             "fill": {
              "color": "#EBF0F8"
             },
             "line": {
              "color": "white"
             }
            },
            "header": {
             "fill": {
              "color": "#C8D4E3"
             },
             "line": {
              "color": "white"
             }
            },
            "type": "table"
           }
          ]
         },
         "layout": {
          "annotationdefaults": {
           "arrowcolor": "#2a3f5f",
           "arrowhead": 0,
           "arrowwidth": 1
          },
          "autotypenumbers": "strict",
          "coloraxis": {
           "colorbar": {
            "outlinewidth": 0,
            "ticks": ""
           }
          },
          "colorscale": {
           "diverging": [
            [
             0,
             "#8e0152"
            ],
            [
             0.1,
             "#c51b7d"
            ],
            [
             0.2,
             "#de77ae"
            ],
            [
             0.3,
             "#f1b6da"
            ],
            [
             0.4,
             "#fde0ef"
            ],
            [
             0.5,
             "#f7f7f7"
            ],
            [
             0.6,
             "#e6f5d0"
            ],
            [
             0.7,
             "#b8e186"
            ],
            [
             0.8,
             "#7fbc41"
            ],
            [
             0.9,
             "#4d9221"
            ],
            [
             1,
             "#276419"
            ]
           ],
           "sequential": [
            [
             0,
             "#0d0887"
            ],
            [
             0.1111111111111111,
             "#46039f"
            ],
            [
             0.2222222222222222,
             "#7201a8"
            ],
            [
             0.3333333333333333,
             "#9c179e"
            ],
            [
             0.4444444444444444,
             "#bd3786"
            ],
            [
             0.5555555555555556,
             "#d8576b"
            ],
            [
             0.6666666666666666,
             "#ed7953"
            ],
            [
             0.7777777777777778,
             "#fb9f3a"
            ],
            [
             0.8888888888888888,
             "#fdca26"
            ],
            [
             1,
             "#f0f921"
            ]
           ],
           "sequentialminus": [
            [
             0,
             "#0d0887"
            ],
            [
             0.1111111111111111,
             "#46039f"
            ],
            [
             0.2222222222222222,
             "#7201a8"
            ],
            [
             0.3333333333333333,
             "#9c179e"
            ],
            [
             0.4444444444444444,
             "#bd3786"
            ],
            [
             0.5555555555555556,
             "#d8576b"
            ],
            [
             0.6666666666666666,
             "#ed7953"
            ],
            [
             0.7777777777777778,
             "#fb9f3a"
            ],
            [
             0.8888888888888888,
             "#fdca26"
            ],
            [
             1,
             "#f0f921"
            ]
           ]
          },
          "colorway": [
           "#636efa",
           "#EF553B",
           "#00cc96",
           "#ab63fa",
           "#FFA15A",
           "#19d3f3",
           "#FF6692",
           "#B6E880",
           "#FF97FF",
           "#FECB52"
          ],
          "font": {
           "color": "#2a3f5f"
          },
          "geo": {
           "bgcolor": "white",
           "lakecolor": "white",
           "landcolor": "#E5ECF6",
           "showlakes": true,
           "showland": true,
           "subunitcolor": "white"
          },
          "hoverlabel": {
           "align": "left"
          },
          "hovermode": "closest",
          "mapbox": {
           "style": "light"
          },
          "paper_bgcolor": "white",
          "plot_bgcolor": "#E5ECF6",
          "polar": {
           "angularaxis": {
            "gridcolor": "white",
            "linecolor": "white",
            "ticks": ""
           },
           "bgcolor": "#E5ECF6",
           "radialaxis": {
            "gridcolor": "white",
            "linecolor": "white",
            "ticks": ""
           }
          },
          "scene": {
           "xaxis": {
            "backgroundcolor": "#E5ECF6",
            "gridcolor": "white",
            "gridwidth": 2,
            "linecolor": "white",
            "showbackground": true,
            "ticks": "",
            "zerolinecolor": "white"
           },
           "yaxis": {
            "backgroundcolor": "#E5ECF6",
            "gridcolor": "white",
            "gridwidth": 2,
            "linecolor": "white",
            "showbackground": true,
            "ticks": "",
            "zerolinecolor": "white"
           },
           "zaxis": {
            "backgroundcolor": "#E5ECF6",
            "gridcolor": "white",
            "gridwidth": 2,
            "linecolor": "white",
            "showbackground": true,
            "ticks": "",
            "zerolinecolor": "white"
           }
          },
          "shapedefaults": {
           "line": {
            "color": "#2a3f5f"
           }
          },
          "ternary": {
           "aaxis": {
            "gridcolor": "white",
            "linecolor": "white",
            "ticks": ""
           },
           "baxis": {
            "gridcolor": "white",
            "linecolor": "white",
            "ticks": ""
           },
           "bgcolor": "#E5ECF6",
           "caxis": {
            "gridcolor": "white",
            "linecolor": "white",
            "ticks": ""
           }
          },
          "title": {
           "x": 0.05
          },
          "xaxis": {
           "automargin": true,
           "gridcolor": "white",
           "linecolor": "white",
           "ticks": "",
           "title": {
            "standoff": 15
           },
           "zerolinecolor": "white",
           "zerolinewidth": 2
          },
          "yaxis": {
           "automargin": true,
           "gridcolor": "white",
           "linecolor": "white",
           "ticks": "",
           "title": {
            "standoff": 15
           },
           "zerolinecolor": "white",
           "zerolinewidth": 2
          }
         }
        },
        "title": {
         "text": "Top 11 des utilisateur mentionnés"
        },
        "xaxis": {
         "anchor": "y",
         "domain": [
          0,
          1
         ],
         "title": {
          "text": "Utilisateurs mentionnés"
         }
        },
        "yaxis": {
         "anchor": "x",
         "domain": [
          0,
          1
         ],
         "title": {
          "text": "Nombre de mentions"
         }
        }
       }
      }
     },
     "metadata": {},
     "output_type": "display_data"
    },
    {
     "name": "stdout",
     "output_type": "stream",
     "text": [
      "Top 1 sujets de discussions : artificial intelligence avec 1017 mentions\n",
      "Top 2 sujets de discussions : machine learning avec 228 mentions\n",
      "Top 3 sujets de discussions : data avec 157 mentions\n",
      "Top 4 sujets de discussions : programmation avec 93 mentions\n",
      "Top 5 sujets de discussions : machinelearning avec 89 mentions\n",
      "Top 6 sujets de discussions : datascience avec 56 mentions\n",
      "Top 7 sujets de discussions : bigdata avec 27 mentions\n",
      "Top 8 sujets de discussions : ml avec 26 mentions\n",
      "Top 9 sujets de discussions : python avec 20 mentions\n",
      "Top 10 sujets de discussions : fintech avec 20 mentions\n",
      "Top 11 sujets de discussions : 5g avec 20 mentions\n"
     ]
    },
    {
     "data": {
      "application/vnd.plotly.v1+json": {
       "config": {
        "plotlyServerURL": "https://plot.ly"
       },
       "data": [
        {
         "alignmentgroup": "True",
         "hovertemplate": "topics mentionnés=%{x}<br>Nombre de mentions=%{text}<extra></extra>",
         "legendgroup": "",
         "marker": {
          "color": "#636efa",
          "pattern": {
           "shape": ""
          }
         },
         "name": "",
         "offsetgroup": "",
         "orientation": "v",
         "showlegend": false,
         "text": [
          1017,
          228,
          157,
          93,
          89,
          56,
          27,
          26,
          20,
          20,
          20
         ],
         "textposition": "auto",
         "type": "bar",
         "x": [
          "artificial intelligence",
          "machine learning",
          "data",
          "programmation",
          "machinelearning",
          "datascience",
          "bigdata",
          "ml",
          "python",
          "fintech",
          "5g"
         ],
         "xaxis": "x",
         "y": [
          1017,
          228,
          157,
          93,
          89,
          56,
          27,
          26,
          20,
          20,
          20
         ],
         "yaxis": "y"
        }
       ],
       "layout": {
        "barmode": "relative",
        "legend": {
         "tracegroupgap": 0
        },
        "template": {
         "data": {
          "bar": [
           {
            "error_x": {
             "color": "#2a3f5f"
            },
            "error_y": {
             "color": "#2a3f5f"
            },
            "marker": {
             "line": {
              "color": "#E5ECF6",
              "width": 0.5
             },
             "pattern": {
              "fillmode": "overlay",
              "size": 10,
              "solidity": 0.2
             }
            },
            "type": "bar"
           }
          ],
          "barpolar": [
           {
            "marker": {
             "line": {
              "color": "#E5ECF6",
              "width": 0.5
             },
             "pattern": {
              "fillmode": "overlay",
              "size": 10,
              "solidity": 0.2
             }
            },
            "type": "barpolar"
           }
          ],
          "carpet": [
           {
            "aaxis": {
             "endlinecolor": "#2a3f5f",
             "gridcolor": "white",
             "linecolor": "white",
             "minorgridcolor": "white",
             "startlinecolor": "#2a3f5f"
            },
            "baxis": {
             "endlinecolor": "#2a3f5f",
             "gridcolor": "white",
             "linecolor": "white",
             "minorgridcolor": "white",
             "startlinecolor": "#2a3f5f"
            },
            "type": "carpet"
           }
          ],
          "choropleth": [
           {
            "colorbar": {
             "outlinewidth": 0,
             "ticks": ""
            },
            "type": "choropleth"
           }
          ],
          "contour": [
           {
            "colorbar": {
             "outlinewidth": 0,
             "ticks": ""
            },
            "colorscale": [
             [
              0,
              "#0d0887"
             ],
             [
              0.1111111111111111,
              "#46039f"
             ],
             [
              0.2222222222222222,
              "#7201a8"
             ],
             [
              0.3333333333333333,
              "#9c179e"
             ],
             [
              0.4444444444444444,
              "#bd3786"
             ],
             [
              0.5555555555555556,
              "#d8576b"
             ],
             [
              0.6666666666666666,
              "#ed7953"
             ],
             [
              0.7777777777777778,
              "#fb9f3a"
             ],
             [
              0.8888888888888888,
              "#fdca26"
             ],
             [
              1,
              "#f0f921"
             ]
            ],
            "type": "contour"
           }
          ],
          "contourcarpet": [
           {
            "colorbar": {
             "outlinewidth": 0,
             "ticks": ""
            },
            "type": "contourcarpet"
           }
          ],
          "heatmap": [
           {
            "colorbar": {
             "outlinewidth": 0,
             "ticks": ""
            },
            "colorscale": [
             [
              0,
              "#0d0887"
             ],
             [
              0.1111111111111111,
              "#46039f"
             ],
             [
              0.2222222222222222,
              "#7201a8"
             ],
             [
              0.3333333333333333,
              "#9c179e"
             ],
             [
              0.4444444444444444,
              "#bd3786"
             ],
             [
              0.5555555555555556,
              "#d8576b"
             ],
             [
              0.6666666666666666,
              "#ed7953"
             ],
             [
              0.7777777777777778,
              "#fb9f3a"
             ],
             [
              0.8888888888888888,
              "#fdca26"
             ],
             [
              1,
              "#f0f921"
             ]
            ],
            "type": "heatmap"
           }
          ],
          "heatmapgl": [
           {
            "colorbar": {
             "outlinewidth": 0,
             "ticks": ""
            },
            "colorscale": [
             [
              0,
              "#0d0887"
             ],
             [
              0.1111111111111111,
              "#46039f"
             ],
             [
              0.2222222222222222,
              "#7201a8"
             ],
             [
              0.3333333333333333,
              "#9c179e"
             ],
             [
              0.4444444444444444,
              "#bd3786"
             ],
             [
              0.5555555555555556,
              "#d8576b"
             ],
             [
              0.6666666666666666,
              "#ed7953"
             ],
             [
              0.7777777777777778,
              "#fb9f3a"
             ],
             [
              0.8888888888888888,
              "#fdca26"
             ],
             [
              1,
              "#f0f921"
             ]
            ],
            "type": "heatmapgl"
           }
          ],
          "histogram": [
           {
            "marker": {
             "pattern": {
              "fillmode": "overlay",
              "size": 10,
              "solidity": 0.2
             }
            },
            "type": "histogram"
           }
          ],
          "histogram2d": [
           {
            "colorbar": {
             "outlinewidth": 0,
             "ticks": ""
            },
            "colorscale": [
             [
              0,
              "#0d0887"
             ],
             [
              0.1111111111111111,
              "#46039f"
             ],
             [
              0.2222222222222222,
              "#7201a8"
             ],
             [
              0.3333333333333333,
              "#9c179e"
             ],
             [
              0.4444444444444444,
              "#bd3786"
             ],
             [
              0.5555555555555556,
              "#d8576b"
             ],
             [
              0.6666666666666666,
              "#ed7953"
             ],
             [
              0.7777777777777778,
              "#fb9f3a"
             ],
             [
              0.8888888888888888,
              "#fdca26"
             ],
             [
              1,
              "#f0f921"
             ]
            ],
            "type": "histogram2d"
           }
          ],
          "histogram2dcontour": [
           {
            "colorbar": {
             "outlinewidth": 0,
             "ticks": ""
            },
            "colorscale": [
             [
              0,
              "#0d0887"
             ],
             [
              0.1111111111111111,
              "#46039f"
             ],
             [
              0.2222222222222222,
              "#7201a8"
             ],
             [
              0.3333333333333333,
              "#9c179e"
             ],
             [
              0.4444444444444444,
              "#bd3786"
             ],
             [
              0.5555555555555556,
              "#d8576b"
             ],
             [
              0.6666666666666666,
              "#ed7953"
             ],
             [
              0.7777777777777778,
              "#fb9f3a"
             ],
             [
              0.8888888888888888,
              "#fdca26"
             ],
             [
              1,
              "#f0f921"
             ]
            ],
            "type": "histogram2dcontour"
           }
          ],
          "mesh3d": [
           {
            "colorbar": {
             "outlinewidth": 0,
             "ticks": ""
            },
            "type": "mesh3d"
           }
          ],
          "parcoords": [
           {
            "line": {
             "colorbar": {
              "outlinewidth": 0,
              "ticks": ""
             }
            },
            "type": "parcoords"
           }
          ],
          "pie": [
           {
            "automargin": true,
            "type": "pie"
           }
          ],
          "scatter": [
           {
            "fillpattern": {
             "fillmode": "overlay",
             "size": 10,
             "solidity": 0.2
            },
            "type": "scatter"
           }
          ],
          "scatter3d": [
           {
            "line": {
             "colorbar": {
              "outlinewidth": 0,
              "ticks": ""
             }
            },
            "marker": {
             "colorbar": {
              "outlinewidth": 0,
              "ticks": ""
             }
            },
            "type": "scatter3d"
           }
          ],
          "scattercarpet": [
           {
            "marker": {
             "colorbar": {
              "outlinewidth": 0,
              "ticks": ""
             }
            },
            "type": "scattercarpet"
           }
          ],
          "scattergeo": [
           {
            "marker": {
             "colorbar": {
              "outlinewidth": 0,
              "ticks": ""
             }
            },
            "type": "scattergeo"
           }
          ],
          "scattergl": [
           {
            "marker": {
             "colorbar": {
              "outlinewidth": 0,
              "ticks": ""
             }
            },
            "type": "scattergl"
           }
          ],
          "scattermapbox": [
           {
            "marker": {
             "colorbar": {
              "outlinewidth": 0,
              "ticks": ""
             }
            },
            "type": "scattermapbox"
           }
          ],
          "scatterpolar": [
           {
            "marker": {
             "colorbar": {
              "outlinewidth": 0,
              "ticks": ""
             }
            },
            "type": "scatterpolar"
           }
          ],
          "scatterpolargl": [
           {
            "marker": {
             "colorbar": {
              "outlinewidth": 0,
              "ticks": ""
             }
            },
            "type": "scatterpolargl"
           }
          ],
          "scatterternary": [
           {
            "marker": {
             "colorbar": {
              "outlinewidth": 0,
              "ticks": ""
             }
            },
            "type": "scatterternary"
           }
          ],
          "surface": [
           {
            "colorbar": {
             "outlinewidth": 0,
             "ticks": ""
            },
            "colorscale": [
             [
              0,
              "#0d0887"
             ],
             [
              0.1111111111111111,
              "#46039f"
             ],
             [
              0.2222222222222222,
              "#7201a8"
             ],
             [
              0.3333333333333333,
              "#9c179e"
             ],
             [
              0.4444444444444444,
              "#bd3786"
             ],
             [
              0.5555555555555556,
              "#d8576b"
             ],
             [
              0.6666666666666666,
              "#ed7953"
             ],
             [
              0.7777777777777778,
              "#fb9f3a"
             ],
             [
              0.8888888888888888,
              "#fdca26"
             ],
             [
              1,
              "#f0f921"
             ]
            ],
            "type": "surface"
           }
          ],
          "table": [
           {
            "cells": {
             "fill": {
              "color": "#EBF0F8"
             },
             "line": {
              "color": "white"
             }
            },
            "header": {
             "fill": {
              "color": "#C8D4E3"
             },
             "line": {
              "color": "white"
             }
            },
            "type": "table"
           }
          ]
         },
         "layout": {
          "annotationdefaults": {
           "arrowcolor": "#2a3f5f",
           "arrowhead": 0,
           "arrowwidth": 1
          },
          "autotypenumbers": "strict",
          "coloraxis": {
           "colorbar": {
            "outlinewidth": 0,
            "ticks": ""
           }
          },
          "colorscale": {
           "diverging": [
            [
             0,
             "#8e0152"
            ],
            [
             0.1,
             "#c51b7d"
            ],
            [
             0.2,
             "#de77ae"
            ],
            [
             0.3,
             "#f1b6da"
            ],
            [
             0.4,
             "#fde0ef"
            ],
            [
             0.5,
             "#f7f7f7"
            ],
            [
             0.6,
             "#e6f5d0"
            ],
            [
             0.7,
             "#b8e186"
            ],
            [
             0.8,
             "#7fbc41"
            ],
            [
             0.9,
             "#4d9221"
            ],
            [
             1,
             "#276419"
            ]
           ],
           "sequential": [
            [
             0,
             "#0d0887"
            ],
            [
             0.1111111111111111,
             "#46039f"
            ],
            [
             0.2222222222222222,
             "#7201a8"
            ],
            [
             0.3333333333333333,
             "#9c179e"
            ],
            [
             0.4444444444444444,
             "#bd3786"
            ],
            [
             0.5555555555555556,
             "#d8576b"
            ],
            [
             0.6666666666666666,
             "#ed7953"
            ],
            [
             0.7777777777777778,
             "#fb9f3a"
            ],
            [
             0.8888888888888888,
             "#fdca26"
            ],
            [
             1,
             "#f0f921"
            ]
           ],
           "sequentialminus": [
            [
             0,
             "#0d0887"
            ],
            [
             0.1111111111111111,
             "#46039f"
            ],
            [
             0.2222222222222222,
             "#7201a8"
            ],
            [
             0.3333333333333333,
             "#9c179e"
            ],
            [
             0.4444444444444444,
             "#bd3786"
            ],
            [
             0.5555555555555556,
             "#d8576b"
            ],
            [
             0.6666666666666666,
             "#ed7953"
            ],
            [
             0.7777777777777778,
             "#fb9f3a"
            ],
            [
             0.8888888888888888,
             "#fdca26"
            ],
            [
             1,
             "#f0f921"
            ]
           ]
          },
          "colorway": [
           "#636efa",
           "#EF553B",
           "#00cc96",
           "#ab63fa",
           "#FFA15A",
           "#19d3f3",
           "#FF6692",
           "#B6E880",
           "#FF97FF",
           "#FECB52"
          ],
          "font": {
           "color": "#2a3f5f"
          },
          "geo": {
           "bgcolor": "white",
           "lakecolor": "white",
           "landcolor": "#E5ECF6",
           "showlakes": true,
           "showland": true,
           "subunitcolor": "white"
          },
          "hoverlabel": {
           "align": "left"
          },
          "hovermode": "closest",
          "mapbox": {
           "style": "light"
          },
          "paper_bgcolor": "white",
          "plot_bgcolor": "#E5ECF6",
          "polar": {
           "angularaxis": {
            "gridcolor": "white",
            "linecolor": "white",
            "ticks": ""
           },
           "bgcolor": "#E5ECF6",
           "radialaxis": {
            "gridcolor": "white",
            "linecolor": "white",
            "ticks": ""
           }
          },
          "scene": {
           "xaxis": {
            "backgroundcolor": "#E5ECF6",
            "gridcolor": "white",
            "gridwidth": 2,
            "linecolor": "white",
            "showbackground": true,
            "ticks": "",
            "zerolinecolor": "white"
           },
           "yaxis": {
            "backgroundcolor": "#E5ECF6",
            "gridcolor": "white",
            "gridwidth": 2,
            "linecolor": "white",
            "showbackground": true,
            "ticks": "",
            "zerolinecolor": "white"
           },
           "zaxis": {
            "backgroundcolor": "#E5ECF6",
            "gridcolor": "white",
            "gridwidth": 2,
            "linecolor": "white",
            "showbackground": true,
            "ticks": "",
            "zerolinecolor": "white"
           }
          },
          "shapedefaults": {
           "line": {
            "color": "#2a3f5f"
           }
          },
          "ternary": {
           "aaxis": {
            "gridcolor": "white",
            "linecolor": "white",
            "ticks": ""
           },
           "baxis": {
            "gridcolor": "white",
            "linecolor": "white",
            "ticks": ""
           },
           "bgcolor": "#E5ECF6",
           "caxis": {
            "gridcolor": "white",
            "linecolor": "white",
            "ticks": ""
           }
          },
          "title": {
           "x": 0.05
          },
          "xaxis": {
           "automargin": true,
           "gridcolor": "white",
           "linecolor": "white",
           "ticks": "",
           "title": {
            "standoff": 15
           },
           "zerolinecolor": "white",
           "zerolinewidth": 2
          },
          "yaxis": {
           "automargin": true,
           "gridcolor": "white",
           "linecolor": "white",
           "ticks": "",
           "title": {
            "standoff": 15
           },
           "zerolinecolor": "white",
           "zerolinewidth": 2
          }
         }
        },
        "title": {
         "text": "Top 11 des sujets de discussionss"
        },
        "xaxis": {
         "anchor": "y",
         "domain": [
          0,
          1
         ],
         "title": {
          "text": "topics mentionnés"
         }
        },
        "yaxis": {
         "anchor": "x",
         "domain": [
          0,
          1
         ],
         "title": {
          "text": "Nombre de mentions"
         }
        }
       }
      }
     },
     "metadata": {},
     "output_type": "display_data"
    },
    {
     "data": {
      "application/vnd.plotly.v1+json": {
       "config": {
        "plotlyServerURL": "https://plot.ly"
       },
       "data": [
        {
         "alignmentgroup": "True",
         "hovertemplate": "topics mentionnés=%{x}<br>Nombre de mentions=%{text}<extra></extra>",
         "legendgroup": "",
         "marker": {
          "color": "#636efa",
          "pattern": {
           "shape": ""
          }
         },
         "name": "",
         "offsetgroup": "",
         "orientation": "v",
         "showlegend": false,
         "text": [
          1017,
          228,
          157,
          93,
          89,
          56,
          27,
          26,
          20,
          20,
          20
         ],
         "textposition": "auto",
         "type": "bar",
         "x": [
          "artificial intelligence",
          "machine learning",
          "data",
          "programmation",
          "machinelearning",
          "datascience",
          "bigdata",
          "ml",
          "python",
          "fintech",
          "5g"
         ],
         "xaxis": "x",
         "y": [
          1017,
          228,
          157,
          93,
          89,
          56,
          27,
          26,
          20,
          20,
          20
         ],
         "yaxis": "y"
        }
       ],
       "layout": {
        "barmode": "relative",
        "legend": {
         "tracegroupgap": 0
        },
        "template": {
         "data": {
          "bar": [
           {
            "error_x": {
             "color": "#2a3f5f"
            },
            "error_y": {
             "color": "#2a3f5f"
            },
            "marker": {
             "line": {
              "color": "#E5ECF6",
              "width": 0.5
             },
             "pattern": {
              "fillmode": "overlay",
              "size": 10,
              "solidity": 0.2
             }
            },
            "type": "bar"
           }
          ],
          "barpolar": [
           {
            "marker": {
             "line": {
              "color": "#E5ECF6",
              "width": 0.5
             },
             "pattern": {
              "fillmode": "overlay",
              "size": 10,
              "solidity": 0.2
             }
            },
            "type": "barpolar"
           }
          ],
          "carpet": [
           {
            "aaxis": {
             "endlinecolor": "#2a3f5f",
             "gridcolor": "white",
             "linecolor": "white",
             "minorgridcolor": "white",
             "startlinecolor": "#2a3f5f"
            },
            "baxis": {
             "endlinecolor": "#2a3f5f",
             "gridcolor": "white",
             "linecolor": "white",
             "minorgridcolor": "white",
             "startlinecolor": "#2a3f5f"
            },
            "type": "carpet"
           }
          ],
          "choropleth": [
           {
            "colorbar": {
             "outlinewidth": 0,
             "ticks": ""
            },
            "type": "choropleth"
           }
          ],
          "contour": [
           {
            "colorbar": {
             "outlinewidth": 0,
             "ticks": ""
            },
            "colorscale": [
             [
              0,
              "#0d0887"
             ],
             [
              0.1111111111111111,
              "#46039f"
             ],
             [
              0.2222222222222222,
              "#7201a8"
             ],
             [
              0.3333333333333333,
              "#9c179e"
             ],
             [
              0.4444444444444444,
              "#bd3786"
             ],
             [
              0.5555555555555556,
              "#d8576b"
             ],
             [
              0.6666666666666666,
              "#ed7953"
             ],
             [
              0.7777777777777778,
              "#fb9f3a"
             ],
             [
              0.8888888888888888,
              "#fdca26"
             ],
             [
              1,
              "#f0f921"
             ]
            ],
            "type": "contour"
           }
          ],
          "contourcarpet": [
           {
            "colorbar": {
             "outlinewidth": 0,
             "ticks": ""
            },
            "type": "contourcarpet"
           }
          ],
          "heatmap": [
           {
            "colorbar": {
             "outlinewidth": 0,
             "ticks": ""
            },
            "colorscale": [
             [
              0,
              "#0d0887"
             ],
             [
              0.1111111111111111,
              "#46039f"
             ],
             [
              0.2222222222222222,
              "#7201a8"
             ],
             [
              0.3333333333333333,
              "#9c179e"
             ],
             [
              0.4444444444444444,
              "#bd3786"
             ],
             [
              0.5555555555555556,
              "#d8576b"
             ],
             [
              0.6666666666666666,
              "#ed7953"
             ],
             [
              0.7777777777777778,
              "#fb9f3a"
             ],
             [
              0.8888888888888888,
              "#fdca26"
             ],
             [
              1,
              "#f0f921"
             ]
            ],
            "type": "heatmap"
           }
          ],
          "heatmapgl": [
           {
            "colorbar": {
             "outlinewidth": 0,
             "ticks": ""
            },
            "colorscale": [
             [
              0,
              "#0d0887"
             ],
             [
              0.1111111111111111,
              "#46039f"
             ],
             [
              0.2222222222222222,
              "#7201a8"
             ],
             [
              0.3333333333333333,
              "#9c179e"
             ],
             [
              0.4444444444444444,
              "#bd3786"
             ],
             [
              0.5555555555555556,
              "#d8576b"
             ],
             [
              0.6666666666666666,
              "#ed7953"
             ],
             [
              0.7777777777777778,
              "#fb9f3a"
             ],
             [
              0.8888888888888888,
              "#fdca26"
             ],
             [
              1,
              "#f0f921"
             ]
            ],
            "type": "heatmapgl"
           }
          ],
          "histogram": [
           {
            "marker": {
             "pattern": {
              "fillmode": "overlay",
              "size": 10,
              "solidity": 0.2
             }
            },
            "type": "histogram"
           }
          ],
          "histogram2d": [
           {
            "colorbar": {
             "outlinewidth": 0,
             "ticks": ""
            },
            "colorscale": [
             [
              0,
              "#0d0887"
             ],
             [
              0.1111111111111111,
              "#46039f"
             ],
             [
              0.2222222222222222,
              "#7201a8"
             ],
             [
              0.3333333333333333,
              "#9c179e"
             ],
             [
              0.4444444444444444,
              "#bd3786"
             ],
             [
              0.5555555555555556,
              "#d8576b"
             ],
             [
              0.6666666666666666,
              "#ed7953"
             ],
             [
              0.7777777777777778,
              "#fb9f3a"
             ],
             [
              0.8888888888888888,
              "#fdca26"
             ],
             [
              1,
              "#f0f921"
             ]
            ],
            "type": "histogram2d"
           }
          ],
          "histogram2dcontour": [
           {
            "colorbar": {
             "outlinewidth": 0,
             "ticks": ""
            },
            "colorscale": [
             [
              0,
              "#0d0887"
             ],
             [
              0.1111111111111111,
              "#46039f"
             ],
             [
              0.2222222222222222,
              "#7201a8"
             ],
             [
              0.3333333333333333,
              "#9c179e"
             ],
             [
              0.4444444444444444,
              "#bd3786"
             ],
             [
              0.5555555555555556,
              "#d8576b"
             ],
             [
              0.6666666666666666,
              "#ed7953"
             ],
             [
              0.7777777777777778,
              "#fb9f3a"
             ],
             [
              0.8888888888888888,
              "#fdca26"
             ],
             [
              1,
              "#f0f921"
             ]
            ],
            "type": "histogram2dcontour"
           }
          ],
          "mesh3d": [
           {
            "colorbar": {
             "outlinewidth": 0,
             "ticks": ""
            },
            "type": "mesh3d"
           }
          ],
          "parcoords": [
           {
            "line": {
             "colorbar": {
              "outlinewidth": 0,
              "ticks": ""
             }
            },
            "type": "parcoords"
           }
          ],
          "pie": [
           {
            "automargin": true,
            "type": "pie"
           }
          ],
          "scatter": [
           {
            "fillpattern": {
             "fillmode": "overlay",
             "size": 10,
             "solidity": 0.2
            },
            "type": "scatter"
           }
          ],
          "scatter3d": [
           {
            "line": {
             "colorbar": {
              "outlinewidth": 0,
              "ticks": ""
             }
            },
            "marker": {
             "colorbar": {
              "outlinewidth": 0,
              "ticks": ""
             }
            },
            "type": "scatter3d"
           }
          ],
          "scattercarpet": [
           {
            "marker": {
             "colorbar": {
              "outlinewidth": 0,
              "ticks": ""
             }
            },
            "type": "scattercarpet"
           }
          ],
          "scattergeo": [
           {
            "marker": {
             "colorbar": {
              "outlinewidth": 0,
              "ticks": ""
             }
            },
            "type": "scattergeo"
           }
          ],
          "scattergl": [
           {
            "marker": {
             "colorbar": {
              "outlinewidth": 0,
              "ticks": ""
             }
            },
            "type": "scattergl"
           }
          ],
          "scattermapbox": [
           {
            "marker": {
             "colorbar": {
              "outlinewidth": 0,
              "ticks": ""
             }
            },
            "type": "scattermapbox"
           }
          ],
          "scatterpolar": [
           {
            "marker": {
             "colorbar": {
              "outlinewidth": 0,
              "ticks": ""
             }
            },
            "type": "scatterpolar"
           }
          ],
          "scatterpolargl": [
           {
            "marker": {
             "colorbar": {
              "outlinewidth": 0,
              "ticks": ""
             }
            },
            "type": "scatterpolargl"
           }
          ],
          "scatterternary": [
           {
            "marker": {
             "colorbar": {
              "outlinewidth": 0,
              "ticks": ""
             }
            },
            "type": "scatterternary"
           }
          ],
          "surface": [
           {
            "colorbar": {
             "outlinewidth": 0,
             "ticks": ""
            },
            "colorscale": [
             [
              0,
              "#0d0887"
             ],
             [
              0.1111111111111111,
              "#46039f"
             ],
             [
              0.2222222222222222,
              "#7201a8"
             ],
             [
              0.3333333333333333,
              "#9c179e"
             ],
             [
              0.4444444444444444,
              "#bd3786"
             ],
             [
              0.5555555555555556,
              "#d8576b"
             ],
             [
              0.6666666666666666,
              "#ed7953"
             ],
             [
              0.7777777777777778,
              "#fb9f3a"
             ],
             [
              0.8888888888888888,
              "#fdca26"
             ],
             [
              1,
              "#f0f921"
             ]
            ],
            "type": "surface"
           }
          ],
          "table": [
           {
            "cells": {
             "fill": {
              "color": "#EBF0F8"
             },
             "line": {
              "color": "white"
             }
            },
            "header": {
             "fill": {
              "color": "#C8D4E3"
             },
             "line": {
              "color": "white"
             }
            },
            "type": "table"
           }
          ]
         },
         "layout": {
          "annotationdefaults": {
           "arrowcolor": "#2a3f5f",
           "arrowhead": 0,
           "arrowwidth": 1
          },
          "autotypenumbers": "strict",
          "coloraxis": {
           "colorbar": {
            "outlinewidth": 0,
            "ticks": ""
           }
          },
          "colorscale": {
           "diverging": [
            [
             0,
             "#8e0152"
            ],
            [
             0.1,
             "#c51b7d"
            ],
            [
             0.2,
             "#de77ae"
            ],
            [
             0.3,
             "#f1b6da"
            ],
            [
             0.4,
             "#fde0ef"
            ],
            [
             0.5,
             "#f7f7f7"
            ],
            [
             0.6,
             "#e6f5d0"
            ],
            [
             0.7,
             "#b8e186"
            ],
            [
             0.8,
             "#7fbc41"
            ],
            [
             0.9,
             "#4d9221"
            ],
            [
             1,
             "#276419"
            ]
           ],
           "sequential": [
            [
             0,
             "#0d0887"
            ],
            [
             0.1111111111111111,
             "#46039f"
            ],
            [
             0.2222222222222222,
             "#7201a8"
            ],
            [
             0.3333333333333333,
             "#9c179e"
            ],
            [
             0.4444444444444444,
             "#bd3786"
            ],
            [
             0.5555555555555556,
             "#d8576b"
            ],
            [
             0.6666666666666666,
             "#ed7953"
            ],
            [
             0.7777777777777778,
             "#fb9f3a"
            ],
            [
             0.8888888888888888,
             "#fdca26"
            ],
            [
             1,
             "#f0f921"
            ]
           ],
           "sequentialminus": [
            [
             0,
             "#0d0887"
            ],
            [
             0.1111111111111111,
             "#46039f"
            ],
            [
             0.2222222222222222,
             "#7201a8"
            ],
            [
             0.3333333333333333,
             "#9c179e"
            ],
            [
             0.4444444444444444,
             "#bd3786"
            ],
            [
             0.5555555555555556,
             "#d8576b"
            ],
            [
             0.6666666666666666,
             "#ed7953"
            ],
            [
             0.7777777777777778,
             "#fb9f3a"
            ],
            [
             0.8888888888888888,
             "#fdca26"
            ],
            [
             1,
             "#f0f921"
            ]
           ]
          },
          "colorway": [
           "#636efa",
           "#EF553B",
           "#00cc96",
           "#ab63fa",
           "#FFA15A",
           "#19d3f3",
           "#FF6692",
           "#B6E880",
           "#FF97FF",
           "#FECB52"
          ],
          "font": {
           "color": "#2a3f5f"
          },
          "geo": {
           "bgcolor": "white",
           "lakecolor": "white",
           "landcolor": "#E5ECF6",
           "showlakes": true,
           "showland": true,
           "subunitcolor": "white"
          },
          "hoverlabel": {
           "align": "left"
          },
          "hovermode": "closest",
          "mapbox": {
           "style": "light"
          },
          "paper_bgcolor": "white",
          "plot_bgcolor": "#E5ECF6",
          "polar": {
           "angularaxis": {
            "gridcolor": "white",
            "linecolor": "white",
            "ticks": ""
           },
           "bgcolor": "#E5ECF6",
           "radialaxis": {
            "gridcolor": "white",
            "linecolor": "white",
            "ticks": ""
           }
          },
          "scene": {
           "xaxis": {
            "backgroundcolor": "#E5ECF6",
            "gridcolor": "white",
            "gridwidth": 2,
            "linecolor": "white",
            "showbackground": true,
            "ticks": "",
            "zerolinecolor": "white"
           },
           "yaxis": {
            "backgroundcolor": "#E5ECF6",
            "gridcolor": "white",
            "gridwidth": 2,
            "linecolor": "white",
            "showbackground": true,
            "ticks": "",
            "zerolinecolor": "white"
           },
           "zaxis": {
            "backgroundcolor": "#E5ECF6",
            "gridcolor": "white",
            "gridwidth": 2,
            "linecolor": "white",
            "showbackground": true,
            "ticks": "",
            "zerolinecolor": "white"
           }
          },
          "shapedefaults": {
           "line": {
            "color": "#2a3f5f"
           }
          },
          "ternary": {
           "aaxis": {
            "gridcolor": "white",
            "linecolor": "white",
            "ticks": ""
           },
           "baxis": {
            "gridcolor": "white",
            "linecolor": "white",
            "ticks": ""
           },
           "bgcolor": "#E5ECF6",
           "caxis": {
            "gridcolor": "white",
            "linecolor": "white",
            "ticks": ""
           }
          },
          "title": {
           "x": 0.05
          },
          "xaxis": {
           "automargin": true,
           "gridcolor": "white",
           "linecolor": "white",
           "ticks": "",
           "title": {
            "standoff": 15
           },
           "zerolinecolor": "white",
           "zerolinewidth": 2
          },
          "yaxis": {
           "automargin": true,
           "gridcolor": "white",
           "linecolor": "white",
           "ticks": "",
           "title": {
            "standoff": 15
           },
           "zerolinecolor": "white",
           "zerolinewidth": 2
          }
         }
        },
        "title": {
         "text": "Top 11 des sujets de discussionss"
        },
        "xaxis": {
         "anchor": "y",
         "domain": [
          0,
          1
         ],
         "title": {
          "text": "topics mentionnés"
         }
        },
        "yaxis": {
         "anchor": "x",
         "domain": [
          0,
          1
         ],
         "title": {
          "text": "Nombre de mentions"
         }
        }
       }
      }
     },
     "metadata": {},
     "output_type": "display_data"
    }
   ],
   "source": [
    "def get_top(list_used=Tweet.used_hashtag_sorted, k=10):\n",
    "    \"\"\"Top k hashtags ou Top k utilisateurs mentionnés\n",
    "\n",
    "    Fonction qui affiche les top k hashtags ou les tops k utilisateurs mentionnés\n",
    "\n",
    "    Paramètres\n",
    "    ----------\n",
    "    list_used : list\n",
    "        liste des hashtags et leurs occurrences ou liste des mentions d'utilisateurs et leurs occurrences\n",
    "    k : int\n",
    "        les k hashtags ou utilisateurs qui reviennent le plus\n",
    "\n",
    "    \"\"\"\n",
    "    name = []\n",
    "    occurrence = []\n",
    "\n",
    "    for i in range(0, k):\n",
    "        try:\n",
    "            if list_used == Tweet.tweets_users:\n",
    "                top = 'utilisateur'\n",
    "                mention = 'tweet'\n",
    "                x_label = 'Utilisateurs'\n",
    "                y_label = 'Nombre de tweets'\n",
    "            elif list_used == Tweet.used_hashtag_sorted:\n",
    "                top = 'hashtag'\n",
    "                mention = 'occurrence'\n",
    "                x_label = 'Hashtags'\n",
    "                y_label = 'Nombre d\\'utilisations'\n",
    "            elif list_used == Tweet.user_mentioned_sorted:\n",
    "                top = 'utilisateur mentionné'\n",
    "                mention = 'mention'\n",
    "                x_label = 'Utilisateurs mentionnés'\n",
    "                y_label = 'Nombre de mentions'\n",
    "            elif list_used == Tweet.topics_sorted:\n",
    "                top = 'sujets de discussions'\n",
    "                mention = 'mention'\n",
    "                x_label = 'topics mentionnés'\n",
    "                y_label = 'Nombre de mentions'\n",
    "            else:\n",
    "                return f'La liste {list_used} n\\'est pas compatible avec la fonction top'\n",
    "\n",
    "            print(\n",
    "                f\"Top {i + 1} {top} : {list_used[i][0]} avec {list_used[i][1]} {mention}\"\n",
    "                f\"{'s' if list_used[i][1] > 1 else ''}\")\n",
    "            name.append(list_used[i][0])\n",
    "            occurrence.append(list_used[i][1])\n",
    "        except IndexError:\n",
    "            pass\n",
    "    df = pd.DataFrame({x_label: name, y_label: occurrence})\n",
    "    fig = px.bar(df, x=x_label, y=y_label, text=y_label, title=f'Top {k} des {top}s',\n",
    "                 labels={x_label: x_label, y_label: y_label})\n",
    "    fig.show()\n",
    "    return fig\n",
    "\n",
    "get_top(Tweet.tweets_users, 11)\n",
    "get_top(Tweet.used_hashtag_sorted, 11)\n",
    "get_top(Tweet.user_mentioned_sorted, 11)\n",
    "get_top(Tweet.topics_sorted, 11)"
   ]
  },
  {
   "cell_type": "markdown",
   "metadata": {},
   "source": [
    "Fonction qui retourne les k tweets les plus retweetés"
   ]
  },
  {
   "cell_type": "code",
   "execution_count": 105,
   "metadata": {},
   "outputs": [
    {
     "name": "stdout",
     "output_type": "stream",
     "text": [
      "Top 1 des tweets les plus retweetés :\n",
      "\"RT @ThomasSowell: Ours may become the first civilization destroyed, not by the power of our enemies, but by the ignorance of our teachers a…\"\n",
      " avec 10327 retweets\n",
      "\n",
      "Top 2 des tweets les plus retweetés :\n",
      "\"RT @TheTweetOfGod: Artificial intelligence will never be a bigger threat to humanity than natural stupidity.\"\n",
      " avec 6481 retweets\n",
      "\n",
      "Top 3 des tweets les plus retweetés :\n",
      "\"RT @elleprovocateur What does #Imperial College, the World Economic Forum (#WEF), #Salesforce, #Sinovatio…\"\n",
      " avec 1660 retweets\n",
      "\n"
     ]
    }
   ],
   "source": [
    "def top_retweets(k):\n",
    "    for i in range(0, k):\n",
    "        print(\n",
    "            f\"Top {i + 1} des tweets les plus retweetés :\\n\\\"{Tweet.retweets_sorted[i][0]}\\\"\\n avec \"\n",
    "            f\"{Tweet.retweets_sorted[i][1]} retweet{'s' if Tweet.retweets_sorted[i][1] > 1 else ''}\\n\")\n",
    "\n",
    "top_retweets(3)"
   ]
  },
  {
   "cell_type": "markdown",
   "metadata": {},
   "source": [
    "Fonction qui retourne l'ensemble des tweets mentionnant un utilisateur spécifique ou l'ensemble des tweets utilisant un hashtag spécifique"
   ]
  },
  {
   "cell_type": "code",
   "execution_count": 106,
   "metadata": {},
   "outputs": [
    {
     "name": "stdout",
     "output_type": "stream",
     "text": [
      "Tweet n°1 utilisant #DataS:\n",
      "\"RT @Paula_Piccard//t.co/xg5LdUCxwb\n",
      "\n",
      "#MachineLearning  #DataS…\"\n",
      "\n",
      "Tweet n°2 utilisant #DataS:\n",
      "\"RT @Paula_Piccard//t.co/xg5LdUCxwb\n",
      "\n",
      "#MachineLearning  #DataS…\"\n",
      "\n",
      "Tweet n°3 utilisant #DataS:\n",
      "\"RT @kunaldchowdhurybackhand_index_pointing_down//t.co/Imf1GbAZev\n",
      "\n",
      "#MachineLearning #5G #DataS…\"\n",
      "\n",
      "Tweet n°1 mentionnant @Datascience__:\n",
      "\"RT @Datascience__ A Perfect Coupling? https://t.co/5SoU9EbhHG  #ArtificialIntelligence\"\n",
      "\n",
      "Tweet n°2 mentionnant @Datascience__:\n",
      "\"RT @Datascience__//t.co/ysxBNkYney  #ArtificialIntelligence\"\n",
      "\n",
      "Tweet n°3 mentionnant @Datascience__:\n",
      "\"RT @Datascience__//t.co/aaixAipN17  #ArtificialInt…\"\n",
      "\n",
      "Tweet n°4 mentionnant @Datascience__:\n",
      "\"RT @Datascience__//t.co/vszxiTneH4  #ArtificialIntelligence\"\n",
      "\n",
      "Tweet n°5 mentionnant @Datascience__:\n",
      "\"RT @Datascience__//t.co/h55YxdrYsR  #Artif…\"\n",
      "\n",
      "Tweet n°6 mentionnant @Datascience__:\n",
      "\"RT @Datascience__//t.co/OqdP5iNRrR  #ArtificialIntellige…\"\n",
      "\n",
      "Tweet n°7 mentionnant @Datascience__:\n",
      "\"RT @Datascience__//t.co/I4MfJb4rTt  #ArtificialIntelligence\"\n",
      "\n",
      "Tweet n°8 mentionnant @Datascience__:\n",
      "\"RT @Datascience__//t.co/syrNn5oAu7  #ArtificialIntelligence\"\n",
      "\n",
      "Tweet n°9 mentionnant @Datascience__:\n",
      "\"RT @Datascience__//t.co/ML477VJimG  #ArtificialIntelligence\"\n",
      "\n",
      "Tweet n°10 mentionnant @Datascience__:\n",
      "\"RT @Datascience__//t.co/PkOOcPZzEw  #ArtificialIntelligence\"\n",
      "\n",
      "Tweet n°11 mentionnant @Datascience__:\n",
      "\"RT @Datascience__//t.co/1dOkSGIh6F  #Artif…\"\n",
      "\n",
      "Tweet n°12 mentionnant @Datascience__:\n",
      "\"RT @Datascience__//t.co/hoPR2tBs3K  #ArtificialIntelligence\"\n",
      "\n",
      "Tweet n°13 mentionnant @Datascience__:\n",
      "\"RT @Datascience__ 2 Books in 1: The Ultimate Beginner's Guide on Artificial Intelligence, Data Sci…\"\n",
      "\n",
      "Tweet n°14 mentionnant @Datascience__:\n",
      "\"RT @Datascience__ The Mastery Bible: The Definitive Guide to Machine Learning, Data Science, Artificial Intelligence, Ne…\"\n",
      "\n",
      "Tweet n°15 mentionnant @Datascience__:\n",
      "\"RT @Datascience__ The Ultimate Guide to Artificial Intelligence, Neural Networks, Predictive Modellin…\"\n",
      "\n"
     ]
    }
   ],
   "source": [
    "def mention_specific(mention: str):\n",
    "    if mention[0] == '@':\n",
    "        list_used = Tweet.specific_user\n",
    "        i = 1\n",
    "        try:\n",
    "            for tweet in list_used[mention]:\n",
    "                print(f'Tweet n°{i} mentionnant {mention}:\\n\"{tweet}\"\\n')\n",
    "                i += 1\n",
    "        except KeyError:\n",
    "            print('Cet utilisateur n\\'a jamais été mentionné\\n')\n",
    "    elif mention[0] == '#':\n",
    "        list_used = Tweet.specific_hashtag\n",
    "        i = 1\n",
    "        try:\n",
    "            for tweet in list_used[mention]:\n",
    "                print(f'Tweet n°{i} utilisant {mention}:\\n\"{tweet}\"\\n')\n",
    "                i += 1\n",
    "        except KeyError:\n",
    "            print('Ce hashtag n\\'a jamais été utilisé\\n')\n",
    "\n",
    "mention_specific('#DataS')\n",
    "mention_specific('@Datascience__')"
   ]
  },
  {
   "cell_type": "markdown",
   "metadata": {},
   "source": [
    "Fonction qui retourne le nombe de publication dans où un hashtag spécifique apparait"
   ]
  },
  {
   "cell_type": "code",
   "execution_count": 107,
   "metadata": {},
   "outputs": [
    {
     "name": "stdout",
     "output_type": "stream",
     "text": [
      "Le hashtag #python apparaît dans 3 publications\n"
     ]
    }
   ],
   "source": [
    "def number_hashtag(hashtag: str):\n",
    "    \"\"\"Nombre de publications par hashtag\n",
    "\n",
    "    Fonction qui affiche le nombre de publications pour un hashtag donné\n",
    "\n",
    "    Paramètres\n",
    "    ----------\n",
    "    hashtag : str\n",
    "        nom du hashtag que l'on veut compter\n",
    "\n",
    "    \"\"\"\n",
    "    if hashtag[0] != '#':\n",
    "        hashtag = '#' + hashtag\n",
    "    try:   \n",
    "        dic_hashtag = Tweet.used_hashtag[hashtag]\n",
    "        print(f\"Le hashtag {hashtag} apparaît dans {dic_hashtag} publication\"\n",
    "            f\"{'s' if dic_hashtag > 1 else ''}\")\n",
    "    except KeyError:\n",
    "        print(f'Le hashtag {hashtag} n\\'a jamais été utilisé')\n",
    "\n",
    "number_hashtag('python')"
   ]
  },
  {
   "cell_type": "markdown",
   "metadata": {},
   "source": [
    "Fonction qui retourne tous les tweets d'un utlisateur"
   ]
  },
  {
   "cell_type": "code",
   "execution_count": 108,
   "metadata": {},
   "outputs": [
    {
     "name": "stdout",
     "output_type": "stream",
     "text": [
      "Tweet 1:\n",
      "\"RT @KingSazeeb//t.co/tti5TyDuU4\"\n",
      "\n",
      "Tweet 2:\n",
      "\"Real Artificial Intelligence vs. Fake Artificial Intelligence https://t.co/Obuv4DHpsj  #ArtificialIntelligence\"\n",
      "\n",
      "Tweet 3:\n",
      "\"Tech gives new tools for grieving. A clever programmer hooked GPT-3, an AI text generator, to his web site, Project December, and now, for a low fee, you can have text chats with your lost love. #hotscience https://t.co/rnSqbf3W9M\"\n",
      "\n"
     ]
    }
   ],
   "source": [
    "def publication_author(author: str):\n",
    "    \"\"\"Tweets de l'auteur\n",
    "    Fonction qui affiche les tweets d'un utilisateur donné\n",
    "\n",
    "    Paramètres\n",
    "    ----------\n",
    "    author : str\n",
    "        nom de l'auteur dont on veut les tweets\n",
    "\n",
    "    \"\"\"\n",
    "    if author[0] != '@':\n",
    "        author = '@' + author\n",
    "    try:\n",
    "        i = 1\n",
    "        for tweet in Tweet.tweets_of_users[author]:\n",
    "            print(f'Tweet {i}:\\n\"{tweet}\"\\n')\n",
    "            i += 1\n",
    "    except KeyError:\n",
    "        print('Cet utilisateur n\\'a pas tweeté ou n\\'existe pas')\n",
    "\n",
    "publication_author('Chumlee')"
   ]
  },
  {
   "cell_type": "markdown",
   "metadata": {},
   "source": [
    "Fonction qui retourne le nombre de publication d'un utilisateur"
   ]
  },
  {
   "cell_type": "code",
   "execution_count": 109,
   "metadata": {},
   "outputs": [
    {
     "name": "stdout",
     "output_type": "stream",
     "text": [
      "@Chumlee a tweeté 3 fois\n"
     ]
    }
   ],
   "source": [
    "def number_publication(author: str):\n",
    "    if author[0] != '@':\n",
    "        author = '@' + author\n",
    "    try:\n",
    "        print(f'{author} a tweeté {len(Tweet.tweets_of_users[author])} fois')\n",
    "    except KeyError:\n",
    "        print('Cet utilisateur n\\'a pas tweeté ou n\\'existe pas')\n",
    "\n",
    "number_publication('Chumlee')"
   ]
  },
  {
   "cell_type": "markdown",
   "metadata": {},
   "source": [
    "Fonction affichant un graphique montrant le pourcentage d'utilisation des k langues les plus utlisées (% en fonction des k langues et non l'ensemble des langues)"
   ]
  },
  {
   "cell_type": "code",
   "execution_count": 110,
   "metadata": {},
   "outputs": [
    {
     "data": {
      "application/vnd.plotly.v1+json": {
       "config": {
        "plotlyServerURL": "https://plot.ly"
       },
       "data": [
        {
         "domain": {
          "x": [
           0,
           1
          ],
          "y": [
           0,
           1
          ]
         },
         "hovertemplate": "label=%{label}<br>value=%{value}<extra></extra>",
         "labels": [
          "anglais",
          "français",
          "non-défini",
          "japonais",
          "espagnol"
         ],
         "legendgroup": "",
         "name": "",
         "showlegend": true,
         "type": "pie",
         "values": [
          1625,
          30,
          13,
          7,
          6
         ]
        }
       ],
       "layout": {
        "legend": {
         "tracegroupgap": 0
        },
        "template": {
         "data": {
          "bar": [
           {
            "error_x": {
             "color": "#2a3f5f"
            },
            "error_y": {
             "color": "#2a3f5f"
            },
            "marker": {
             "line": {
              "color": "#E5ECF6",
              "width": 0.5
             },
             "pattern": {
              "fillmode": "overlay",
              "size": 10,
              "solidity": 0.2
             }
            },
            "type": "bar"
           }
          ],
          "barpolar": [
           {
            "marker": {
             "line": {
              "color": "#E5ECF6",
              "width": 0.5
             },
             "pattern": {
              "fillmode": "overlay",
              "size": 10,
              "solidity": 0.2
             }
            },
            "type": "barpolar"
           }
          ],
          "carpet": [
           {
            "aaxis": {
             "endlinecolor": "#2a3f5f",
             "gridcolor": "white",
             "linecolor": "white",
             "minorgridcolor": "white",
             "startlinecolor": "#2a3f5f"
            },
            "baxis": {
             "endlinecolor": "#2a3f5f",
             "gridcolor": "white",
             "linecolor": "white",
             "minorgridcolor": "white",
             "startlinecolor": "#2a3f5f"
            },
            "type": "carpet"
           }
          ],
          "choropleth": [
           {
            "colorbar": {
             "outlinewidth": 0,
             "ticks": ""
            },
            "type": "choropleth"
           }
          ],
          "contour": [
           {
            "colorbar": {
             "outlinewidth": 0,
             "ticks": ""
            },
            "colorscale": [
             [
              0,
              "#0d0887"
             ],
             [
              0.1111111111111111,
              "#46039f"
             ],
             [
              0.2222222222222222,
              "#7201a8"
             ],
             [
              0.3333333333333333,
              "#9c179e"
             ],
             [
              0.4444444444444444,
              "#bd3786"
             ],
             [
              0.5555555555555556,
              "#d8576b"
             ],
             [
              0.6666666666666666,
              "#ed7953"
             ],
             [
              0.7777777777777778,
              "#fb9f3a"
             ],
             [
              0.8888888888888888,
              "#fdca26"
             ],
             [
              1,
              "#f0f921"
             ]
            ],
            "type": "contour"
           }
          ],
          "contourcarpet": [
           {
            "colorbar": {
             "outlinewidth": 0,
             "ticks": ""
            },
            "type": "contourcarpet"
           }
          ],
          "heatmap": [
           {
            "colorbar": {
             "outlinewidth": 0,
             "ticks": ""
            },
            "colorscale": [
             [
              0,
              "#0d0887"
             ],
             [
              0.1111111111111111,
              "#46039f"
             ],
             [
              0.2222222222222222,
              "#7201a8"
             ],
             [
              0.3333333333333333,
              "#9c179e"
             ],
             [
              0.4444444444444444,
              "#bd3786"
             ],
             [
              0.5555555555555556,
              "#d8576b"
             ],
             [
              0.6666666666666666,
              "#ed7953"
             ],
             [
              0.7777777777777778,
              "#fb9f3a"
             ],
             [
              0.8888888888888888,
              "#fdca26"
             ],
             [
              1,
              "#f0f921"
             ]
            ],
            "type": "heatmap"
           }
          ],
          "heatmapgl": [
           {
            "colorbar": {
             "outlinewidth": 0,
             "ticks": ""
            },
            "colorscale": [
             [
              0,
              "#0d0887"
             ],
             [
              0.1111111111111111,
              "#46039f"
             ],
             [
              0.2222222222222222,
              "#7201a8"
             ],
             [
              0.3333333333333333,
              "#9c179e"
             ],
             [
              0.4444444444444444,
              "#bd3786"
             ],
             [
              0.5555555555555556,
              "#d8576b"
             ],
             [
              0.6666666666666666,
              "#ed7953"
             ],
             [
              0.7777777777777778,
              "#fb9f3a"
             ],
             [
              0.8888888888888888,
              "#fdca26"
             ],
             [
              1,
              "#f0f921"
             ]
            ],
            "type": "heatmapgl"
           }
          ],
          "histogram": [
           {
            "marker": {
             "pattern": {
              "fillmode": "overlay",
              "size": 10,
              "solidity": 0.2
             }
            },
            "type": "histogram"
           }
          ],
          "histogram2d": [
           {
            "colorbar": {
             "outlinewidth": 0,
             "ticks": ""
            },
            "colorscale": [
             [
              0,
              "#0d0887"
             ],
             [
              0.1111111111111111,
              "#46039f"
             ],
             [
              0.2222222222222222,
              "#7201a8"
             ],
             [
              0.3333333333333333,
              "#9c179e"
             ],
             [
              0.4444444444444444,
              "#bd3786"
             ],
             [
              0.5555555555555556,
              "#d8576b"
             ],
             [
              0.6666666666666666,
              "#ed7953"
             ],
             [
              0.7777777777777778,
              "#fb9f3a"
             ],
             [
              0.8888888888888888,
              "#fdca26"
             ],
             [
              1,
              "#f0f921"
             ]
            ],
            "type": "histogram2d"
           }
          ],
          "histogram2dcontour": [
           {
            "colorbar": {
             "outlinewidth": 0,
             "ticks": ""
            },
            "colorscale": [
             [
              0,
              "#0d0887"
             ],
             [
              0.1111111111111111,
              "#46039f"
             ],
             [
              0.2222222222222222,
              "#7201a8"
             ],
             [
              0.3333333333333333,
              "#9c179e"
             ],
             [
              0.4444444444444444,
              "#bd3786"
             ],
             [
              0.5555555555555556,
              "#d8576b"
             ],
             [
              0.6666666666666666,
              "#ed7953"
             ],
             [
              0.7777777777777778,
              "#fb9f3a"
             ],
             [
              0.8888888888888888,
              "#fdca26"
             ],
             [
              1,
              "#f0f921"
             ]
            ],
            "type": "histogram2dcontour"
           }
          ],
          "mesh3d": [
           {
            "colorbar": {
             "outlinewidth": 0,
             "ticks": ""
            },
            "type": "mesh3d"
           }
          ],
          "parcoords": [
           {
            "line": {
             "colorbar": {
              "outlinewidth": 0,
              "ticks": ""
             }
            },
            "type": "parcoords"
           }
          ],
          "pie": [
           {
            "automargin": true,
            "type": "pie"
           }
          ],
          "scatter": [
           {
            "fillpattern": {
             "fillmode": "overlay",
             "size": 10,
             "solidity": 0.2
            },
            "type": "scatter"
           }
          ],
          "scatter3d": [
           {
            "line": {
             "colorbar": {
              "outlinewidth": 0,
              "ticks": ""
             }
            },
            "marker": {
             "colorbar": {
              "outlinewidth": 0,
              "ticks": ""
             }
            },
            "type": "scatter3d"
           }
          ],
          "scattercarpet": [
           {
            "marker": {
             "colorbar": {
              "outlinewidth": 0,
              "ticks": ""
             }
            },
            "type": "scattercarpet"
           }
          ],
          "scattergeo": [
           {
            "marker": {
             "colorbar": {
              "outlinewidth": 0,
              "ticks": ""
             }
            },
            "type": "scattergeo"
           }
          ],
          "scattergl": [
           {
            "marker": {
             "colorbar": {
              "outlinewidth": 0,
              "ticks": ""
             }
            },
            "type": "scattergl"
           }
          ],
          "scattermapbox": [
           {
            "marker": {
             "colorbar": {
              "outlinewidth": 0,
              "ticks": ""
             }
            },
            "type": "scattermapbox"
           }
          ],
          "scatterpolar": [
           {
            "marker": {
             "colorbar": {
              "outlinewidth": 0,
              "ticks": ""
             }
            },
            "type": "scatterpolar"
           }
          ],
          "scatterpolargl": [
           {
            "marker": {
             "colorbar": {
              "outlinewidth": 0,
              "ticks": ""
             }
            },
            "type": "scatterpolargl"
           }
          ],
          "scatterternary": [
           {
            "marker": {
             "colorbar": {
              "outlinewidth": 0,
              "ticks": ""
             }
            },
            "type": "scatterternary"
           }
          ],
          "surface": [
           {
            "colorbar": {
             "outlinewidth": 0,
             "ticks": ""
            },
            "colorscale": [
             [
              0,
              "#0d0887"
             ],
             [
              0.1111111111111111,
              "#46039f"
             ],
             [
              0.2222222222222222,
              "#7201a8"
             ],
             [
              0.3333333333333333,
              "#9c179e"
             ],
             [
              0.4444444444444444,
              "#bd3786"
             ],
             [
              0.5555555555555556,
              "#d8576b"
             ],
             [
              0.6666666666666666,
              "#ed7953"
             ],
             [
              0.7777777777777778,
              "#fb9f3a"
             ],
             [
              0.8888888888888888,
              "#fdca26"
             ],
             [
              1,
              "#f0f921"
             ]
            ],
            "type": "surface"
           }
          ],
          "table": [
           {
            "cells": {
             "fill": {
              "color": "#EBF0F8"
             },
             "line": {
              "color": "white"
             }
            },
            "header": {
             "fill": {
              "color": "#C8D4E3"
             },
             "line": {
              "color": "white"
             }
            },
            "type": "table"
           }
          ]
         },
         "layout": {
          "annotationdefaults": {
           "arrowcolor": "#2a3f5f",
           "arrowhead": 0,
           "arrowwidth": 1
          },
          "autotypenumbers": "strict",
          "coloraxis": {
           "colorbar": {
            "outlinewidth": 0,
            "ticks": ""
           }
          },
          "colorscale": {
           "diverging": [
            [
             0,
             "#8e0152"
            ],
            [
             0.1,
             "#c51b7d"
            ],
            [
             0.2,
             "#de77ae"
            ],
            [
             0.3,
             "#f1b6da"
            ],
            [
             0.4,
             "#fde0ef"
            ],
            [
             0.5,
             "#f7f7f7"
            ],
            [
             0.6,
             "#e6f5d0"
            ],
            [
             0.7,
             "#b8e186"
            ],
            [
             0.8,
             "#7fbc41"
            ],
            [
             0.9,
             "#4d9221"
            ],
            [
             1,
             "#276419"
            ]
           ],
           "sequential": [
            [
             0,
             "#0d0887"
            ],
            [
             0.1111111111111111,
             "#46039f"
            ],
            [
             0.2222222222222222,
             "#7201a8"
            ],
            [
             0.3333333333333333,
             "#9c179e"
            ],
            [
             0.4444444444444444,
             "#bd3786"
            ],
            [
             0.5555555555555556,
             "#d8576b"
            ],
            [
             0.6666666666666666,
             "#ed7953"
            ],
            [
             0.7777777777777778,
             "#fb9f3a"
            ],
            [
             0.8888888888888888,
             "#fdca26"
            ],
            [
             1,
             "#f0f921"
            ]
           ],
           "sequentialminus": [
            [
             0,
             "#0d0887"
            ],
            [
             0.1111111111111111,
             "#46039f"
            ],
            [
             0.2222222222222222,
             "#7201a8"
            ],
            [
             0.3333333333333333,
             "#9c179e"
            ],
            [
             0.4444444444444444,
             "#bd3786"
            ],
            [
             0.5555555555555556,
             "#d8576b"
            ],
            [
             0.6666666666666666,
             "#ed7953"
            ],
            [
             0.7777777777777778,
             "#fb9f3a"
            ],
            [
             0.8888888888888888,
             "#fdca26"
            ],
            [
             1,
             "#f0f921"
            ]
           ]
          },
          "colorway": [
           "#636efa",
           "#EF553B",
           "#00cc96",
           "#ab63fa",
           "#FFA15A",
           "#19d3f3",
           "#FF6692",
           "#B6E880",
           "#FF97FF",
           "#FECB52"
          ],
          "font": {
           "color": "#2a3f5f"
          },
          "geo": {
           "bgcolor": "white",
           "lakecolor": "white",
           "landcolor": "#E5ECF6",
           "showlakes": true,
           "showland": true,
           "subunitcolor": "white"
          },
          "hoverlabel": {
           "align": "left"
          },
          "hovermode": "closest",
          "mapbox": {
           "style": "light"
          },
          "paper_bgcolor": "white",
          "plot_bgcolor": "#E5ECF6",
          "polar": {
           "angularaxis": {
            "gridcolor": "white",
            "linecolor": "white",
            "ticks": ""
           },
           "bgcolor": "#E5ECF6",
           "radialaxis": {
            "gridcolor": "white",
            "linecolor": "white",
            "ticks": ""
           }
          },
          "scene": {
           "xaxis": {
            "backgroundcolor": "#E5ECF6",
            "gridcolor": "white",
            "gridwidth": 2,
            "linecolor": "white",
            "showbackground": true,
            "ticks": "",
            "zerolinecolor": "white"
           },
           "yaxis": {
            "backgroundcolor": "#E5ECF6",
            "gridcolor": "white",
            "gridwidth": 2,
            "linecolor": "white",
            "showbackground": true,
            "ticks": "",
            "zerolinecolor": "white"
           },
           "zaxis": {
            "backgroundcolor": "#E5ECF6",
            "gridcolor": "white",
            "gridwidth": 2,
            "linecolor": "white",
            "showbackground": true,
            "ticks": "",
            "zerolinecolor": "white"
           }
          },
          "shapedefaults": {
           "line": {
            "color": "#2a3f5f"
           }
          },
          "ternary": {
           "aaxis": {
            "gridcolor": "white",
            "linecolor": "white",
            "ticks": ""
           },
           "baxis": {
            "gridcolor": "white",
            "linecolor": "white",
            "ticks": ""
           },
           "bgcolor": "#E5ECF6",
           "caxis": {
            "gridcolor": "white",
            "linecolor": "white",
            "ticks": ""
           }
          },
          "title": {
           "x": 0.05
          },
          "xaxis": {
           "automargin": true,
           "gridcolor": "white",
           "linecolor": "white",
           "ticks": "",
           "title": {
            "standoff": 15
           },
           "zerolinecolor": "white",
           "zerolinewidth": 2
          },
          "yaxis": {
           "automargin": true,
           "gridcolor": "white",
           "linecolor": "white",
           "ticks": "",
           "title": {
            "standoff": 15
           },
           "zerolinecolor": "white",
           "zerolinewidth": 2
          }
         }
        },
        "title": {
         "text": "Top 5 des langues les plus utilisées"
        }
       }
      }
     },
     "metadata": {},
     "output_type": "display_data"
    }
   ],
   "source": [
    "def languages_plot(k=5):\n",
    "    top_k_languages = Tweet.languages_sorted[:k]  # Sélectionner les k premières langues\n",
    "\n",
    "    # Extraire les noms des langues et les compteurs\n",
    "    languages = [lang[0] for lang in top_k_languages]\n",
    "    counts = [lang[1] for lang in top_k_languages]\n",
    "\n",
    "    # Créer le graphique pie chart avec Plotly Express\n",
    "    fig = px.pie(names=languages, values=counts, title=f'Top {k} des langues les plus utilisées')\n",
    "    fig.show()\n",
    "\n",
    "languages_plot()"
   ]
  },
  {
   "cell_type": "markdown",
   "metadata": {},
   "source": [
    "Fonction affichant un graphique montrant la pondérance des différentes polarité sur l'ensemble des tweets ou le taux de subjectivité/objectivité"
   ]
  },
  {
   "cell_type": "code",
   "execution_count": 120,
   "metadata": {},
   "outputs": [
    {
     "data": {
      "application/vnd.plotly.v1+json": {
       "config": {
        "plotlyServerURL": "https://plot.ly"
       },
       "data": [
        {
         "domain": {
          "x": [
           0,
           1
          ],
          "y": [
           0,
           1
          ]
         },
         "hovertemplate": "labels=%{label}<br>nombre de tweets=%{value}<extra></extra>",
         "labels": [
          "Négatif",
          "Neutre",
          "Positif"
         ],
         "legendgroup": "",
         "name": "",
         "showlegend": true,
         "type": "pie",
         "values": [
          685,
          734,
          289
         ]
        }
       ],
       "layout": {
        "legend": {
         "tracegroupgap": 0
        },
        "piecolorway": [
         "silver",
         "lightcoral",
         "mediumaquamarine"
        ],
        "template": {
         "data": {
          "bar": [
           {
            "error_x": {
             "color": "#2a3f5f"
            },
            "error_y": {
             "color": "#2a3f5f"
            },
            "marker": {
             "line": {
              "color": "#E5ECF6",
              "width": 0.5
             },
             "pattern": {
              "fillmode": "overlay",
              "size": 10,
              "solidity": 0.2
             }
            },
            "type": "bar"
           }
          ],
          "barpolar": [
           {
            "marker": {
             "line": {
              "color": "#E5ECF6",
              "width": 0.5
             },
             "pattern": {
              "fillmode": "overlay",
              "size": 10,
              "solidity": 0.2
             }
            },
            "type": "barpolar"
           }
          ],
          "carpet": [
           {
            "aaxis": {
             "endlinecolor": "#2a3f5f",
             "gridcolor": "white",
             "linecolor": "white",
             "minorgridcolor": "white",
             "startlinecolor": "#2a3f5f"
            },
            "baxis": {
             "endlinecolor": "#2a3f5f",
             "gridcolor": "white",
             "linecolor": "white",
             "minorgridcolor": "white",
             "startlinecolor": "#2a3f5f"
            },
            "type": "carpet"
           }
          ],
          "choropleth": [
           {
            "colorbar": {
             "outlinewidth": 0,
             "ticks": ""
            },
            "type": "choropleth"
           }
          ],
          "contour": [
           {
            "colorbar": {
             "outlinewidth": 0,
             "ticks": ""
            },
            "colorscale": [
             [
              0,
              "#0d0887"
             ],
             [
              0.1111111111111111,
              "#46039f"
             ],
             [
              0.2222222222222222,
              "#7201a8"
             ],
             [
              0.3333333333333333,
              "#9c179e"
             ],
             [
              0.4444444444444444,
              "#bd3786"
             ],
             [
              0.5555555555555556,
              "#d8576b"
             ],
             [
              0.6666666666666666,
              "#ed7953"
             ],
             [
              0.7777777777777778,
              "#fb9f3a"
             ],
             [
              0.8888888888888888,
              "#fdca26"
             ],
             [
              1,
              "#f0f921"
             ]
            ],
            "type": "contour"
           }
          ],
          "contourcarpet": [
           {
            "colorbar": {
             "outlinewidth": 0,
             "ticks": ""
            },
            "type": "contourcarpet"
           }
          ],
          "heatmap": [
           {
            "colorbar": {
             "outlinewidth": 0,
             "ticks": ""
            },
            "colorscale": [
             [
              0,
              "#0d0887"
             ],
             [
              0.1111111111111111,
              "#46039f"
             ],
             [
              0.2222222222222222,
              "#7201a8"
             ],
             [
              0.3333333333333333,
              "#9c179e"
             ],
             [
              0.4444444444444444,
              "#bd3786"
             ],
             [
              0.5555555555555556,
              "#d8576b"
             ],
             [
              0.6666666666666666,
              "#ed7953"
             ],
             [
              0.7777777777777778,
              "#fb9f3a"
             ],
             [
              0.8888888888888888,
              "#fdca26"
             ],
             [
              1,
              "#f0f921"
             ]
            ],
            "type": "heatmap"
           }
          ],
          "heatmapgl": [
           {
            "colorbar": {
             "outlinewidth": 0,
             "ticks": ""
            },
            "colorscale": [
             [
              0,
              "#0d0887"
             ],
             [
              0.1111111111111111,
              "#46039f"
             ],
             [
              0.2222222222222222,
              "#7201a8"
             ],
             [
              0.3333333333333333,
              "#9c179e"
             ],
             [
              0.4444444444444444,
              "#bd3786"
             ],
             [
              0.5555555555555556,
              "#d8576b"
             ],
             [
              0.6666666666666666,
              "#ed7953"
             ],
             [
              0.7777777777777778,
              "#fb9f3a"
             ],
             [
              0.8888888888888888,
              "#fdca26"
             ],
             [
              1,
              "#f0f921"
             ]
            ],
            "type": "heatmapgl"
           }
          ],
          "histogram": [
           {
            "marker": {
             "pattern": {
              "fillmode": "overlay",
              "size": 10,
              "solidity": 0.2
             }
            },
            "type": "histogram"
           }
          ],
          "histogram2d": [
           {
            "colorbar": {
             "outlinewidth": 0,
             "ticks": ""
            },
            "colorscale": [
             [
              0,
              "#0d0887"
             ],
             [
              0.1111111111111111,
              "#46039f"
             ],
             [
              0.2222222222222222,
              "#7201a8"
             ],
             [
              0.3333333333333333,
              "#9c179e"
             ],
             [
              0.4444444444444444,
              "#bd3786"
             ],
             [
              0.5555555555555556,
              "#d8576b"
             ],
             [
              0.6666666666666666,
              "#ed7953"
             ],
             [
              0.7777777777777778,
              "#fb9f3a"
             ],
             [
              0.8888888888888888,
              "#fdca26"
             ],
             [
              1,
              "#f0f921"
             ]
            ],
            "type": "histogram2d"
           }
          ],
          "histogram2dcontour": [
           {
            "colorbar": {
             "outlinewidth": 0,
             "ticks": ""
            },
            "colorscale": [
             [
              0,
              "#0d0887"
             ],
             [
              0.1111111111111111,
              "#46039f"
             ],
             [
              0.2222222222222222,
              "#7201a8"
             ],
             [
              0.3333333333333333,
              "#9c179e"
             ],
             [
              0.4444444444444444,
              "#bd3786"
             ],
             [
              0.5555555555555556,
              "#d8576b"
             ],
             [
              0.6666666666666666,
              "#ed7953"
             ],
             [
              0.7777777777777778,
              "#fb9f3a"
             ],
             [
              0.8888888888888888,
              "#fdca26"
             ],
             [
              1,
              "#f0f921"
             ]
            ],
            "type": "histogram2dcontour"
           }
          ],
          "mesh3d": [
           {
            "colorbar": {
             "outlinewidth": 0,
             "ticks": ""
            },
            "type": "mesh3d"
           }
          ],
          "parcoords": [
           {
            "line": {
             "colorbar": {
              "outlinewidth": 0,
              "ticks": ""
             }
            },
            "type": "parcoords"
           }
          ],
          "pie": [
           {
            "automargin": true,
            "type": "pie"
           }
          ],
          "scatter": [
           {
            "fillpattern": {
             "fillmode": "overlay",
             "size": 10,
             "solidity": 0.2
            },
            "type": "scatter"
           }
          ],
          "scatter3d": [
           {
            "line": {
             "colorbar": {
              "outlinewidth": 0,
              "ticks": ""
             }
            },
            "marker": {
             "colorbar": {
              "outlinewidth": 0,
              "ticks": ""
             }
            },
            "type": "scatter3d"
           }
          ],
          "scattercarpet": [
           {
            "marker": {
             "colorbar": {
              "outlinewidth": 0,
              "ticks": ""
             }
            },
            "type": "scattercarpet"
           }
          ],
          "scattergeo": [
           {
            "marker": {
             "colorbar": {
              "outlinewidth": 0,
              "ticks": ""
             }
            },
            "type": "scattergeo"
           }
          ],
          "scattergl": [
           {
            "marker": {
             "colorbar": {
              "outlinewidth": 0,
              "ticks": ""
             }
            },
            "type": "scattergl"
           }
          ],
          "scattermapbox": [
           {
            "marker": {
             "colorbar": {
              "outlinewidth": 0,
              "ticks": ""
             }
            },
            "type": "scattermapbox"
           }
          ],
          "scatterpolar": [
           {
            "marker": {
             "colorbar": {
              "outlinewidth": 0,
              "ticks": ""
             }
            },
            "type": "scatterpolar"
           }
          ],
          "scatterpolargl": [
           {
            "marker": {
             "colorbar": {
              "outlinewidth": 0,
              "ticks": ""
             }
            },
            "type": "scatterpolargl"
           }
          ],
          "scatterternary": [
           {
            "marker": {
             "colorbar": {
              "outlinewidth": 0,
              "ticks": ""
             }
            },
            "type": "scatterternary"
           }
          ],
          "surface": [
           {
            "colorbar": {
             "outlinewidth": 0,
             "ticks": ""
            },
            "colorscale": [
             [
              0,
              "#0d0887"
             ],
             [
              0.1111111111111111,
              "#46039f"
             ],
             [
              0.2222222222222222,
              "#7201a8"
             ],
             [
              0.3333333333333333,
              "#9c179e"
             ],
             [
              0.4444444444444444,
              "#bd3786"
             ],
             [
              0.5555555555555556,
              "#d8576b"
             ],
             [
              0.6666666666666666,
              "#ed7953"
             ],
             [
              0.7777777777777778,
              "#fb9f3a"
             ],
             [
              0.8888888888888888,
              "#fdca26"
             ],
             [
              1,
              "#f0f921"
             ]
            ],
            "type": "surface"
           }
          ],
          "table": [
           {
            "cells": {
             "fill": {
              "color": "#EBF0F8"
             },
             "line": {
              "color": "white"
             }
            },
            "header": {
             "fill": {
              "color": "#C8D4E3"
             },
             "line": {
              "color": "white"
             }
            },
            "type": "table"
           }
          ]
         },
         "layout": {
          "annotationdefaults": {
           "arrowcolor": "#2a3f5f",
           "arrowhead": 0,
           "arrowwidth": 1
          },
          "autotypenumbers": "strict",
          "coloraxis": {
           "colorbar": {
            "outlinewidth": 0,
            "ticks": ""
           }
          },
          "colorscale": {
           "diverging": [
            [
             0,
             "#8e0152"
            ],
            [
             0.1,
             "#c51b7d"
            ],
            [
             0.2,
             "#de77ae"
            ],
            [
             0.3,
             "#f1b6da"
            ],
            [
             0.4,
             "#fde0ef"
            ],
            [
             0.5,
             "#f7f7f7"
            ],
            [
             0.6,
             "#e6f5d0"
            ],
            [
             0.7,
             "#b8e186"
            ],
            [
             0.8,
             "#7fbc41"
            ],
            [
             0.9,
             "#4d9221"
            ],
            [
             1,
             "#276419"
            ]
           ],
           "sequential": [
            [
             0,
             "#0d0887"
            ],
            [
             0.1111111111111111,
             "#46039f"
            ],
            [
             0.2222222222222222,
             "#7201a8"
            ],
            [
             0.3333333333333333,
             "#9c179e"
            ],
            [
             0.4444444444444444,
             "#bd3786"
            ],
            [
             0.5555555555555556,
             "#d8576b"
            ],
            [
             0.6666666666666666,
             "#ed7953"
            ],
            [
             0.7777777777777778,
             "#fb9f3a"
            ],
            [
             0.8888888888888888,
             "#fdca26"
            ],
            [
             1,
             "#f0f921"
            ]
           ],
           "sequentialminus": [
            [
             0,
             "#0d0887"
            ],
            [
             0.1111111111111111,
             "#46039f"
            ],
            [
             0.2222222222222222,
             "#7201a8"
            ],
            [
             0.3333333333333333,
             "#9c179e"
            ],
            [
             0.4444444444444444,
             "#bd3786"
            ],
            [
             0.5555555555555556,
             "#d8576b"
            ],
            [
             0.6666666666666666,
             "#ed7953"
            ],
            [
             0.7777777777777778,
             "#fb9f3a"
            ],
            [
             0.8888888888888888,
             "#fdca26"
            ],
            [
             1,
             "#f0f921"
            ]
           ]
          },
          "colorway": [
           "#636efa",
           "#EF553B",
           "#00cc96",
           "#ab63fa",
           "#FFA15A",
           "#19d3f3",
           "#FF6692",
           "#B6E880",
           "#FF97FF",
           "#FECB52"
          ],
          "font": {
           "color": "#2a3f5f"
          },
          "geo": {
           "bgcolor": "white",
           "lakecolor": "white",
           "landcolor": "#E5ECF6",
           "showlakes": true,
           "showland": true,
           "subunitcolor": "white"
          },
          "hoverlabel": {
           "align": "left"
          },
          "hovermode": "closest",
          "mapbox": {
           "style": "light"
          },
          "paper_bgcolor": "white",
          "plot_bgcolor": "#E5ECF6",
          "polar": {
           "angularaxis": {
            "gridcolor": "white",
            "linecolor": "white",
            "ticks": ""
           },
           "bgcolor": "#E5ECF6",
           "radialaxis": {
            "gridcolor": "white",
            "linecolor": "white",
            "ticks": ""
           }
          },
          "scene": {
           "xaxis": {
            "backgroundcolor": "#E5ECF6",
            "gridcolor": "white",
            "gridwidth": 2,
            "linecolor": "white",
            "showbackground": true,
            "ticks": "",
            "zerolinecolor": "white"
           },
           "yaxis": {
            "backgroundcolor": "#E5ECF6",
            "gridcolor": "white",
            "gridwidth": 2,
            "linecolor": "white",
            "showbackground": true,
            "ticks": "",
            "zerolinecolor": "white"
           },
           "zaxis": {
            "backgroundcolor": "#E5ECF6",
            "gridcolor": "white",
            "gridwidth": 2,
            "linecolor": "white",
            "showbackground": true,
            "ticks": "",
            "zerolinecolor": "white"
           }
          },
          "shapedefaults": {
           "line": {
            "color": "#2a3f5f"
           }
          },
          "ternary": {
           "aaxis": {
            "gridcolor": "white",
            "linecolor": "white",
            "ticks": ""
           },
           "baxis": {
            "gridcolor": "white",
            "linecolor": "white",
            "ticks": ""
           },
           "bgcolor": "#E5ECF6",
           "caxis": {
            "gridcolor": "white",
            "linecolor": "white",
            "ticks": ""
           }
          },
          "title": {
           "x": 0.05
          },
          "xaxis": {
           "automargin": true,
           "gridcolor": "white",
           "linecolor": "white",
           "ticks": "",
           "title": {
            "standoff": 15
           },
           "zerolinecolor": "white",
           "zerolinewidth": 2
          },
          "yaxis": {
           "automargin": true,
           "gridcolor": "white",
           "linecolor": "white",
           "ticks": "",
           "title": {
            "standoff": 15
           },
           "zerolinecolor": "white",
           "zerolinewidth": 2
          }
         }
        },
        "title": {
         "text": "Représentation de la polarité des tweets"
        }
       }
      }
     },
     "metadata": {},
     "output_type": "display_data"
    },
    {
     "data": {
      "application/vnd.plotly.v1+json": {
       "config": {
        "plotlyServerURL": "https://plot.ly"
       },
       "data": [
        {
         "domain": {
          "x": [
           0,
           1
          ],
          "y": [
           0,
           1
          ]
         },
         "hovertemplate": "labels=%{label}<br>nombre de tweets=%{value}<extra></extra>",
         "labels": [
          "Objectif",
          "Subjectif"
         ],
         "legendgroup": "",
         "name": "",
         "showlegend": true,
         "type": "pie",
         "values": [
          977,
          731
         ]
        }
       ],
       "layout": {
        "legend": {
         "tracegroupgap": 0
        },
        "piecolorway": [
         "cornflowerblue",
         "lightcoral"
        ],
        "template": {
         "data": {
          "bar": [
           {
            "error_x": {
             "color": "#2a3f5f"
            },
            "error_y": {
             "color": "#2a3f5f"
            },
            "marker": {
             "line": {
              "color": "#E5ECF6",
              "width": 0.5
             },
             "pattern": {
              "fillmode": "overlay",
              "size": 10,
              "solidity": 0.2
             }
            },
            "type": "bar"
           }
          ],
          "barpolar": [
           {
            "marker": {
             "line": {
              "color": "#E5ECF6",
              "width": 0.5
             },
             "pattern": {
              "fillmode": "overlay",
              "size": 10,
              "solidity": 0.2
             }
            },
            "type": "barpolar"
           }
          ],
          "carpet": [
           {
            "aaxis": {
             "endlinecolor": "#2a3f5f",
             "gridcolor": "white",
             "linecolor": "white",
             "minorgridcolor": "white",
             "startlinecolor": "#2a3f5f"
            },
            "baxis": {
             "endlinecolor": "#2a3f5f",
             "gridcolor": "white",
             "linecolor": "white",
             "minorgridcolor": "white",
             "startlinecolor": "#2a3f5f"
            },
            "type": "carpet"
           }
          ],
          "choropleth": [
           {
            "colorbar": {
             "outlinewidth": 0,
             "ticks": ""
            },
            "type": "choropleth"
           }
          ],
          "contour": [
           {
            "colorbar": {
             "outlinewidth": 0,
             "ticks": ""
            },
            "colorscale": [
             [
              0,
              "#0d0887"
             ],
             [
              0.1111111111111111,
              "#46039f"
             ],
             [
              0.2222222222222222,
              "#7201a8"
             ],
             [
              0.3333333333333333,
              "#9c179e"
             ],
             [
              0.4444444444444444,
              "#bd3786"
             ],
             [
              0.5555555555555556,
              "#d8576b"
             ],
             [
              0.6666666666666666,
              "#ed7953"
             ],
             [
              0.7777777777777778,
              "#fb9f3a"
             ],
             [
              0.8888888888888888,
              "#fdca26"
             ],
             [
              1,
              "#f0f921"
             ]
            ],
            "type": "contour"
           }
          ],
          "contourcarpet": [
           {
            "colorbar": {
             "outlinewidth": 0,
             "ticks": ""
            },
            "type": "contourcarpet"
           }
          ],
          "heatmap": [
           {
            "colorbar": {
             "outlinewidth": 0,
             "ticks": ""
            },
            "colorscale": [
             [
              0,
              "#0d0887"
             ],
             [
              0.1111111111111111,
              "#46039f"
             ],
             [
              0.2222222222222222,
              "#7201a8"
             ],
             [
              0.3333333333333333,
              "#9c179e"
             ],
             [
              0.4444444444444444,
              "#bd3786"
             ],
             [
              0.5555555555555556,
              "#d8576b"
             ],
             [
              0.6666666666666666,
              "#ed7953"
             ],
             [
              0.7777777777777778,
              "#fb9f3a"
             ],
             [
              0.8888888888888888,
              "#fdca26"
             ],
             [
              1,
              "#f0f921"
             ]
            ],
            "type": "heatmap"
           }
          ],
          "heatmapgl": [
           {
            "colorbar": {
             "outlinewidth": 0,
             "ticks": ""
            },
            "colorscale": [
             [
              0,
              "#0d0887"
             ],
             [
              0.1111111111111111,
              "#46039f"
             ],
             [
              0.2222222222222222,
              "#7201a8"
             ],
             [
              0.3333333333333333,
              "#9c179e"
             ],
             [
              0.4444444444444444,
              "#bd3786"
             ],
             [
              0.5555555555555556,
              "#d8576b"
             ],
             [
              0.6666666666666666,
              "#ed7953"
             ],
             [
              0.7777777777777778,
              "#fb9f3a"
             ],
             [
              0.8888888888888888,
              "#fdca26"
             ],
             [
              1,
              "#f0f921"
             ]
            ],
            "type": "heatmapgl"
           }
          ],
          "histogram": [
           {
            "marker": {
             "pattern": {
              "fillmode": "overlay",
              "size": 10,
              "solidity": 0.2
             }
            },
            "type": "histogram"
           }
          ],
          "histogram2d": [
           {
            "colorbar": {
             "outlinewidth": 0,
             "ticks": ""
            },
            "colorscale": [
             [
              0,
              "#0d0887"
             ],
             [
              0.1111111111111111,
              "#46039f"
             ],
             [
              0.2222222222222222,
              "#7201a8"
             ],
             [
              0.3333333333333333,
              "#9c179e"
             ],
             [
              0.4444444444444444,
              "#bd3786"
             ],
             [
              0.5555555555555556,
              "#d8576b"
             ],
             [
              0.6666666666666666,
              "#ed7953"
             ],
             [
              0.7777777777777778,
              "#fb9f3a"
             ],
             [
              0.8888888888888888,
              "#fdca26"
             ],
             [
              1,
              "#f0f921"
             ]
            ],
            "type": "histogram2d"
           }
          ],
          "histogram2dcontour": [
           {
            "colorbar": {
             "outlinewidth": 0,
             "ticks": ""
            },
            "colorscale": [
             [
              0,
              "#0d0887"
             ],
             [
              0.1111111111111111,
              "#46039f"
             ],
             [
              0.2222222222222222,
              "#7201a8"
             ],
             [
              0.3333333333333333,
              "#9c179e"
             ],
             [
              0.4444444444444444,
              "#bd3786"
             ],
             [
              0.5555555555555556,
              "#d8576b"
             ],
             [
              0.6666666666666666,
              "#ed7953"
             ],
             [
              0.7777777777777778,
              "#fb9f3a"
             ],
             [
              0.8888888888888888,
              "#fdca26"
             ],
             [
              1,
              "#f0f921"
             ]
            ],
            "type": "histogram2dcontour"
           }
          ],
          "mesh3d": [
           {
            "colorbar": {
             "outlinewidth": 0,
             "ticks": ""
            },
            "type": "mesh3d"
           }
          ],
          "parcoords": [
           {
            "line": {
             "colorbar": {
              "outlinewidth": 0,
              "ticks": ""
             }
            },
            "type": "parcoords"
           }
          ],
          "pie": [
           {
            "automargin": true,
            "type": "pie"
           }
          ],
          "scatter": [
           {
            "fillpattern": {
             "fillmode": "overlay",
             "size": 10,
             "solidity": 0.2
            },
            "type": "scatter"
           }
          ],
          "scatter3d": [
           {
            "line": {
             "colorbar": {
              "outlinewidth": 0,
              "ticks": ""
             }
            },
            "marker": {
             "colorbar": {
              "outlinewidth": 0,
              "ticks": ""
             }
            },
            "type": "scatter3d"
           }
          ],
          "scattercarpet": [
           {
            "marker": {
             "colorbar": {
              "outlinewidth": 0,
              "ticks": ""
             }
            },
            "type": "scattercarpet"
           }
          ],
          "scattergeo": [
           {
            "marker": {
             "colorbar": {
              "outlinewidth": 0,
              "ticks": ""
             }
            },
            "type": "scattergeo"
           }
          ],
          "scattergl": [
           {
            "marker": {
             "colorbar": {
              "outlinewidth": 0,
              "ticks": ""
             }
            },
            "type": "scattergl"
           }
          ],
          "scattermapbox": [
           {
            "marker": {
             "colorbar": {
              "outlinewidth": 0,
              "ticks": ""
             }
            },
            "type": "scattermapbox"
           }
          ],
          "scatterpolar": [
           {
            "marker": {
             "colorbar": {
              "outlinewidth": 0,
              "ticks": ""
             }
            },
            "type": "scatterpolar"
           }
          ],
          "scatterpolargl": [
           {
            "marker": {
             "colorbar": {
              "outlinewidth": 0,
              "ticks": ""
             }
            },
            "type": "scatterpolargl"
           }
          ],
          "scatterternary": [
           {
            "marker": {
             "colorbar": {
              "outlinewidth": 0,
              "ticks": ""
             }
            },
            "type": "scatterternary"
           }
          ],
          "surface": [
           {
            "colorbar": {
             "outlinewidth": 0,
             "ticks": ""
            },
            "colorscale": [
             [
              0,
              "#0d0887"
             ],
             [
              0.1111111111111111,
              "#46039f"
             ],
             [
              0.2222222222222222,
              "#7201a8"
             ],
             [
              0.3333333333333333,
              "#9c179e"
             ],
             [
              0.4444444444444444,
              "#bd3786"
             ],
             [
              0.5555555555555556,
              "#d8576b"
             ],
             [
              0.6666666666666666,
              "#ed7953"
             ],
             [
              0.7777777777777778,
              "#fb9f3a"
             ],
             [
              0.8888888888888888,
              "#fdca26"
             ],
             [
              1,
              "#f0f921"
             ]
            ],
            "type": "surface"
           }
          ],
          "table": [
           {
            "cells": {
             "fill": {
              "color": "#EBF0F8"
             },
             "line": {
              "color": "white"
             }
            },
            "header": {
             "fill": {
              "color": "#C8D4E3"
             },
             "line": {
              "color": "white"
             }
            },
            "type": "table"
           }
          ]
         },
         "layout": {
          "annotationdefaults": {
           "arrowcolor": "#2a3f5f",
           "arrowhead": 0,
           "arrowwidth": 1
          },
          "autotypenumbers": "strict",
          "coloraxis": {
           "colorbar": {
            "outlinewidth": 0,
            "ticks": ""
           }
          },
          "colorscale": {
           "diverging": [
            [
             0,
             "#8e0152"
            ],
            [
             0.1,
             "#c51b7d"
            ],
            [
             0.2,
             "#de77ae"
            ],
            [
             0.3,
             "#f1b6da"
            ],
            [
             0.4,
             "#fde0ef"
            ],
            [
             0.5,
             "#f7f7f7"
            ],
            [
             0.6,
             "#e6f5d0"
            ],
            [
             0.7,
             "#b8e186"
            ],
            [
             0.8,
             "#7fbc41"
            ],
            [
             0.9,
             "#4d9221"
            ],
            [
             1,
             "#276419"
            ]
           ],
           "sequential": [
            [
             0,
             "#0d0887"
            ],
            [
             0.1111111111111111,
             "#46039f"
            ],
            [
             0.2222222222222222,
             "#7201a8"
            ],
            [
             0.3333333333333333,
             "#9c179e"
            ],
            [
             0.4444444444444444,
             "#bd3786"
            ],
            [
             0.5555555555555556,
             "#d8576b"
            ],
            [
             0.6666666666666666,
             "#ed7953"
            ],
            [
             0.7777777777777778,
             "#fb9f3a"
            ],
            [
             0.8888888888888888,
             "#fdca26"
            ],
            [
             1,
             "#f0f921"
            ]
           ],
           "sequentialminus": [
            [
             0,
             "#0d0887"
            ],
            [
             0.1111111111111111,
             "#46039f"
            ],
            [
             0.2222222222222222,
             "#7201a8"
            ],
            [
             0.3333333333333333,
             "#9c179e"
            ],
            [
             0.4444444444444444,
             "#bd3786"
            ],
            [
             0.5555555555555556,
             "#d8576b"
            ],
            [
             0.6666666666666666,
             "#ed7953"
            ],
            [
             0.7777777777777778,
             "#fb9f3a"
            ],
            [
             0.8888888888888888,
             "#fdca26"
            ],
            [
             1,
             "#f0f921"
            ]
           ]
          },
          "colorway": [
           "#636efa",
           "#EF553B",
           "#00cc96",
           "#ab63fa",
           "#FFA15A",
           "#19d3f3",
           "#FF6692",
           "#B6E880",
           "#FF97FF",
           "#FECB52"
          ],
          "font": {
           "color": "#2a3f5f"
          },
          "geo": {
           "bgcolor": "white",
           "lakecolor": "white",
           "landcolor": "#E5ECF6",
           "showlakes": true,
           "showland": true,
           "subunitcolor": "white"
          },
          "hoverlabel": {
           "align": "left"
          },
          "hovermode": "closest",
          "mapbox": {
           "style": "light"
          },
          "paper_bgcolor": "white",
          "plot_bgcolor": "#E5ECF6",
          "polar": {
           "angularaxis": {
            "gridcolor": "white",
            "linecolor": "white",
            "ticks": ""
           },
           "bgcolor": "#E5ECF6",
           "radialaxis": {
            "gridcolor": "white",
            "linecolor": "white",
            "ticks": ""
           }
          },
          "scene": {
           "xaxis": {
            "backgroundcolor": "#E5ECF6",
            "gridcolor": "white",
            "gridwidth": 2,
            "linecolor": "white",
            "showbackground": true,
            "ticks": "",
            "zerolinecolor": "white"
           },
           "yaxis": {
            "backgroundcolor": "#E5ECF6",
            "gridcolor": "white",
            "gridwidth": 2,
            "linecolor": "white",
            "showbackground": true,
            "ticks": "",
            "zerolinecolor": "white"
           },
           "zaxis": {
            "backgroundcolor": "#E5ECF6",
            "gridcolor": "white",
            "gridwidth": 2,
            "linecolor": "white",
            "showbackground": true,
            "ticks": "",
            "zerolinecolor": "white"
           }
          },
          "shapedefaults": {
           "line": {
            "color": "#2a3f5f"
           }
          },
          "ternary": {
           "aaxis": {
            "gridcolor": "white",
            "linecolor": "white",
            "ticks": ""
           },
           "baxis": {
            "gridcolor": "white",
            "linecolor": "white",
            "ticks": ""
           },
           "bgcolor": "#E5ECF6",
           "caxis": {
            "gridcolor": "white",
            "linecolor": "white",
            "ticks": ""
           }
          },
          "title": {
           "x": 0.05
          },
          "xaxis": {
           "automargin": true,
           "gridcolor": "white",
           "linecolor": "white",
           "ticks": "",
           "title": {
            "standoff": 15
           },
           "zerolinecolor": "white",
           "zerolinewidth": 2
          },
          "yaxis": {
           "automargin": true,
           "gridcolor": "white",
           "linecolor": "white",
           "ticks": "",
           "title": {
            "standoff": 15
           },
           "zerolinecolor": "white",
           "zerolinewidth": 2
          }
         }
        },
        "title": {
         "text": "Représentation de l'objectivité des tweets"
        }
       }
      }
     },
     "metadata": {},
     "output_type": "display_data"
    }
   ],
   "source": [
    "def show_pie_chart(list_used: list):\n",
    "    if list_used == Tweet.tweets_polarity:\n",
    "        labels = 'Négatif', 'Neutre', 'Positif'\n",
    "        sizes = Tweet.tweets_polarity\n",
    "        colors = ['silver', 'lightcoral', 'mediumaquamarine']\n",
    "        title = 'Représentation de la polarité des tweets'\n",
    "    elif list_used == Tweet.tweets_objectivity:\n",
    "        labels = 'Objectif', 'Subjectif'\n",
    "        sizes = Tweet.tweets_objectivity\n",
    "        colors = ['cornflowerblue', 'lightcoral']\n",
    "        title = 'Représentation de l\\'objectivité des tweets'\n",
    "    else:\n",
    "        return f'La liste {list_used} n\\'est pas compatible avec la fonction show_pie_chart'\n",
    "    df = pd.DataFrame({'labels': labels, 'nombre de tweets': sizes})\n",
    "    fig = px.pie(df, names='labels', values='nombre de tweets', title=title, color_discrete_sequence=colors)\n",
    "    fig.show()\n",
    "\n",
    "show_pie_chart(Tweet.tweets_polarity)\n",
    "show_pie_chart(Tweet.tweets_objectivity)"
   ]
  },
  {
   "cell_type": "markdown",
   "metadata": {},
   "source": [
    "Fonction montrant la subjectivité des tweets en fonction de leur polarité"
   ]
  },
  {
   "cell_type": "code",
   "execution_count": 112,
   "metadata": {},
   "outputs": [
    {
     "data": {
      "application/vnd.plotly.v1+json": {
       "config": {
        "plotlyServerURL": "https://plot.ly"
       },
       "data": [
        {
         "hovertemplate": "Subjectivité=%{x}<br>Polarité=%{marker.color}<extra></extra>",
         "legendgroup": "",
         "marker": {
          "color": [
           0.15000000000000002,
           0,
           -0.6,
           0.125,
           0,
           0,
           0,
           0,
           -0.3,
           -0.04999999999999999,
           -0.13333333333333333,
           0.04999999999999999,
           -0.11666666666666665,
           0.05,
           0.05,
           -0.16666666666666666,
           0,
           0,
           0,
           -0.6,
           -0.6,
           0,
           -0.6,
           -0.6,
           -0.2318181818181818,
           0.10545454545454547,
           -0.6,
           -0.425,
           0,
           -0.34375,
           0,
           0,
           0,
           -0.2833333333333333,
           0,
           0,
           -0.6,
           0.13333333333333333,
           0,
           0,
           0,
           0,
           0,
           -0.11666666666666667,
           -0.11666666666666667,
           1,
           0,
           0,
           0,
           -0.15454545454545454,
           -0.6,
           0,
           0,
           0,
           0,
           0,
           0,
           0,
           0.03333333333333333,
           0,
           0.4,
           0,
           0.5,
           -0.3,
           -0.3,
           0,
           0.06875,
           0,
           0,
           -0.6,
           0,
           -0.175,
           -0.6,
           -0.04999999999999999,
           -0.6,
           -0.6,
           0,
           0,
           0,
           0,
           0.012121212121212125,
           0.375,
           -0.22083333333333333,
           0,
           0,
           -0.6,
           0,
           0,
           -0.6,
           0,
           -0.6,
           0,
           -0.44999999999999996,
           0.13333333333333333,
           0,
           0,
           -0.6,
           0,
           0,
           0,
           0.3181818181818182,
           0.2666666666666667,
           -0.3,
           0.014962121212121218,
           0,
           0,
           0,
           0.033333333333333326,
           0,
           0,
           0,
           -0.6,
           0.11666666666666665,
           0,
           0.2,
           0,
           0,
           0,
           -0.6,
           -0.175,
           -0.6,
           -0.07499999999999998,
           -0.6,
           -0.04999999999999999,
           0,
           -0.6,
           -0.2333333333333333,
           0,
           0.4,
           -0.6,
           -0.6,
           -0.16666666666666666,
           0,
           0.5,
           0.16666666666666666,
           0,
           -0.6,
           -0.19999999999999998,
           -0.6,
           0,
           0,
           -0.175,
           0,
           0,
           -0.6,
           -0.6,
           0,
           -0.44999999999999996,
           -0.6,
           0,
           0,
           -0.6,
           0,
           0,
           -0.13333333333333333,
           0,
           0,
           0,
           -0.15,
           -0.15,
           -0.15,
           -0.6,
           -0.6,
           -0.19999999999999998,
           0.21666666666666667,
           0,
           -0.15,
           -0.3,
           0,
           0,
           0.1340909090909091,
           0,
           0,
           0,
           -0.6,
           0,
           0.2,
           0,
           0,
           0,
           -0.2318181818181818,
           0.2,
           0,
           0,
           -0.6,
           0,
           -0.6,
           -0.04999999999999999,
           0,
           0,
           0,
           0,
           0,
           0,
           -0.01666666666666668,
           0,
           -0.6,
           0.05,
           0.16,
           0,
           0,
           0,
           0,
           -0.6,
           -0.6,
           0,
           0,
           -0.6,
           -0.11071428571428571,
           -0.2318181818181818,
           -0.3,
           -0.6,
           0,
           0,
           -0.1534090909090909,
           -0.22833333333333333,
           -0.2318181818181818,
           0,
           -0.2833333333333333,
           0.06818181818181818,
           -0.6,
           -0.04999999999999999,
           0,
           -0.2318181818181818,
           -0.3333333333333333,
           -0.175,
           -0.425,
           -0.6,
           0,
           0.3,
           -0.2333333333333333,
           -0.21477272727272728,
           0,
           0.5,
           -0.6,
           -0.6,
           0,
           -0.6,
           0,
           0.375,
           0,
           0,
           0,
           -0.04999999999999999,
           -0.3,
           -0.6,
           0,
           0,
           0,
           -0.6,
           0,
           -0.033333333333333326,
           -0.19999999999999998,
           0,
           0.06818181818181818,
           -0.2318181818181818,
           0,
           -0.09999999999999998,
           0,
           -0.6,
           0.05833333333333333,
           -0.3,
           -0.6,
           -0.3,
           0,
           0,
           -0.15,
           0,
           0,
           0,
           0.5,
           0,
           0.13333333333333333,
           -0.3,
           0,
           -0.6,
           -0.6,
           -0.15454545454545454,
           0,
           0,
           0,
           0,
           0.25,
           0.07499999999999998,
           -0.75,
           -0.19285714285714284,
           0,
           0,
           0,
           0,
           -0.6,
           0,
           0,
           0,
           -0.0875,
           0,
           0,
           0,
           0,
           -0.6,
           -0.024999999999999994,
           0,
           0,
           0.022222222222222216,
           -0.3,
           0,
           0,
           0,
           0,
           0,
           0,
           -0.00555555555555555,
           -0.00555555555555555,
           0.3111111111111111,
           -0.033333333333333326,
           0,
           0,
           0,
           -0.19999999999999998,
           -0.6,
           -0.6,
           0.13636363636363635,
           0,
           -0.3,
           0,
           0,
           0.028571428571428574,
           0.22,
           0,
           -0.6,
           -0.024999999999999994,
           -0.2318181818181818,
           0,
           0,
           0,
           0.2857142857142857,
           0,
           0,
           -0.125,
           0,
           0,
           0,
           -0.15625,
           -0.6,
           0,
           -0.10000000000000002,
           0,
           0.2,
           0,
           0,
           -0.26666666666666666,
           -0.6,
           0,
           0,
           -0.6,
           -0.6,
           -0.19999999999999998,
           0.02500000000000001,
           -0.6,
           -0.6,
           -0.6,
           0,
           0.35,
           -0.3,
           0.35,
           0,
           -0.3,
           -0.6,
           0,
           0.5,
           0,
           0,
           0,
           0.25,
           -0.6,
           0,
           0,
           0,
           0,
           -0.024999999999999994,
           0,
           0.3181818181818182,
           0,
           0,
           0,
           -0.3,
           -0.6,
           0,
           0.26,
           -0.04285714285714285,
           -0.6,
           -0.6,
           0,
           -0.2318181818181818,
           0.22999999999999998,
           0,
           0,
           0,
           -0.6,
           0,
           -0.44999999999999996,
           -0.6,
           0.175,
           -0.6,
           0.2,
           -0.6,
           -0.425,
           -0.033333333333333326,
           -0.19999999999999998,
           0,
           -0.6,
           0,
           0,
           0,
           0.1,
           0,
           0.5,
           0,
           0.05,
           0.2,
           -0.22777777777777775,
           0.2,
           -0.6,
           0,
           -0.35,
           -0.35,
           -0.08787878787878788,
           -0.6,
           0.06818181818181818,
           -0.6,
           -0.6,
           -0.6,
           0,
           -0.6,
           0,
           -0.2318181818181818,
           -0.6,
           0,
           -0.6,
           -0.6,
           0,
           -0.15625,
           0,
           0,
           -0.033333333333333326,
           0,
           0,
           0.3666666666666667,
           0.06818181818181818,
           0,
           0,
           0.5,
           0.5,
           -0.3,
           0,
           -0.6,
           0,
           -0.1,
           0,
           0,
           0,
           0,
           0.06666666666666667,
           -0.6,
           0,
           0.10000000000000002,
           0,
           0,
           0.012500000000000011,
           0,
           0.27777777777777773,
           0,
           0,
           0,
           0,
           -0.6,
           0,
           0,
           -0.06666666666666665,
           0,
           0,
           -0.21666666666666667,
           -0.2318181818181818,
           -0.05,
           -0.6,
           0,
           1,
           0,
           0,
           -0.6,
           -0.6,
           0,
           0,
           -0.04999999999999999,
           -0.6,
           0,
           0,
           0,
           0,
           0,
           0,
           0.2916666666666667,
           0,
           -0.6,
           -0.6,
           -0.6,
           -0.6,
           -0.6,
           -0.21477272727272728,
           0,
           0.175,
           -0.6,
           0.13333333333333333,
           0,
           0.5,
           -0.15,
           -0.2318181818181818,
           0,
           0,
           0.08333333333333333,
           -0.5,
           -0.6,
           0,
           0,
           0,
           0.1,
           -0.11666666666666664,
           0,
           0.4352272727272727,
           0,
           0,
           0,
           0,
           -0.6,
           -0.6666666666666666,
           0.02500000000000001,
           -0.3,
           -0.6,
           0,
           0,
           0,
           0.13636363636363635,
           0,
           0,
           0.009090909090909094,
           0,
           0,
           0,
           0,
           -0.15,
           0,
           0,
           0.5,
           0,
           -0.6,
           0,
           0,
           0,
           -0.3,
           0.23484848484848483,
           -0.75,
           0,
           -0.75,
           -0.1666666666666666,
           0,
           -0.3,
           0.04999999999999999,
           -0.6,
           -0.6,
           -0.26,
           0,
           0.175,
           0,
           0,
           -0.2,
           0,
           0,
           -0.425,
           0,
           -0.3,
           0,
           -0.6,
           0,
           0.2333333333333333,
           -0.6,
           0,
           -0.6,
           -0.6,
           -0.024999999999999994,
           0,
           -0.6,
           0,
           0.125,
           0,
           -0.19285714285714284,
           -0.3,
           -0.3,
           0,
           -0.3,
           -0.09999999999999998,
           0,
           0,
           -0.6,
           0,
           0,
           0,
           -0.3,
           0,
           0,
           0,
           -0.09999999999999999,
           -0.6,
           -0.04999999999999999,
           0,
           0,
           0,
           0,
           0,
           0,
           -0.056249999999999994,
           0.5,
           0,
           -0.19999999999999998,
           0,
           0,
           -0.6,
           0,
           -0.325,
           0.5,
           -0.6,
           -0.3,
           0.15284090909090908,
           0,
           -0.6,
           -0.09999999999999998,
           0.08333333333333334,
           0,
           -0.6,
           0,
           0.1,
           0,
           0,
           0,
           0,
           0,
           0,
           0,
           -0.125,
           0,
           -0.3,
           -0.19999999999999998,
           -0.6,
           -0.06799999999999999,
           0.5,
           -0.6,
           -0.3,
           0,
           0,
           0,
           -0.6,
           0,
           0,
           0,
           -0.0625,
           -0.033333333333333326,
           -0.3,
           -0.19999999999999998,
           0,
           0,
           0,
           0.09523809523809523,
           -0.19999999999999998,
           -0.14666666666666664,
           -0.6,
           0,
           0,
           0,
           0,
           -0.3,
           -0.6,
           0,
           0,
           0,
           0.05000000000000002,
           0,
           0,
           -0.6,
           0.55,
           0,
           -0.2333333333333333,
           0,
           0.08536796536796537,
           -0.30416666666666664,
           -0.6,
           0,
           0.45,
           -0.6,
           0,
           -0.6,
           0,
           0,
           -0.75,
           0,
           -0.18333333333333332,
           -0.2125,
           -0.6,
           -0.3,
           0,
           0,
           0,
           -0.6,
           0,
           -0.6,
           0.5,
           -0.6,
           0.5,
           -0.3,
           0,
           0,
           0,
           0,
           -0.6,
           -0.6,
           0,
           -0.23787878787878788,
           0,
           -0.6,
           -0.6,
           0.3333333333333333,
           0.25,
           0.2,
           0,
           -0.6,
           -0.2318181818181818,
           0,
           0.2,
           0,
           0.05,
           -0.2318181818181818,
           -0.30416666666666664,
           -0.19285714285714284,
           0,
           0,
           0,
           0,
           -0.35,
           0,
           0.6,
           -0.125,
           -0.125,
           -0.08333333333333333,
           -0.09999999999999999,
           0,
           0.5,
           0,
           -0.09999999999999999,
           0,
           0,
           0.16666666666666666,
           0,
           -0.3,
           0.26,
           0,
           0.5,
           0.14545454545454545,
           0,
           0,
           -0.3,
           0,
           0,
           0,
           0,
           -0.325,
           0,
           0,
           -0.22857142857142856,
           0,
           0,
           0.5,
           -0.07499999999999998,
           0.25,
           -0.6,
           0.25,
           -0.6,
           0.35,
           0,
           0,
           0,
           -0.6,
           -0.6,
           0,
           0,
           0.2857142857142857,
           -0.16666666666666666,
           -0.3,
           0,
           0,
           -0.46875,
           0.34659090909090906,
           -0.033333333333333326,
           0,
           0,
           0.26666666666666666,
           -0.3,
           0,
           -0.3,
           -0.6,
           -0.6,
           0,
           0,
           0,
           -0.6,
           -0.6,
           0.05,
           0,
           -0.09999999999999998,
           0.26666666666666666,
           -0.6,
           0,
           0.1,
           0.10000000000000003,
           0,
           0,
           0,
           -0.6,
           -0.6,
           0,
           0,
           0,
           -0.6,
           0,
           -0.3,
           0,
           -0.6,
           -0.6,
           0,
           0,
           0,
           0,
           -0.6,
           0,
           -0.6,
           -0.3,
           -0.3,
           -0.6,
           0,
           0,
           -0.6,
           0.225,
           -0.6,
           0,
           0,
           -0.04999999999999999,
           -0.6,
           -0.3,
           -0.3,
           -0.6,
           0,
           0.14999999999999994,
           0.5,
           0,
           0.16818181818181818,
           -0.6,
           -0.6,
           0,
           -0.6,
           0,
           -0.2318181818181818,
           0,
           -0.4,
           -0.6,
           0,
           0,
           0,
           -0.6,
           -0.6,
           -0.2318181818181818,
           -0.6,
           -0.2,
           0,
           0,
           -0.6,
           -0.039999999999999994,
           0.05,
           0,
           0,
           0,
           0,
           0,
           0,
           0,
           0.1,
           0,
           0.1787878787878788,
           0,
           0.2,
           -0.6,
           0.1787878787878788,
           -0.19999999999999998,
           -0.6,
           -0.15,
           -0.6,
           -0.06666666666666665,
           0.14166666666666666,
           0,
           -0.15,
           0.1,
           -0.6,
           -0.6,
           -0.04999999999999999,
           -0.18333333333333335,
           0,
           -0.6,
           0,
           0,
           -0.6,
           0,
           0,
           -0.10799999999999996,
           0,
           0,
           -0.1471590909090909,
           0,
           0,
           0,
           0,
           0,
           -0.6,
           0,
           -0.6,
           0.5,
           -0.19999999999999998,
           -0.3,
           0.10000000000000003,
           0.1375,
           -0.6,
           0,
           0.1,
           -0.6,
           0,
           0,
           0.3,
           0,
           0,
           0,
           -0.19999999999999998,
           0.07499999999999998,
           0.19999999999999998,
           0,
           0.075,
           0.07499999999999998,
           0,
           0.07499999999999998,
           0.125,
           -0.6,
           -0.6,
           -0.3,
           0.07499999999999998,
           0,
           0.3,
           -0.6,
           0,
           0.3,
           0,
           -0.16666666666666666,
           0,
           -0.25,
           0,
           0,
           0.07499999999999998,
           -0.3,
           0.07499999999999998,
           -0.6,
           0,
           0.07499999999999998,
           0.07499999999999998,
           -0.19999999999999998,
           0,
           -0.6,
           0.07499999999999998,
           -0.6,
           0.13636363636363635,
           0,
           -0.16666666666666666,
           0,
           -0.6,
           -0.3,
           0.3,
           -0.26666666666666666,
           -0.3,
           0,
           0,
           -0.04999999999999999,
           0.07499999999999998,
           0,
           0.125,
           -0.14666666666666664,
           0,
           0,
           0,
           0,
           -0.0875,
           -0.6,
           0,
           -0.6,
           -0.6,
           0,
           0,
           0.2,
           0,
           -0.6,
           -0.55,
           0.5,
           0,
           0,
           -0.6,
           0,
           0.1111111111111111,
           -0.6,
           -0.07500000000000001,
           0,
           -0.6,
           0,
           0,
           0.07499999999999998,
           0.07499999999999998,
           -0.04999999999999999,
           0,
           0,
           0.07499999999999998,
           0,
           0.3,
           0,
           -0.6,
           0.25,
           -0.013888888888888895,
           -0.2791666666666667,
           -0.09285714285714285,
           -0.325,
           0.35,
           0.07499999999999998,
           0.07499999999999998,
           0,
           -0.11435185185185186,
           0.1787878787878788,
           0.23854166666666668,
           -0.6,
           0.07499999999999998,
           -0.6,
           0,
           0,
           0,
           0,
           0,
           0,
           0.08,
           0,
           0.06666666666666667,
           -0.6,
           0.09999999999999999,
           0.09999999999999999,
           -0.3,
           -0.033333333333333326,
           0.375,
           0,
           -0.033333333333333326,
           0,
           0,
           0,
           0,
           0,
           0,
           0.125,
           0,
           0,
           -0.6,
           -0.6,
           0,
           0,
           0,
           0,
           -0.6,
           0,
           0,
           0,
           -0.6,
           0.8,
           -0.3,
           -0.6,
           -0.6,
           -0.12187499999999998,
           -0.6,
           0,
           0,
           0,
           -0.3,
           0.11212121212121212,
           0.2888888888888889,
           -0.45,
           0,
           -0.013888888888888895,
           0,
           -0.325,
           0,
           -0.2318181818181818,
           -0.6,
           0.18750000000000003,
           0,
           -0.3,
           -0.041666666666666664,
           -0.2318181818181818,
           0,
           -0.35,
           -0.013888888888888895,
           0,
           0.13636363636363635,
           0,
           -0.3,
           0,
           -0.6,
           -0.03787878787878788,
           -0.2318181818181818,
           0,
           0,
           -0.6,
           0.07500000000000001,
           -0.175,
           -0.3833333333333333,
           0,
           0,
           0,
           -0.6,
           0.07500000000000001,
           0,
           0,
           -0.3,
           0,
           0.016666666666666677,
           0,
           0,
           5.551115123125783e-17,
           0.024999999999999994,
           -0.08295454545454545,
           -0.10729166666666667,
           -0.5111111111111111,
           -0.15,
           -0.6,
           -0.6,
           0,
           -0.15,
           0,
           -0.15,
           -0.15,
           0,
           0,
           0.11212121212121212,
           0,
           0.4,
           -0.3,
           -0.18333333333333335,
           0.5,
           -0.09999999999999998,
           -0.6,
           -0.15,
           -0.18333333333333335,
           -0.3,
           0,
           0,
           -0.6,
           -0.6,
           0,
           0,
           0,
           -0.6,
           -0.15,
           -0.15,
           -0.01072727272727273,
           0,
           -0.6,
           -0.15,
           0.5,
           -0.44999999999999996,
           -0.18333333333333335,
           0.07500000000000001,
           0.07500000000000001,
           0,
           0,
           -0.6,
           -0.6,
           0,
           0,
           -0.6,
           -0.4,
           -0.9375,
           0.25,
           -0.6,
           0,
           0.25,
           0.050000000000000024,
           -0.3,
           -0.6,
           -0.3,
           -0.6,
           0,
           0.5,
           0,
           0,
           0.25,
           0,
           0,
           0.3,
           0,
           0.5,
           -0.6,
           -0.6,
           0,
           0,
           0,
           -0.19999999999999998,
           -0.06666666666666665,
           0,
           0,
           0,
           -0.35,
           -0.6,
           -0.075,
           0,
           -0.6,
           -0.6,
           -0.6,
           -0.3,
           0,
           0,
           -0.6,
           0,
           0,
           -0.19999999999999998,
           -0.6,
           0.05555555555555555,
           -0.6,
           -0.134375,
           -0.6,
           0,
           0,
           -0.6,
           -0.1,
           0,
           0.4928571428571428,
           0.35,
           0,
           0,
           0,
           -0.09999999999999998,
           0,
           0,
           -0.6,
           0.3,
           -0.04999999999999999,
           0,
           -0.19999999999999998,
           -0.04999999999999999,
           0.3333333333333333,
           -0.11249999999999999,
           -0.3,
           -0.6,
           0,
           0,
           -0.16666666666666666,
           0,
           0.16666666666666666,
           -0.11249999999999999,
           -0.6,
           0,
           0,
           -0.04999999999999999,
           0,
           -0.6,
           0.010000000000000009,
           0,
           -0.2318181818181818,
           -0.6,
           0,
           0,
           0,
           0,
           0,
           0,
           0,
           0,
           -0.125,
           -0.6,
           -0.04999999999999999,
           -0.25,
           0.03333333333333333,
           0,
           -0.25,
           0,
           -0.6,
           -0.5,
           -0.5,
           0,
           0,
           -0.75,
           0,
           -0.3,
           0,
           0,
           -0.25,
           0.20075757575757575,
           -0.3833333333333333,
           -0.019999999999999997,
           0,
           -0.375,
           -0.6,
           0,
           -0.3,
           -0.11249999999999999,
           -0.3,
           0.10000000000000003,
           -0.6,
           -0.6,
           -0.6,
           -0.25,
           0,
           -0.19999999999999998,
           0,
           -0.6,
           -0.6,
           0,
           -0.6,
           0,
           0,
           -0.6,
           0,
           -0.1,
           -0.1,
           -0.1111111111111111,
           -0.6,
           0.13636363636363635,
           0,
           0,
           0,
           -0.25,
           0,
           -0.6,
           -0.3,
           -0.3833333333333333,
           0,
           0,
           0,
           0,
           0,
           0,
           0,
           0,
           0.25,
           0,
           -0.35,
           0,
           -0.35,
           0,
           -0.6,
           -0.2318181818181818,
           -0.6,
           0,
           0,
           0.06666666666666668,
           -0.6,
           -0.6,
           0,
           0,
           0.16666666666666666,
           0.16666666666666666,
           0.4,
           0,
           0,
           -0.6,
           -0.6,
           -0.2318181818181818,
           0,
           0,
           0,
           0.2,
           -0.3,
           0,
           0,
           -0.12857142857142856,
           0,
           0,
           0.44375,
           -0.3,
           -0.6,
           -0.6,
           -0.6,
           -0.19999999999999998,
           -0.5,
           -0.10909090909090909,
           0,
           -0.06666666666666665,
           0,
           0,
           -0.3,
           -0.6,
           -0.6,
           0,
           0,
           -0.19999999999999998,
           -0.2318181818181818,
           -0.3,
           0.25,
           0,
           0,
           0.24000000000000005,
           -0.425,
           -0.6,
           -0.3,
           0,
           -0.11249999999999999,
           -0.04999999999999999,
           -0.6,
           -0.13749999999999998,
           -0.6,
           -0.6,
           0,
           0.5,
           0.05,
           0,
           -0.6,
           -0.19999999999999998,
           -0.3,
           0,
           -0.19999999999999998,
           -0.6,
           0,
           -0.6,
           -0.2318181818181818,
           -0.325,
           0,
           -0.3,
           0.13636363636363635,
           0,
           0.13636363636363635,
           0.13636363636363635,
           0,
           -0.1,
           -0.6,
           0,
           0.04999999999999999,
           0,
           -0.6,
           -0.6,
           0,
           0,
           -0.6,
           -0.04999999999999999,
           -0.25,
           0,
           1,
           0,
           0,
           0,
           0.25,
           -0.3,
           0.10000000000000003,
           0.10000000000000003,
           0.25,
           0.1,
           -0.6,
           -0.6,
           -0.6,
           0,
           0,
           -0.09619047619047619,
           1,
           -0.175,
           -0.6,
           -0.6,
           0,
           0.05,
           -0.02333333333333332,
           0,
           0.05,
           0.05,
           0,
           0.05,
           0,
           -0.6,
           -0.75,
           -0.75,
           0.05833333333333333,
           -0.75,
           -0.3,
           0,
           0,
           0.05,
           0.25,
           0.15,
           0.05,
           -0.6,
           0.05,
           0.05,
           -0.015151515151515152,
           0.375,
           -0.6,
           0,
           -0.6,
           0.5,
           0.5,
           -0.2318181818181818,
           0,
           0.06666666666666667,
           0,
           0.07000000000000002,
           0,
           0.016666666666666663,
           -0.21666666666666667,
           0.05,
           0.15000000000000002,
           -0.6,
           0.10000000000000003,
           0.05,
           -0.0212121212121212,
           -0.2333333333333333,
           -0.6,
           -0.6,
           0,
           0,
           0.05,
           0.13636363636363635,
           -0.2318181818181818,
           0,
           -0.6,
           0,
           0.05,
           -0.11666666666666665,
           0.05,
           -0.2318181818181818,
           0.25,
           0.05,
           0,
           0,
           0.04999999999999999,
           0,
           -0.6,
           0,
           0,
           0,
           0.125,
           -0.6666666666666666,
           0,
           -0.1,
           0,
           0.05,
           -0.6,
           0.1625,
           -0.6,
           0,
           0,
           -0.5,
           -0.18333333333333332,
           0,
           0,
           0,
           0,
           -0.6,
           0,
           -0.19999999999999998,
           -0.4,
           0.2,
           -0.2318181818181818,
           -0.6,
           0.05,
           0.05,
           -0.6,
           0,
           0,
           -0.6,
           0,
           0,
           0.1787878787878788,
           0,
           -0.10555555555555556,
           -0.10555555555555556,
           -0.44999999999999996,
           0,
           -0.275,
           0,
           -0.275,
           0,
           0,
           0,
           -0.5,
           -0.6,
           0,
           0,
           0,
           -0.24166666666666667,
           0,
           0.18333333333333335,
           0.18333333333333335,
           -0.3,
           0.13636363636363635,
           -0.6,
           0,
           -0.19999999999999998,
           0.13636363636363635,
           -0.04999999999999999,
           -0.09999999999999998,
           0,
           -0.19999999999999998,
           0,
           0,
           -0.3666666666666667,
           0.05,
           0,
           -0.12222222222222222,
           -0.4666666666666666,
           0.5,
           -0.6,
           0.10000000000000003,
           -0.033928571428571426,
           0.2,
           -0.6,
           0,
           -0.04999999999999999,
           -0.09999999999999998,
           0,
           -0.08888888888888889,
           0,
           -0.19999999999999998,
           -0.2318181818181818,
           -0.08888888888888889,
           -0.6,
           0,
           -0.10340909090909092,
           0,
           -0.6,
           0,
           0,
           0,
           0.5,
           0,
           -0.1433333333333333,
           0.5,
           -0.2318181818181818,
           -0.044285714285714275,
           0,
           0,
           0,
           -0.6,
           0,
           0.05,
           0,
           0,
           -0.6,
           0,
           0,
           -0.19999999999999998,
           -0.30000000000000004,
           0,
           0,
           0,
           0,
           0,
           0,
           0,
           0.2333333333333333,
           -0.04999999999999999,
           -0.75,
           -0.75,
           -0.75,
           -0.75,
           -0.5,
           0.28571428571428575,
           -0.5,
           -0.6,
           0,
           0.25,
           0,
           0,
           -0.6,
           0,
           0.013333333333333341,
           0.5,
           0.25,
           -0.3,
           -0.6,
           -0.6,
           0,
           0,
           0.07500000000000001,
           0,
           0,
           0,
           0,
           0,
           -0.3,
           0,
           0,
           0,
           0,
           0.16666666666666666,
           0,
           0.033333333333333326,
           0.13636363636363635,
           0,
           0,
           0
          ],
          "coloraxis": "coloraxis",
          "symbol": "circle"
         },
         "mode": "markers",
         "name": "",
         "showlegend": false,
         "type": "scattergl",
         "x": [
          0.75,
          0,
          1,
          0.2875,
          0,
          0.26666666666666666,
          0,
          0,
          0.6785714285714286,
          1,
          0.47500000000000003,
          0.55,
          0.4444444444444444,
          0.4,
          0.4,
          0.6,
          0,
          0,
          0,
          1,
          1,
          0,
          1,
          1,
          0.7272727272727273,
          0.8181818181818182,
          1,
          0.625,
          0,
          1,
          0,
          0,
          0,
          0.5833333333333334,
          0,
          0,
          1,
          0.6666666666666666,
          0,
          0,
          0,
          0,
          0,
          0.4666666666666667,
          0.4666666666666667,
          1,
          0,
          0,
          0,
          0.5681818181818182,
          1,
          0,
          0,
          0,
          0,
          0,
          0,
          0,
          0.06666666666666667,
          0,
          0.7,
          0,
          0.5,
          1,
          0.55,
          0,
          0.59375,
          0,
          0,
          1,
          0,
          0.9,
          1,
          1,
          1,
          1,
          0,
          0,
          0,
          0,
          0.6515151515151515,
          0.875,
          0.6458333333333334,
          0,
          0,
          1,
          0,
          0,
          1,
          0,
          1,
          0,
          0.6,
          0.46666666666666673,
          0,
          0,
          1,
          0,
          0,
          0,
          0.4772727272727273,
          0.9666666666666667,
          0.55,
          0.3583333333333334,
          0,
          0,
          0,
          0.7000000000000001,
          0,
          0,
          0,
          1,
          0.5625,
          0,
          1,
          0,
          0,
          0,
          1,
          0.6666666666666666,
          1,
          0.45625000000000004,
          1,
          0.75,
          0,
          1,
          0.4666666666666666,
          0,
          0.6,
          1,
          1,
          0.6333333333333333,
          0,
          0.6416666666666666,
          0.5,
          0,
          1,
          0.95,
          1,
          0,
          0,
          0.75,
          0,
          0,
          1,
          1,
          0.1,
          0.7,
          1,
          0,
          0,
          1,
          0,
          0,
          0.7000000000000001,
          0,
          0,
          0,
          0.9,
          0.9,
          0.9,
          1,
          1,
          0.6,
          0.43333333333333335,
          0,
          0.3,
          0.5,
          0,
          0,
          0.7386363636363636,
          0,
          0,
          0,
          1,
          0,
          0.2,
          0,
          0,
          0,
          0.7272727272727273,
          0.2,
          0,
          0,
          1,
          0,
          1,
          0.75,
          0,
          0,
          0,
          0,
          0,
          0,
          0.5666666666666667,
          0,
          1,
          0.4,
          0.7733333333333333,
          0,
          0,
          0.03333333333333333,
          0,
          1,
          1,
          0,
          0,
          1,
          0.6349206349206349,
          0.7272727272727273,
          0.75,
          1,
          0,
          0,
          0.5198863636363636,
          0.6716666666666666,
          0.7272727272727273,
          0,
          0.6333333333333333,
          0.2772727272727273,
          1,
          0.75,
          0,
          0.7272727272727273,
          0.7666666666666666,
          0.75,
          0.625,
          1,
          0,
          0.3333333333333333,
          0.8333333333333334,
          0.75,
          0,
          0.5,
          1,
          1,
          0,
          1,
          0,
          0.5,
          0,
          0,
          0,
          0.75,
          0.5333333333333333,
          1,
          0,
          0,
          0.6333333333333333,
          1,
          0,
          0.5,
          0.65,
          0,
          0.40584415584415584,
          0.75,
          0,
          0.7,
          0,
          1,
          0.4916666666666667,
          0.55,
          1,
          0.7,
          0,
          0,
          0.25,
          0,
          0,
          0,
          0.5,
          0,
          0.7999999999999999,
          0.5,
          0,
          1,
          1,
          0.48484848484848486,
          0,
          0,
          0,
          0,
          0.35,
          0.6000000000000001,
          1,
          0.75,
          0,
          0,
          0,
          0,
          1,
          0,
          0,
          0,
          0.425,
          0,
          0,
          0,
          0,
          1,
          0.375,
          0,
          0,
          0.5555555555555555,
          0.55,
          0,
          0,
          0,
          0,
          0,
          0,
          0.8333333333333334,
          0.8333333333333334,
          0.43333333333333335,
          0.6666666666666666,
          0,
          0,
          0,
          0.6,
          1,
          1,
          0.45454545454545453,
          0,
          0.5,
          0,
          0,
          0.5669642857142857,
          0.8466666666666667,
          0,
          1,
          0.55,
          0.7272727272727273,
          0,
          0,
          0,
          0.5357142857142857,
          1,
          0,
          0.375,
          0,
          0,
          0,
          0.25,
          1,
          0,
          0.8666666666666666,
          0,
          0.3,
          0,
          0.4375,
          0.3666666666666667,
          1,
          0,
          0,
          1,
          1,
          0.6,
          0.45,
          1,
          1,
          1,
          0,
          0.55,
          0.75,
          0.55,
          0,
          1,
          1,
          0,
          0.5,
          0,
          0,
          0,
          0.5625,
          1,
          0,
          0,
          0,
          0,
          0.39166666666666666,
          0,
          0.4772727272727273,
          0,
          0,
          0,
          0.625,
          1,
          0,
          0.6399999999999999,
          0.5964285714285714,
          1,
          1,
          0,
          0.7272727272727273,
          0.9199999999999999,
          0,
          0,
          0,
          1,
          0,
          0.7,
          1,
          0.3034722222222222,
          1,
          0.6000000000000001,
          1,
          0.875,
          0.6666666666666666,
          0.4166666666666667,
          0,
          1,
          0,
          0.1,
          0,
          0.3,
          0,
          1,
          0,
          0.4,
          0.3,
          0.6190476190476191,
          0.3,
          1,
          0,
          0.6,
          0.6,
          0.5515151515151515,
          1,
          0.22727272727272727,
          1,
          1,
          1,
          0,
          1,
          0,
          0.75,
          1,
          0,
          1,
          1,
          0,
          0.75,
          0,
          0.5,
          0.5333333333333333,
          0,
          0,
          0.4666666666666666,
          0.75,
          0,
          0,
          0.5,
          0.625,
          0.5,
          0,
          1,
          0,
          0.2,
          0,
          0,
          0,
          0,
          0.08333333333333334,
          1,
          0,
          0.8333333333333334,
          0,
          0,
          0.75,
          0,
          0.4777777777777778,
          0,
          0,
          0,
          0,
          1,
          1,
          0,
          0.5083333333333333,
          0,
          0,
          0.6666666666666666,
          0.7272727272727273,
          0,
          1,
          0,
          0.3,
          0,
          0,
          1,
          1,
          0,
          0,
          0.75,
          1,
          0,
          0,
          0.06666666666666667,
          0,
          0,
          0,
          0.375,
          0.14285714285714285,
          1,
          1,
          1,
          1,
          1,
          0.75,
          0,
          0.6708333333333334,
          1,
          0.7999999999999999,
          0,
          0.5,
          0.25,
          0.7272727272727273,
          0,
          0,
          0.7777777777777777,
          0.85,
          1,
          0,
          0.2833333333333333,
          0,
          0.1,
          0.8500000000000001,
          0,
          0.5272727272727273,
          0,
          0,
          0,
          0,
          1,
          1,
          0.35000000000000003,
          0.5,
          1,
          0,
          0,
          0,
          0.45454545454545453,
          0,
          0,
          0.5511363636363636,
          0,
          0,
          0,
          0,
          0.375,
          0,
          0,
          0.9,
          0,
          1,
          0,
          0,
          0,
          0.5,
          0.4772727272727273,
          1,
          0,
          1,
          0.48888888888888893,
          0,
          0.4666666666666666,
          0.8,
          1,
          1,
          0.36,
          0,
          0.825,
          0,
          0,
          0.39999999999999997,
          0,
          0,
          0.7,
          0,
          0.55,
          0,
          1,
          0,
          0.6083333333333333,
          1,
          0,
          1,
          1,
          0.375,
          0,
          1,
          0,
          0.575,
          0,
          0.8214285714285714,
          0.5,
          0.5625,
          0,
          0.8,
          0.85,
          0,
          0,
          1,
          0,
          0,
          0,
          0.5,
          0,
          0,
          0,
          0.6,
          1,
          0.75,
          0,
          0,
          0,
          0,
          0,
          0,
          0.56875,
          0.5,
          0,
          0.5,
          0,
          0.125,
          1,
          0.125,
          0.7,
          0.5,
          1,
          0.8,
          0.6573863636363636,
          0,
          1,
          0.9,
          0.8916666666666666,
          0,
          1,
          0,
          0.425,
          0,
          0,
          0,
          0.5333333333333333,
          0,
          0,
          0,
          0.775,
          0,
          0.5,
          0.8,
          1,
          0.368,
          0.8,
          1,
          0.55,
          0,
          0,
          0,
          1,
          0,
          0,
          0,
          0.375,
          0.5333333333333333,
          0.5,
          0.5,
          0,
          0,
          0,
          0.17857142857142858,
          0.375,
          0.5133333333333333,
          1,
          0,
          0,
          0,
          0,
          0.55,
          1,
          0,
          0,
          0,
          0.825,
          0,
          0,
          1,
          0.65,
          0,
          0.8333333333333334,
          0,
          0.47567099567099574,
          0.5625,
          1,
          0,
          0.55,
          1,
          0,
          1,
          0,
          0,
          1,
          0,
          0.5416666666666666,
          0.85,
          1,
          0.55,
          0,
          0,
          0,
          1,
          0,
          1,
          0.5,
          1,
          0.5,
          0.55,
          0,
          0.1,
          0,
          0,
          1,
          1,
          0,
          0.6181818181818182,
          0,
          1,
          1,
          0.41666666666666663,
          0.5069444444444444,
          0.2,
          0,
          1,
          0.7272727272727273,
          0,
          0.2,
          0,
          0.4,
          0.7272727272727273,
          0.5625,
          0.8214285714285714,
          0,
          0,
          0,
          0,
          0.6,
          0,
          0.9,
          0.375,
          0.375,
          0.5833333333333334,
          0.3666666666666667,
          0,
          0.5,
          0,
          0.3666666666666667,
          0,
          0,
          0.3333333333333333,
          0,
          0.55,
          0.54,
          0,
          0.5,
          0.4181818181818182,
          0,
          0,
          0.5,
          0,
          0,
          0,
          0,
          0.7,
          0,
          0,
          0.6339285714285714,
          0,
          0,
          0.5,
          0.45625000000000004,
          0.3125,
          1,
          0.3125,
          1,
          0.65,
          0,
          0,
          0,
          1,
          1,
          0,
          0,
          0.5357142857142857,
          0.3888888888888889,
          0.55,
          0,
          0,
          0.5,
          0.4375,
          0.6666666666666666,
          0,
          0,
          0.7333333333333334,
          0.75,
          0,
          1,
          1,
          1,
          0,
          0,
          0,
          1,
          1,
          0.4,
          0,
          1,
          0.2833333333333333,
          1,
          0,
          0.1,
          0.95,
          0,
          0,
          0,
          1,
          1,
          0,
          0,
          0,
          1,
          0,
          0.55,
          0,
          1,
          1,
          0,
          0,
          0,
          0,
          1,
          0,
          1,
          0.55,
          0.65,
          1,
          0,
          0,
          1,
          0.55,
          1,
          0,
          0,
          0.75,
          1,
          0.5,
          0.7,
          1,
          0,
          0.75,
          0.5,
          0,
          0.4772727272727273,
          1,
          1,
          0,
          1,
          0,
          0.7272727272727273,
          0,
          0.7,
          1,
          0,
          0,
          0,
          1,
          1,
          0.7272727272727273,
          1,
          0.2,
          0,
          0,
          1,
          0.45499999999999996,
          0.4,
          0,
          0,
          0,
          0,
          0,
          0,
          0,
          0.4,
          0,
          0.5848484848484848,
          0,
          0.3,
          1,
          0.5848484848484848,
          0.6666666666666666,
          1,
          0.5166666666666666,
          1,
          0.6,
          0.5833333333333333,
          0.4,
          0.7,
          0.1,
          1,
          1,
          0.75,
          0.43333333333333335,
          0,
          1,
          0,
          0,
          1,
          0,
          0,
          0.6980000000000001,
          0,
          0.125,
          0.48238636363636367,
          0,
          0,
          0,
          0,
          0,
          1,
          0,
          1,
          1,
          0.75,
          0.7,
          0.7,
          0.59375,
          1,
          0,
          0.4,
          1,
          0,
          0,
          0.6583333333333333,
          0,
          0,
          0.1,
          0.375,
          0.525,
          0.95,
          0,
          0.55,
          0.525,
          0,
          0.525,
          0.25,
          1,
          1,
          0.5625,
          0.525,
          0,
          0.9,
          1,
          0,
          0.9,
          0,
          0.43333333333333335,
          0,
          0.7,
          0,
          0,
          0.525,
          0.5625,
          0.525,
          1,
          0,
          0.525,
          0.525,
          0.65,
          0,
          1,
          0.525,
          1,
          0.45454545454545453,
          0,
          0.43333333333333335,
          0,
          1,
          0.55,
          0.9,
          0.3666666666666667,
          0.55,
          0,
          0,
          0.75,
          0.525,
          0,
          0.25,
          0.5133333333333333,
          0,
          0,
          0,
          0,
          0.8333333333333333,
          1,
          0,
          1,
          1,
          0,
          0,
          0.2,
          0,
          1,
          1,
          0.6944444444444444,
          0,
          0.1,
          1,
          0.1,
          0.2638888888888889,
          1,
          0.3,
          0,
          1,
          0,
          0,
          0.525,
          0.525,
          0.875,
          0,
          0,
          0.525,
          0,
          0.5,
          0.1,
          1,
          0.25,
          0.3472222222222222,
          0.6166666666666667,
          0.6214285714285713,
          0.7,
          0.625,
          0.525,
          0.525,
          0,
          0.2962962962962963,
          0.5848484848484848,
          0.44895833333333335,
          1,
          0.525,
          1,
          0.05,
          0,
          0,
          0,
          0,
          0.125,
          0.5485714285714287,
          0,
          0.5,
          1,
          0.25,
          0.25,
          0.5,
          0.5,
          0.4375,
          0,
          0.5,
          0,
          0,
          0,
          0,
          0,
          0,
          0.25,
          0,
          0,
          1,
          1,
          0,
          0,
          0,
          0,
          1,
          0,
          0,
          0,
          1,
          1,
          0.5,
          1,
          1,
          0.5166666666666666,
          1,
          0,
          0,
          0,
          0.5625,
          0.38484848484848483,
          0.7055555555555556,
          0.75,
          0,
          0.3472222222222222,
          0,
          0.6,
          0,
          0.7272727272727273,
          1,
          0.6666666666666667,
          0,
          0.55,
          0.5916666666666667,
          0.7272727272727273,
          0,
          0.6,
          0.3472222222222222,
          0,
          0.45454545454545453,
          0,
          0.5,
          0,
          1,
          0.6681818181818183,
          0.7272727272727273,
          0.5,
          0,
          1,
          0.675,
          0.6666666666666666,
          0.8333333333333334,
          0,
          0,
          0,
          1,
          0.675,
          0,
          0,
          0.7,
          0,
          0.3666666666666667,
          0.1,
          0,
          0.95,
          0.65,
          0.5818181818181817,
          0.5760416666666667,
          0.8888888888888888,
          0.7888888888888889,
          1,
          1,
          0,
          0.7888888888888889,
          0,
          0.9,
          0.7888888888888889,
          0,
          0,
          0.38484848484848483,
          0,
          0.4,
          0.5,
          0.6666666666666666,
          1,
          0.9,
          1,
          0.7888888888888889,
          0.6666666666666666,
          0.7,
          0.5,
          0.0625,
          1,
          1,
          0,
          0,
          0,
          1,
          0.7888888888888889,
          0.7888888888888889,
          0.46399999999999997,
          0,
          1,
          0.7888888888888889,
          0.875,
          0.75,
          0.6666666666666666,
          0.675,
          0.675,
          0.325,
          0,
          1,
          1,
          0,
          0,
          1,
          0.4,
          1,
          0.3333333333333333,
          1,
          0,
          0.3125,
          0.6533333333333333,
          0.5,
          1,
          0.5,
          1,
          0,
          0.5,
          0,
          0,
          0.3125,
          0,
          0,
          0.7833333333333333,
          0,
          0.5,
          1,
          1,
          0,
          0,
          0,
          0.8333333333333334,
          0.6,
          0,
          0,
          0,
          0.6,
          1,
          0.48333333333333334,
          0,
          1,
          1,
          1,
          1,
          0,
          0,
          1,
          0,
          0,
          0.95,
          1,
          0.7777777777777778,
          1,
          0.50625,
          1,
          0,
          0,
          1,
          0.2,
          0,
          0.5678571428571428,
          0.65,
          0,
          0,
          0,
          1,
          0,
          0,
          1,
          0.4,
          0.75,
          0,
          0.6333333333333334,
          0.75,
          0.6666666666666666,
          0.6875,
          0.5625,
          1,
          0,
          0,
          0.6,
          0,
          0.6,
          0.6875,
          1,
          0,
          0.1,
          0.375,
          0,
          1,
          0.5866666666666667,
          0,
          0.7272727272727273,
          1,
          0,
          0,
          0,
          0,
          0,
          0,
          0,
          0,
          0.775,
          1,
          0.95,
          0.5,
          0.06666666666666667,
          0,
          0.7,
          0,
          1,
          0.85,
          0.85,
          0,
          0,
          1,
          0,
          0.5625,
          0,
          0,
          0.7,
          0.546969696969697,
          0.7166666666666667,
          0.3,
          0,
          0.7,
          1,
          0,
          0.55,
          0.6875,
          0.55,
          0.7,
          1,
          1,
          1,
          0.7,
          0,
          0.6,
          0,
          1,
          1,
          0,
          1,
          0,
          0,
          1,
          0,
          1,
          0.1,
          0.3,
          1,
          0.45454545454545453,
          0,
          0,
          0,
          0.7,
          0,
          1,
          0.5333333333333333,
          0.7166666666666667,
          0,
          0,
          0,
          0,
          0,
          0,
          0,
          0,
          0.3,
          0,
          0.7,
          0,
          0.7,
          0,
          1,
          0.7272727272727273,
          1,
          0,
          0,
          0.6066666666666667,
          1,
          1,
          0,
          0,
          0.7999999999999999,
          0.7999999999999999,
          0.4,
          0,
          0,
          1,
          1,
          0.7272727272727273,
          0,
          0,
          0,
          0.2,
          0.75,
          0,
          0,
          0.580952380952381,
          0,
          0,
          0.69375,
          1,
          1,
          1,
          1,
          0.8,
          1,
          0.6363636363636364,
          0,
          0.5333333333333333,
          0,
          0,
          0.8125,
          1,
          0.95,
          0,
          0,
          0.7333333333333334,
          0.7272727272727273,
          0.5625,
          0.5,
          0,
          0,
          0.74,
          0.875,
          1,
          0.5,
          0,
          0.6875,
          0.8833333333333334,
          1,
          0.7166666666666667,
          1,
          1,
          0,
          1,
          0.6100000000000001,
          0,
          0.95,
          0.5,
          0.7,
          0,
          0.4666666666666666,
          1,
          0,
          1,
          0.7272727272727273,
          0.5,
          0.1,
          0.5625,
          0.45454545454545453,
          0,
          0.45454545454545453,
          0.45454545454545453,
          0.075,
          0.4,
          1,
          0,
          0.8,
          0,
          1,
          1,
          0,
          0,
          1,
          0.95,
          0.7,
          0,
          0.3,
          0,
          0.5,
          0,
          0.325,
          0.7,
          0.7,
          0.7,
          0.325,
          0,
          1,
          1,
          1,
          0,
          0,
          0.8538095238095238,
          0.3,
          0.6666666666666666,
          1,
          1,
          0,
          0.35,
          0.6483333333333333,
          0,
          0.35,
          0.35,
          0,
          0.35,
          0,
          1,
          1,
          1,
          0.4916666666666667,
          1,
          0.5333333333333333,
          0,
          0,
          0.35,
          0.2,
          0.75,
          0.35,
          1,
          0.35,
          0.35,
          0.3939393939393939,
          0.7250000000000001,
          1,
          0,
          1,
          0.5,
          0.5,
          0.7272727272727273,
          0,
          0.8000000000000002,
          0.6333333333333333,
          0.4800000000000001,
          0,
          0.85,
          0.5833333333333334,
          0.35,
          0.35,
          1,
          0.95,
          0.35,
          0.7848484848484848,
          0.9666666666666667,
          1,
          1,
          0,
          0,
          0.35,
          0.45454545454545453,
          0.7272727272727273,
          0,
          1,
          0,
          0.35,
          0.4444444444444444,
          0.35,
          0.7272727272727273,
          0.325,
          0.35,
          0,
          0,
          0.8,
          0,
          1,
          0,
          0,
          0,
          0.16666666666666666,
          1,
          0,
          0.1,
          0,
          0.35,
          1,
          0.625,
          1,
          0.5,
          0.5,
          0.5,
          0.45,
          1,
          0,
          0.5,
          0,
          1,
          0,
          0.5416666666666666,
          0.525,
          0.65,
          0.7272727272727273,
          1,
          0.4,
          0.35,
          1,
          0,
          0,
          1,
          0,
          0,
          0.5848484848484848,
          0,
          0.7111111111111111,
          0.7111111111111111,
          0.78125,
          0,
          0.725,
          0,
          0.725,
          0,
          0,
          0,
          0.7,
          1,
          0,
          0,
          0,
          0.5916666666666667,
          0,
          0.31666666666666665,
          0.31666666666666665,
          0.5,
          0.45454545454545453,
          1,
          0,
          0.65,
          0.45454545454545453,
          0.75,
          0.9,
          0,
          0.375,
          0,
          0,
          0.43333333333333335,
          0.35,
          0,
          0.45555555555555555,
          0.8333333333333334,
          0.5,
          1,
          0.875,
          0.49404761904761907,
          0.5125,
          1,
          0,
          0.75,
          0.9,
          0,
          0.6444444444444445,
          0,
          0.3666666666666667,
          0.7272727272727273,
          0.6666666666666666,
          1,
          0,
          0.521969696969697,
          0,
          1,
          0,
          0,
          0,
          0.5,
          0,
          0.29333333333333333,
          0.5,
          0.7272727272727273,
          0.4828571428571428,
          0,
          0,
          0,
          1,
          0,
          0.4,
          0,
          0,
          1,
          0,
          0,
          0.6666666666666666,
          0.925,
          0,
          0,
          0,
          0,
          0,
          0,
          0,
          0.37222222222222223,
          0.95,
          1,
          1,
          1,
          1,
          0.775,
          0.55,
          0.775,
          1,
          0,
          0.4833333333333333,
          0.4,
          0,
          1,
          0,
          0.5066666666666666,
          0.5,
          0.3333333333333333,
          0.55,
          1,
          1,
          0,
          0,
          0.65625,
          0,
          0,
          0,
          0,
          0,
          1,
          0,
          0,
          0,
          0,
          0.7666666666666666,
          0,
          0.6,
          0.45454545454545453,
          0,
          0,
          0
         ],
         "xaxis": "x",
         "y": [
          0.15000000000000002,
          0,
          -0.6,
          0.125,
          0,
          0,
          0,
          0,
          -0.3,
          -0.04999999999999999,
          -0.13333333333333333,
          0.04999999999999999,
          -0.11666666666666665,
          0.05,
          0.05,
          -0.16666666666666666,
          0,
          0,
          0,
          -0.6,
          -0.6,
          0,
          -0.6,
          -0.6,
          -0.2318181818181818,
          0.10545454545454547,
          -0.6,
          -0.425,
          0,
          -0.34375,
          0,
          0,
          0,
          -0.2833333333333333,
          0,
          0,
          -0.6,
          0.13333333333333333,
          0,
          0,
          0,
          0,
          0,
          -0.11666666666666667,
          -0.11666666666666667,
          1,
          0,
          0,
          0,
          -0.15454545454545454,
          -0.6,
          0,
          0,
          0,
          0,
          0,
          0,
          0,
          0.03333333333333333,
          0,
          0.4,
          0,
          0.5,
          -0.3,
          -0.3,
          0,
          0.06875,
          0,
          0,
          -0.6,
          0,
          -0.175,
          -0.6,
          -0.04999999999999999,
          -0.6,
          -0.6,
          0,
          0,
          0,
          0,
          0.012121212121212125,
          0.375,
          -0.22083333333333333,
          0,
          0,
          -0.6,
          0,
          0,
          -0.6,
          0,
          -0.6,
          0,
          -0.44999999999999996,
          0.13333333333333333,
          0,
          0,
          -0.6,
          0,
          0,
          0,
          0.3181818181818182,
          0.2666666666666667,
          -0.3,
          0.014962121212121218,
          0,
          0,
          0,
          0.033333333333333326,
          0,
          0,
          0,
          -0.6,
          0.11666666666666665,
          0,
          0.2,
          0,
          0,
          0,
          -0.6,
          -0.175,
          -0.6,
          -0.07499999999999998,
          -0.6,
          -0.04999999999999999,
          0,
          -0.6,
          -0.2333333333333333,
          0,
          0.4,
          -0.6,
          -0.6,
          -0.16666666666666666,
          0,
          0.5,
          0.16666666666666666,
          0,
          -0.6,
          -0.19999999999999998,
          -0.6,
          0,
          0,
          -0.175,
          0,
          0,
          -0.6,
          -0.6,
          0,
          -0.44999999999999996,
          -0.6,
          0,
          0,
          -0.6,
          0,
          0,
          -0.13333333333333333,
          0,
          0,
          0,
          -0.15,
          -0.15,
          -0.15,
          -0.6,
          -0.6,
          -0.19999999999999998,
          0.21666666666666667,
          0,
          -0.15,
          -0.3,
          0,
          0,
          0.1340909090909091,
          0,
          0,
          0,
          -0.6,
          0,
          0.2,
          0,
          0,
          0,
          -0.2318181818181818,
          0.2,
          0,
          0,
          -0.6,
          0,
          -0.6,
          -0.04999999999999999,
          0,
          0,
          0,
          0,
          0,
          0,
          -0.01666666666666668,
          0,
          -0.6,
          0.05,
          0.16,
          0,
          0,
          0,
          0,
          -0.6,
          -0.6,
          0,
          0,
          -0.6,
          -0.11071428571428571,
          -0.2318181818181818,
          -0.3,
          -0.6,
          0,
          0,
          -0.1534090909090909,
          -0.22833333333333333,
          -0.2318181818181818,
          0,
          -0.2833333333333333,
          0.06818181818181818,
          -0.6,
          -0.04999999999999999,
          0,
          -0.2318181818181818,
          -0.3333333333333333,
          -0.175,
          -0.425,
          -0.6,
          0,
          0.3,
          -0.2333333333333333,
          -0.21477272727272728,
          0,
          0.5,
          -0.6,
          -0.6,
          0,
          -0.6,
          0,
          0.375,
          0,
          0,
          0,
          -0.04999999999999999,
          -0.3,
          -0.6,
          0,
          0,
          0,
          -0.6,
          0,
          -0.033333333333333326,
          -0.19999999999999998,
          0,
          0.06818181818181818,
          -0.2318181818181818,
          0,
          -0.09999999999999998,
          0,
          -0.6,
          0.05833333333333333,
          -0.3,
          -0.6,
          -0.3,
          0,
          0,
          -0.15,
          0,
          0,
          0,
          0.5,
          0,
          0.13333333333333333,
          -0.3,
          0,
          -0.6,
          -0.6,
          -0.15454545454545454,
          0,
          0,
          0,
          0,
          0.25,
          0.07499999999999998,
          -0.75,
          -0.19285714285714284,
          0,
          0,
          0,
          0,
          -0.6,
          0,
          0,
          0,
          -0.0875,
          0,
          0,
          0,
          0,
          -0.6,
          -0.024999999999999994,
          0,
          0,
          0.022222222222222216,
          -0.3,
          0,
          0,
          0,
          0,
          0,
          0,
          -0.00555555555555555,
          -0.00555555555555555,
          0.3111111111111111,
          -0.033333333333333326,
          0,
          0,
          0,
          -0.19999999999999998,
          -0.6,
          -0.6,
          0.13636363636363635,
          0,
          -0.3,
          0,
          0,
          0.028571428571428574,
          0.22,
          0,
          -0.6,
          -0.024999999999999994,
          -0.2318181818181818,
          0,
          0,
          0,
          0.2857142857142857,
          0,
          0,
          -0.125,
          0,
          0,
          0,
          -0.15625,
          -0.6,
          0,
          -0.10000000000000002,
          0,
          0.2,
          0,
          0,
          -0.26666666666666666,
          -0.6,
          0,
          0,
          -0.6,
          -0.6,
          -0.19999999999999998,
          0.02500000000000001,
          -0.6,
          -0.6,
          -0.6,
          0,
          0.35,
          -0.3,
          0.35,
          0,
          -0.3,
          -0.6,
          0,
          0.5,
          0,
          0,
          0,
          0.25,
          -0.6,
          0,
          0,
          0,
          0,
          -0.024999999999999994,
          0,
          0.3181818181818182,
          0,
          0,
          0,
          -0.3,
          -0.6,
          0,
          0.26,
          -0.04285714285714285,
          -0.6,
          -0.6,
          0,
          -0.2318181818181818,
          0.22999999999999998,
          0,
          0,
          0,
          -0.6,
          0,
          -0.44999999999999996,
          -0.6,
          0.175,
          -0.6,
          0.2,
          -0.6,
          -0.425,
          -0.033333333333333326,
          -0.19999999999999998,
          0,
          -0.6,
          0,
          0,
          0,
          0.1,
          0,
          0.5,
          0,
          0.05,
          0.2,
          -0.22777777777777775,
          0.2,
          -0.6,
          0,
          -0.35,
          -0.35,
          -0.08787878787878788,
          -0.6,
          0.06818181818181818,
          -0.6,
          -0.6,
          -0.6,
          0,
          -0.6,
          0,
          -0.2318181818181818,
          -0.6,
          0,
          -0.6,
          -0.6,
          0,
          -0.15625,
          0,
          0,
          -0.033333333333333326,
          0,
          0,
          0.3666666666666667,
          0.06818181818181818,
          0,
          0,
          0.5,
          0.5,
          -0.3,
          0,
          -0.6,
          0,
          -0.1,
          0,
          0,
          0,
          0,
          0.06666666666666667,
          -0.6,
          0,
          0.10000000000000002,
          0,
          0,
          0.012500000000000011,
          0,
          0.27777777777777773,
          0,
          0,
          0,
          0,
          -0.6,
          0,
          0,
          -0.06666666666666665,
          0,
          0,
          -0.21666666666666667,
          -0.2318181818181818,
          -0.05,
          -0.6,
          0,
          1,
          0,
          0,
          -0.6,
          -0.6,
          0,
          0,
          -0.04999999999999999,
          -0.6,
          0,
          0,
          0,
          0,
          0,
          0,
          0.2916666666666667,
          0,
          -0.6,
          -0.6,
          -0.6,
          -0.6,
          -0.6,
          -0.21477272727272728,
          0,
          0.175,
          -0.6,
          0.13333333333333333,
          0,
          0.5,
          -0.15,
          -0.2318181818181818,
          0,
          0,
          0.08333333333333333,
          -0.5,
          -0.6,
          0,
          0,
          0,
          0.1,
          -0.11666666666666664,
          0,
          0.4352272727272727,
          0,
          0,
          0,
          0,
          -0.6,
          -0.6666666666666666,
          0.02500000000000001,
          -0.3,
          -0.6,
          0,
          0,
          0,
          0.13636363636363635,
          0,
          0,
          0.009090909090909094,
          0,
          0,
          0,
          0,
          -0.15,
          0,
          0,
          0.5,
          0,
          -0.6,
          0,
          0,
          0,
          -0.3,
          0.23484848484848483,
          -0.75,
          0,
          -0.75,
          -0.1666666666666666,
          0,
          -0.3,
          0.04999999999999999,
          -0.6,
          -0.6,
          -0.26,
          0,
          0.175,
          0,
          0,
          -0.2,
          0,
          0,
          -0.425,
          0,
          -0.3,
          0,
          -0.6,
          0,
          0.2333333333333333,
          -0.6,
          0,
          -0.6,
          -0.6,
          -0.024999999999999994,
          0,
          -0.6,
          0,
          0.125,
          0,
          -0.19285714285714284,
          -0.3,
          -0.3,
          0,
          -0.3,
          -0.09999999999999998,
          0,
          0,
          -0.6,
          0,
          0,
          0,
          -0.3,
          0,
          0,
          0,
          -0.09999999999999999,
          -0.6,
          -0.04999999999999999,
          0,
          0,
          0,
          0,
          0,
          0,
          -0.056249999999999994,
          0.5,
          0,
          -0.19999999999999998,
          0,
          0,
          -0.6,
          0,
          -0.325,
          0.5,
          -0.6,
          -0.3,
          0.15284090909090908,
          0,
          -0.6,
          -0.09999999999999998,
          0.08333333333333334,
          0,
          -0.6,
          0,
          0.1,
          0,
          0,
          0,
          0,
          0,
          0,
          0,
          -0.125,
          0,
          -0.3,
          -0.19999999999999998,
          -0.6,
          -0.06799999999999999,
          0.5,
          -0.6,
          -0.3,
          0,
          0,
          0,
          -0.6,
          0,
          0,
          0,
          -0.0625,
          -0.033333333333333326,
          -0.3,
          -0.19999999999999998,
          0,
          0,
          0,
          0.09523809523809523,
          -0.19999999999999998,
          -0.14666666666666664,
          -0.6,
          0,
          0,
          0,
          0,
          -0.3,
          -0.6,
          0,
          0,
          0,
          0.05000000000000002,
          0,
          0,
          -0.6,
          0.55,
          0,
          -0.2333333333333333,
          0,
          0.08536796536796537,
          -0.30416666666666664,
          -0.6,
          0,
          0.45,
          -0.6,
          0,
          -0.6,
          0,
          0,
          -0.75,
          0,
          -0.18333333333333332,
          -0.2125,
          -0.6,
          -0.3,
          0,
          0,
          0,
          -0.6,
          0,
          -0.6,
          0.5,
          -0.6,
          0.5,
          -0.3,
          0,
          0,
          0,
          0,
          -0.6,
          -0.6,
          0,
          -0.23787878787878788,
          0,
          -0.6,
          -0.6,
          0.3333333333333333,
          0.25,
          0.2,
          0,
          -0.6,
          -0.2318181818181818,
          0,
          0.2,
          0,
          0.05,
          -0.2318181818181818,
          -0.30416666666666664,
          -0.19285714285714284,
          0,
          0,
          0,
          0,
          -0.35,
          0,
          0.6,
          -0.125,
          -0.125,
          -0.08333333333333333,
          -0.09999999999999999,
          0,
          0.5,
          0,
          -0.09999999999999999,
          0,
          0,
          0.16666666666666666,
          0,
          -0.3,
          0.26,
          0,
          0.5,
          0.14545454545454545,
          0,
          0,
          -0.3,
          0,
          0,
          0,
          0,
          -0.325,
          0,
          0,
          -0.22857142857142856,
          0,
          0,
          0.5,
          -0.07499999999999998,
          0.25,
          -0.6,
          0.25,
          -0.6,
          0.35,
          0,
          0,
          0,
          -0.6,
          -0.6,
          0,
          0,
          0.2857142857142857,
          -0.16666666666666666,
          -0.3,
          0,
          0,
          -0.46875,
          0.34659090909090906,
          -0.033333333333333326,
          0,
          0,
          0.26666666666666666,
          -0.3,
          0,
          -0.3,
          -0.6,
          -0.6,
          0,
          0,
          0,
          -0.6,
          -0.6,
          0.05,
          0,
          -0.09999999999999998,
          0.26666666666666666,
          -0.6,
          0,
          0.1,
          0.10000000000000003,
          0,
          0,
          0,
          -0.6,
          -0.6,
          0,
          0,
          0,
          -0.6,
          0,
          -0.3,
          0,
          -0.6,
          -0.6,
          0,
          0,
          0,
          0,
          -0.6,
          0,
          -0.6,
          -0.3,
          -0.3,
          -0.6,
          0,
          0,
          -0.6,
          0.225,
          -0.6,
          0,
          0,
          -0.04999999999999999,
          -0.6,
          -0.3,
          -0.3,
          -0.6,
          0,
          0.14999999999999994,
          0.5,
          0,
          0.16818181818181818,
          -0.6,
          -0.6,
          0,
          -0.6,
          0,
          -0.2318181818181818,
          0,
          -0.4,
          -0.6,
          0,
          0,
          0,
          -0.6,
          -0.6,
          -0.2318181818181818,
          -0.6,
          -0.2,
          0,
          0,
          -0.6,
          -0.039999999999999994,
          0.05,
          0,
          0,
          0,
          0,
          0,
          0,
          0,
          0.1,
          0,
          0.1787878787878788,
          0,
          0.2,
          -0.6,
          0.1787878787878788,
          -0.19999999999999998,
          -0.6,
          -0.15,
          -0.6,
          -0.06666666666666665,
          0.14166666666666666,
          0,
          -0.15,
          0.1,
          -0.6,
          -0.6,
          -0.04999999999999999,
          -0.18333333333333335,
          0,
          -0.6,
          0,
          0,
          -0.6,
          0,
          0,
          -0.10799999999999996,
          0,
          0,
          -0.1471590909090909,
          0,
          0,
          0,
          0,
          0,
          -0.6,
          0,
          -0.6,
          0.5,
          -0.19999999999999998,
          -0.3,
          0.10000000000000003,
          0.1375,
          -0.6,
          0,
          0.1,
          -0.6,
          0,
          0,
          0.3,
          0,
          0,
          0,
          -0.19999999999999998,
          0.07499999999999998,
          0.19999999999999998,
          0,
          0.075,
          0.07499999999999998,
          0,
          0.07499999999999998,
          0.125,
          -0.6,
          -0.6,
          -0.3,
          0.07499999999999998,
          0,
          0.3,
          -0.6,
          0,
          0.3,
          0,
          -0.16666666666666666,
          0,
          -0.25,
          0,
          0,
          0.07499999999999998,
          -0.3,
          0.07499999999999998,
          -0.6,
          0,
          0.07499999999999998,
          0.07499999999999998,
          -0.19999999999999998,
          0,
          -0.6,
          0.07499999999999998,
          -0.6,
          0.13636363636363635,
          0,
          -0.16666666666666666,
          0,
          -0.6,
          -0.3,
          0.3,
          -0.26666666666666666,
          -0.3,
          0,
          0,
          -0.04999999999999999,
          0.07499999999999998,
          0,
          0.125,
          -0.14666666666666664,
          0,
          0,
          0,
          0,
          -0.0875,
          -0.6,
          0,
          -0.6,
          -0.6,
          0,
          0,
          0.2,
          0,
          -0.6,
          -0.55,
          0.5,
          0,
          0,
          -0.6,
          0,
          0.1111111111111111,
          -0.6,
          -0.07500000000000001,
          0,
          -0.6,
          0,
          0,
          0.07499999999999998,
          0.07499999999999998,
          -0.04999999999999999,
          0,
          0,
          0.07499999999999998,
          0,
          0.3,
          0,
          -0.6,
          0.25,
          -0.013888888888888895,
          -0.2791666666666667,
          -0.09285714285714285,
          -0.325,
          0.35,
          0.07499999999999998,
          0.07499999999999998,
          0,
          -0.11435185185185186,
          0.1787878787878788,
          0.23854166666666668,
          -0.6,
          0.07499999999999998,
          -0.6,
          0,
          0,
          0,
          0,
          0,
          0,
          0.08,
          0,
          0.06666666666666667,
          -0.6,
          0.09999999999999999,
          0.09999999999999999,
          -0.3,
          -0.033333333333333326,
          0.375,
          0,
          -0.033333333333333326,
          0,
          0,
          0,
          0,
          0,
          0,
          0.125,
          0,
          0,
          -0.6,
          -0.6,
          0,
          0,
          0,
          0,
          -0.6,
          0,
          0,
          0,
          -0.6,
          0.8,
          -0.3,
          -0.6,
          -0.6,
          -0.12187499999999998,
          -0.6,
          0,
          0,
          0,
          -0.3,
          0.11212121212121212,
          0.2888888888888889,
          -0.45,
          0,
          -0.013888888888888895,
          0,
          -0.325,
          0,
          -0.2318181818181818,
          -0.6,
          0.18750000000000003,
          0,
          -0.3,
          -0.041666666666666664,
          -0.2318181818181818,
          0,
          -0.35,
          -0.013888888888888895,
          0,
          0.13636363636363635,
          0,
          -0.3,
          0,
          -0.6,
          -0.03787878787878788,
          -0.2318181818181818,
          0,
          0,
          -0.6,
          0.07500000000000001,
          -0.175,
          -0.3833333333333333,
          0,
          0,
          0,
          -0.6,
          0.07500000000000001,
          0,
          0,
          -0.3,
          0,
          0.016666666666666677,
          0,
          0,
          5.551115123125783e-17,
          0.024999999999999994,
          -0.08295454545454545,
          -0.10729166666666667,
          -0.5111111111111111,
          -0.15,
          -0.6,
          -0.6,
          0,
          -0.15,
          0,
          -0.15,
          -0.15,
          0,
          0,
          0.11212121212121212,
          0,
          0.4,
          -0.3,
          -0.18333333333333335,
          0.5,
          -0.09999999999999998,
          -0.6,
          -0.15,
          -0.18333333333333335,
          -0.3,
          0,
          0,
          -0.6,
          -0.6,
          0,
          0,
          0,
          -0.6,
          -0.15,
          -0.15,
          -0.01072727272727273,
          0,
          -0.6,
          -0.15,
          0.5,
          -0.44999999999999996,
          -0.18333333333333335,
          0.07500000000000001,
          0.07500000000000001,
          0,
          0,
          -0.6,
          -0.6,
          0,
          0,
          -0.6,
          -0.4,
          -0.9375,
          0.25,
          -0.6,
          0,
          0.25,
          0.050000000000000024,
          -0.3,
          -0.6,
          -0.3,
          -0.6,
          0,
          0.5,
          0,
          0,
          0.25,
          0,
          0,
          0.3,
          0,
          0.5,
          -0.6,
          -0.6,
          0,
          0,
          0,
          -0.19999999999999998,
          -0.06666666666666665,
          0,
          0,
          0,
          -0.35,
          -0.6,
          -0.075,
          0,
          -0.6,
          -0.6,
          -0.6,
          -0.3,
          0,
          0,
          -0.6,
          0,
          0,
          -0.19999999999999998,
          -0.6,
          0.05555555555555555,
          -0.6,
          -0.134375,
          -0.6,
          0,
          0,
          -0.6,
          -0.1,
          0,
          0.4928571428571428,
          0.35,
          0,
          0,
          0,
          -0.09999999999999998,
          0,
          0,
          -0.6,
          0.3,
          -0.04999999999999999,
          0,
          -0.19999999999999998,
          -0.04999999999999999,
          0.3333333333333333,
          -0.11249999999999999,
          -0.3,
          -0.6,
          0,
          0,
          -0.16666666666666666,
          0,
          0.16666666666666666,
          -0.11249999999999999,
          -0.6,
          0,
          0,
          -0.04999999999999999,
          0,
          -0.6,
          0.010000000000000009,
          0,
          -0.2318181818181818,
          -0.6,
          0,
          0,
          0,
          0,
          0,
          0,
          0,
          0,
          -0.125,
          -0.6,
          -0.04999999999999999,
          -0.25,
          0.03333333333333333,
          0,
          -0.25,
          0,
          -0.6,
          -0.5,
          -0.5,
          0,
          0,
          -0.75,
          0,
          -0.3,
          0,
          0,
          -0.25,
          0.20075757575757575,
          -0.3833333333333333,
          -0.019999999999999997,
          0,
          -0.375,
          -0.6,
          0,
          -0.3,
          -0.11249999999999999,
          -0.3,
          0.10000000000000003,
          -0.6,
          -0.6,
          -0.6,
          -0.25,
          0,
          -0.19999999999999998,
          0,
          -0.6,
          -0.6,
          0,
          -0.6,
          0,
          0,
          -0.6,
          0,
          -0.1,
          -0.1,
          -0.1111111111111111,
          -0.6,
          0.13636363636363635,
          0,
          0,
          0,
          -0.25,
          0,
          -0.6,
          -0.3,
          -0.3833333333333333,
          0,
          0,
          0,
          0,
          0,
          0,
          0,
          0,
          0.25,
          0,
          -0.35,
          0,
          -0.35,
          0,
          -0.6,
          -0.2318181818181818,
          -0.6,
          0,
          0,
          0.06666666666666668,
          -0.6,
          -0.6,
          0,
          0,
          0.16666666666666666,
          0.16666666666666666,
          0.4,
          0,
          0,
          -0.6,
          -0.6,
          -0.2318181818181818,
          0,
          0,
          0,
          0.2,
          -0.3,
          0,
          0,
          -0.12857142857142856,
          0,
          0,
          0.44375,
          -0.3,
          -0.6,
          -0.6,
          -0.6,
          -0.19999999999999998,
          -0.5,
          -0.10909090909090909,
          0,
          -0.06666666666666665,
          0,
          0,
          -0.3,
          -0.6,
          -0.6,
          0,
          0,
          -0.19999999999999998,
          -0.2318181818181818,
          -0.3,
          0.25,
          0,
          0,
          0.24000000000000005,
          -0.425,
          -0.6,
          -0.3,
          0,
          -0.11249999999999999,
          -0.04999999999999999,
          -0.6,
          -0.13749999999999998,
          -0.6,
          -0.6,
          0,
          0.5,
          0.05,
          0,
          -0.6,
          -0.19999999999999998,
          -0.3,
          0,
          -0.19999999999999998,
          -0.6,
          0,
          -0.6,
          -0.2318181818181818,
          -0.325,
          0,
          -0.3,
          0.13636363636363635,
          0,
          0.13636363636363635,
          0.13636363636363635,
          0,
          -0.1,
          -0.6,
          0,
          0.04999999999999999,
          0,
          -0.6,
          -0.6,
          0,
          0,
          -0.6,
          -0.04999999999999999,
          -0.25,
          0,
          1,
          0,
          0,
          0,
          0.25,
          -0.3,
          0.10000000000000003,
          0.10000000000000003,
          0.25,
          0.1,
          -0.6,
          -0.6,
          -0.6,
          0,
          0,
          -0.09619047619047619,
          1,
          -0.175,
          -0.6,
          -0.6,
          0,
          0.05,
          -0.02333333333333332,
          0,
          0.05,
          0.05,
          0,
          0.05,
          0,
          -0.6,
          -0.75,
          -0.75,
          0.05833333333333333,
          -0.75,
          -0.3,
          0,
          0,
          0.05,
          0.25,
          0.15,
          0.05,
          -0.6,
          0.05,
          0.05,
          -0.015151515151515152,
          0.375,
          -0.6,
          0,
          -0.6,
          0.5,
          0.5,
          -0.2318181818181818,
          0,
          0.06666666666666667,
          0,
          0.07000000000000002,
          0,
          0.016666666666666663,
          -0.21666666666666667,
          0.05,
          0.15000000000000002,
          -0.6,
          0.10000000000000003,
          0.05,
          -0.0212121212121212,
          -0.2333333333333333,
          -0.6,
          -0.6,
          0,
          0,
          0.05,
          0.13636363636363635,
          -0.2318181818181818,
          0,
          -0.6,
          0,
          0.05,
          -0.11666666666666665,
          0.05,
          -0.2318181818181818,
          0.25,
          0.05,
          0,
          0,
          0.04999999999999999,
          0,
          -0.6,
          0,
          0,
          0,
          0.125,
          -0.6666666666666666,
          0,
          -0.1,
          0,
          0.05,
          -0.6,
          0.1625,
          -0.6,
          0,
          0,
          -0.5,
          -0.18333333333333332,
          0,
          0,
          0,
          0,
          -0.6,
          0,
          -0.19999999999999998,
          -0.4,
          0.2,
          -0.2318181818181818,
          -0.6,
          0.05,
          0.05,
          -0.6,
          0,
          0,
          -0.6,
          0,
          0,
          0.1787878787878788,
          0,
          -0.10555555555555556,
          -0.10555555555555556,
          -0.44999999999999996,
          0,
          -0.275,
          0,
          -0.275,
          0,
          0,
          0,
          -0.5,
          -0.6,
          0,
          0,
          0,
          -0.24166666666666667,
          0,
          0.18333333333333335,
          0.18333333333333335,
          -0.3,
          0.13636363636363635,
          -0.6,
          0,
          -0.19999999999999998,
          0.13636363636363635,
          -0.04999999999999999,
          -0.09999999999999998,
          0,
          -0.19999999999999998,
          0,
          0,
          -0.3666666666666667,
          0.05,
          0,
          -0.12222222222222222,
          -0.4666666666666666,
          0.5,
          -0.6,
          0.10000000000000003,
          -0.033928571428571426,
          0.2,
          -0.6,
          0,
          -0.04999999999999999,
          -0.09999999999999998,
          0,
          -0.08888888888888889,
          0,
          -0.19999999999999998,
          -0.2318181818181818,
          -0.08888888888888889,
          -0.6,
          0,
          -0.10340909090909092,
          0,
          -0.6,
          0,
          0,
          0,
          0.5,
          0,
          -0.1433333333333333,
          0.5,
          -0.2318181818181818,
          -0.044285714285714275,
          0,
          0,
          0,
          -0.6,
          0,
          0.05,
          0,
          0,
          -0.6,
          0,
          0,
          -0.19999999999999998,
          -0.30000000000000004,
          0,
          0,
          0,
          0,
          0,
          0,
          0,
          0.2333333333333333,
          -0.04999999999999999,
          -0.75,
          -0.75,
          -0.75,
          -0.75,
          -0.5,
          0.28571428571428575,
          -0.5,
          -0.6,
          0,
          0.25,
          0,
          0,
          -0.6,
          0,
          0.013333333333333341,
          0.5,
          0.25,
          -0.3,
          -0.6,
          -0.6,
          0,
          0,
          0.07500000000000001,
          0,
          0,
          0,
          0,
          0,
          -0.3,
          0,
          0,
          0,
          0,
          0.16666666666666666,
          0,
          0.033333333333333326,
          0.13636363636363635,
          0,
          0,
          0
         ],
         "yaxis": "y"
        }
       ],
       "layout": {
        "coloraxis": {
         "colorbar": {
          "title": {
           "text": "Polarité"
          }
         },
         "colorscale": [
          [
           0,
           "rgb(103,0,31)"
          ],
          [
           0.1,
           "rgb(178,24,43)"
          ],
          [
           0.2,
           "rgb(214,96,77)"
          ],
          [
           0.3,
           "rgb(244,165,130)"
          ],
          [
           0.4,
           "rgb(253,219,199)"
          ],
          [
           0.5,
           "rgb(247,247,247)"
          ],
          [
           0.6,
           "rgb(209,229,240)"
          ],
          [
           0.7,
           "rgb(146,197,222)"
          ],
          [
           0.8,
           "rgb(67,147,195)"
          ],
          [
           0.9,
           "rgb(33,102,172)"
          ],
          [
           1,
           "rgb(5,48,97)"
          ]
         ]
        },
        "legend": {
         "tracegroupgap": 0
        },
        "margin": {
         "b": 0,
         "l": 0,
         "r": 0,
         "t": 0
        },
        "plot_bgcolor": "darkseagreen",
        "shapes": [
         {
          "line": {
           "color": "black",
           "width": 1
          },
          "type": "line",
          "x0": 0.5,
          "x1": 0.5,
          "y0": -1.1,
          "y1": 1.1
         }
        ],
        "template": {
         "data": {
          "bar": [
           {
            "error_x": {
             "color": "#2a3f5f"
            },
            "error_y": {
             "color": "#2a3f5f"
            },
            "marker": {
             "line": {
              "color": "#E5ECF6",
              "width": 0.5
             },
             "pattern": {
              "fillmode": "overlay",
              "size": 10,
              "solidity": 0.2
             }
            },
            "type": "bar"
           }
          ],
          "barpolar": [
           {
            "marker": {
             "line": {
              "color": "#E5ECF6",
              "width": 0.5
             },
             "pattern": {
              "fillmode": "overlay",
              "size": 10,
              "solidity": 0.2
             }
            },
            "type": "barpolar"
           }
          ],
          "carpet": [
           {
            "aaxis": {
             "endlinecolor": "#2a3f5f",
             "gridcolor": "white",
             "linecolor": "white",
             "minorgridcolor": "white",
             "startlinecolor": "#2a3f5f"
            },
            "baxis": {
             "endlinecolor": "#2a3f5f",
             "gridcolor": "white",
             "linecolor": "white",
             "minorgridcolor": "white",
             "startlinecolor": "#2a3f5f"
            },
            "type": "carpet"
           }
          ],
          "choropleth": [
           {
            "colorbar": {
             "outlinewidth": 0,
             "ticks": ""
            },
            "type": "choropleth"
           }
          ],
          "contour": [
           {
            "colorbar": {
             "outlinewidth": 0,
             "ticks": ""
            },
            "colorscale": [
             [
              0,
              "#0d0887"
             ],
             [
              0.1111111111111111,
              "#46039f"
             ],
             [
              0.2222222222222222,
              "#7201a8"
             ],
             [
              0.3333333333333333,
              "#9c179e"
             ],
             [
              0.4444444444444444,
              "#bd3786"
             ],
             [
              0.5555555555555556,
              "#d8576b"
             ],
             [
              0.6666666666666666,
              "#ed7953"
             ],
             [
              0.7777777777777778,
              "#fb9f3a"
             ],
             [
              0.8888888888888888,
              "#fdca26"
             ],
             [
              1,
              "#f0f921"
             ]
            ],
            "type": "contour"
           }
          ],
          "contourcarpet": [
           {
            "colorbar": {
             "outlinewidth": 0,
             "ticks": ""
            },
            "type": "contourcarpet"
           }
          ],
          "heatmap": [
           {
            "colorbar": {
             "outlinewidth": 0,
             "ticks": ""
            },
            "colorscale": [
             [
              0,
              "#0d0887"
             ],
             [
              0.1111111111111111,
              "#46039f"
             ],
             [
              0.2222222222222222,
              "#7201a8"
             ],
             [
              0.3333333333333333,
              "#9c179e"
             ],
             [
              0.4444444444444444,
              "#bd3786"
             ],
             [
              0.5555555555555556,
              "#d8576b"
             ],
             [
              0.6666666666666666,
              "#ed7953"
             ],
             [
              0.7777777777777778,
              "#fb9f3a"
             ],
             [
              0.8888888888888888,
              "#fdca26"
             ],
             [
              1,
              "#f0f921"
             ]
            ],
            "type": "heatmap"
           }
          ],
          "heatmapgl": [
           {
            "colorbar": {
             "outlinewidth": 0,
             "ticks": ""
            },
            "colorscale": [
             [
              0,
              "#0d0887"
             ],
             [
              0.1111111111111111,
              "#46039f"
             ],
             [
              0.2222222222222222,
              "#7201a8"
             ],
             [
              0.3333333333333333,
              "#9c179e"
             ],
             [
              0.4444444444444444,
              "#bd3786"
             ],
             [
              0.5555555555555556,
              "#d8576b"
             ],
             [
              0.6666666666666666,
              "#ed7953"
             ],
             [
              0.7777777777777778,
              "#fb9f3a"
             ],
             [
              0.8888888888888888,
              "#fdca26"
             ],
             [
              1,
              "#f0f921"
             ]
            ],
            "type": "heatmapgl"
           }
          ],
          "histogram": [
           {
            "marker": {
             "pattern": {
              "fillmode": "overlay",
              "size": 10,
              "solidity": 0.2
             }
            },
            "type": "histogram"
           }
          ],
          "histogram2d": [
           {
            "colorbar": {
             "outlinewidth": 0,
             "ticks": ""
            },
            "colorscale": [
             [
              0,
              "#0d0887"
             ],
             [
              0.1111111111111111,
              "#46039f"
             ],
             [
              0.2222222222222222,
              "#7201a8"
             ],
             [
              0.3333333333333333,
              "#9c179e"
             ],
             [
              0.4444444444444444,
              "#bd3786"
             ],
             [
              0.5555555555555556,
              "#d8576b"
             ],
             [
              0.6666666666666666,
              "#ed7953"
             ],
             [
              0.7777777777777778,
              "#fb9f3a"
             ],
             [
              0.8888888888888888,
              "#fdca26"
             ],
             [
              1,
              "#f0f921"
             ]
            ],
            "type": "histogram2d"
           }
          ],
          "histogram2dcontour": [
           {
            "colorbar": {
             "outlinewidth": 0,
             "ticks": ""
            },
            "colorscale": [
             [
              0,
              "#0d0887"
             ],
             [
              0.1111111111111111,
              "#46039f"
             ],
             [
              0.2222222222222222,
              "#7201a8"
             ],
             [
              0.3333333333333333,
              "#9c179e"
             ],
             [
              0.4444444444444444,
              "#bd3786"
             ],
             [
              0.5555555555555556,
              "#d8576b"
             ],
             [
              0.6666666666666666,
              "#ed7953"
             ],
             [
              0.7777777777777778,
              "#fb9f3a"
             ],
             [
              0.8888888888888888,
              "#fdca26"
             ],
             [
              1,
              "#f0f921"
             ]
            ],
            "type": "histogram2dcontour"
           }
          ],
          "mesh3d": [
           {
            "colorbar": {
             "outlinewidth": 0,
             "ticks": ""
            },
            "type": "mesh3d"
           }
          ],
          "parcoords": [
           {
            "line": {
             "colorbar": {
              "outlinewidth": 0,
              "ticks": ""
             }
            },
            "type": "parcoords"
           }
          ],
          "pie": [
           {
            "automargin": true,
            "type": "pie"
           }
          ],
          "scatter": [
           {
            "fillpattern": {
             "fillmode": "overlay",
             "size": 10,
             "solidity": 0.2
            },
            "type": "scatter"
           }
          ],
          "scatter3d": [
           {
            "line": {
             "colorbar": {
              "outlinewidth": 0,
              "ticks": ""
             }
            },
            "marker": {
             "colorbar": {
              "outlinewidth": 0,
              "ticks": ""
             }
            },
            "type": "scatter3d"
           }
          ],
          "scattercarpet": [
           {
            "marker": {
             "colorbar": {
              "outlinewidth": 0,
              "ticks": ""
             }
            },
            "type": "scattercarpet"
           }
          ],
          "scattergeo": [
           {
            "marker": {
             "colorbar": {
              "outlinewidth": 0,
              "ticks": ""
             }
            },
            "type": "scattergeo"
           }
          ],
          "scattergl": [
           {
            "marker": {
             "colorbar": {
              "outlinewidth": 0,
              "ticks": ""
             }
            },
            "type": "scattergl"
           }
          ],
          "scattermapbox": [
           {
            "marker": {
             "colorbar": {
              "outlinewidth": 0,
              "ticks": ""
             }
            },
            "type": "scattermapbox"
           }
          ],
          "scatterpolar": [
           {
            "marker": {
             "colorbar": {
              "outlinewidth": 0,
              "ticks": ""
             }
            },
            "type": "scatterpolar"
           }
          ],
          "scatterpolargl": [
           {
            "marker": {
             "colorbar": {
              "outlinewidth": 0,
              "ticks": ""
             }
            },
            "type": "scatterpolargl"
           }
          ],
          "scatterternary": [
           {
            "marker": {
             "colorbar": {
              "outlinewidth": 0,
              "ticks": ""
             }
            },
            "type": "scatterternary"
           }
          ],
          "surface": [
           {
            "colorbar": {
             "outlinewidth": 0,
             "ticks": ""
            },
            "colorscale": [
             [
              0,
              "#0d0887"
             ],
             [
              0.1111111111111111,
              "#46039f"
             ],
             [
              0.2222222222222222,
              "#7201a8"
             ],
             [
              0.3333333333333333,
              "#9c179e"
             ],
             [
              0.4444444444444444,
              "#bd3786"
             ],
             [
              0.5555555555555556,
              "#d8576b"
             ],
             [
              0.6666666666666666,
              "#ed7953"
             ],
             [
              0.7777777777777778,
              "#fb9f3a"
             ],
             [
              0.8888888888888888,
              "#fdca26"
             ],
             [
              1,
              "#f0f921"
             ]
            ],
            "type": "surface"
           }
          ],
          "table": [
           {
            "cells": {
             "fill": {
              "color": "#EBF0F8"
             },
             "line": {
              "color": "white"
             }
            },
            "header": {
             "fill": {
              "color": "#C8D4E3"
             },
             "line": {
              "color": "white"
             }
            },
            "type": "table"
           }
          ]
         },
         "layout": {
          "annotationdefaults": {
           "arrowcolor": "#2a3f5f",
           "arrowhead": 0,
           "arrowwidth": 1
          },
          "autotypenumbers": "strict",
          "coloraxis": {
           "colorbar": {
            "outlinewidth": 0,
            "ticks": ""
           }
          },
          "colorscale": {
           "diverging": [
            [
             0,
             "#8e0152"
            ],
            [
             0.1,
             "#c51b7d"
            ],
            [
             0.2,
             "#de77ae"
            ],
            [
             0.3,
             "#f1b6da"
            ],
            [
             0.4,
             "#fde0ef"
            ],
            [
             0.5,
             "#f7f7f7"
            ],
            [
             0.6,
             "#e6f5d0"
            ],
            [
             0.7,
             "#b8e186"
            ],
            [
             0.8,
             "#7fbc41"
            ],
            [
             0.9,
             "#4d9221"
            ],
            [
             1,
             "#276419"
            ]
           ],
           "sequential": [
            [
             0,
             "#0d0887"
            ],
            [
             0.1111111111111111,
             "#46039f"
            ],
            [
             0.2222222222222222,
             "#7201a8"
            ],
            [
             0.3333333333333333,
             "#9c179e"
            ],
            [
             0.4444444444444444,
             "#bd3786"
            ],
            [
             0.5555555555555556,
             "#d8576b"
            ],
            [
             0.6666666666666666,
             "#ed7953"
            ],
            [
             0.7777777777777778,
             "#fb9f3a"
            ],
            [
             0.8888888888888888,
             "#fdca26"
            ],
            [
             1,
             "#f0f921"
            ]
           ],
           "sequentialminus": [
            [
             0,
             "#0d0887"
            ],
            [
             0.1111111111111111,
             "#46039f"
            ],
            [
             0.2222222222222222,
             "#7201a8"
            ],
            [
             0.3333333333333333,
             "#9c179e"
            ],
            [
             0.4444444444444444,
             "#bd3786"
            ],
            [
             0.5555555555555556,
             "#d8576b"
            ],
            [
             0.6666666666666666,
             "#ed7953"
            ],
            [
             0.7777777777777778,
             "#fb9f3a"
            ],
            [
             0.8888888888888888,
             "#fdca26"
            ],
            [
             1,
             "#f0f921"
            ]
           ]
          },
          "colorway": [
           "#636efa",
           "#EF553B",
           "#00cc96",
           "#ab63fa",
           "#FFA15A",
           "#19d3f3",
           "#FF6692",
           "#B6E880",
           "#FF97FF",
           "#FECB52"
          ],
          "font": {
           "color": "#2a3f5f"
          },
          "geo": {
           "bgcolor": "white",
           "lakecolor": "white",
           "landcolor": "#E5ECF6",
           "showlakes": true,
           "showland": true,
           "subunitcolor": "white"
          },
          "hoverlabel": {
           "align": "left"
          },
          "hovermode": "closest",
          "mapbox": {
           "style": "light"
          },
          "paper_bgcolor": "white",
          "plot_bgcolor": "#E5ECF6",
          "polar": {
           "angularaxis": {
            "gridcolor": "white",
            "linecolor": "white",
            "ticks": ""
           },
           "bgcolor": "#E5ECF6",
           "radialaxis": {
            "gridcolor": "white",
            "linecolor": "white",
            "ticks": ""
           }
          },
          "scene": {
           "xaxis": {
            "backgroundcolor": "#E5ECF6",
            "gridcolor": "white",
            "gridwidth": 2,
            "linecolor": "white",
            "showbackground": true,
            "ticks": "",
            "zerolinecolor": "white"
           },
           "yaxis": {
            "backgroundcolor": "#E5ECF6",
            "gridcolor": "white",
            "gridwidth": 2,
            "linecolor": "white",
            "showbackground": true,
            "ticks": "",
            "zerolinecolor": "white"
           },
           "zaxis": {
            "backgroundcolor": "#E5ECF6",
            "gridcolor": "white",
            "gridwidth": 2,
            "linecolor": "white",
            "showbackground": true,
            "ticks": "",
            "zerolinecolor": "white"
           }
          },
          "shapedefaults": {
           "line": {
            "color": "#2a3f5f"
           }
          },
          "ternary": {
           "aaxis": {
            "gridcolor": "white",
            "linecolor": "white",
            "ticks": ""
           },
           "baxis": {
            "gridcolor": "white",
            "linecolor": "white",
            "ticks": ""
           },
           "bgcolor": "#E5ECF6",
           "caxis": {
            "gridcolor": "white",
            "linecolor": "white",
            "ticks": ""
           }
          },
          "title": {
           "x": 0.05
          },
          "xaxis": {
           "automargin": true,
           "gridcolor": "white",
           "linecolor": "white",
           "ticks": "",
           "title": {
            "standoff": 15
           },
           "zerolinecolor": "white",
           "zerolinewidth": 2
          },
          "yaxis": {
           "automargin": true,
           "gridcolor": "white",
           "linecolor": "white",
           "ticks": "",
           "title": {
            "standoff": 15
           },
           "zerolinecolor": "white",
           "zerolinewidth": 2
          }
         }
        },
        "title": {
         "text": "Visualisation des Tweets selon la Subjectivité et la Polarité"
        },
        "xaxis": {
         "anchor": "y",
         "domain": [
          0,
          1
         ],
         "range": [
          -0.1,
          1.1
         ],
         "showgrid": false,
         "showline": false,
         "tickmode": "array",
         "ticktext": [
          "0",
          "0.5",
          "1"
         ],
         "tickvals": [
          0,
          0.5,
          1
         ],
         "title": {
          "text": "Subjectivité"
         },
         "zeroline": false
        },
        "yaxis": {
         "anchor": "x",
         "domain": [
          0,
          1
         ],
         "range": [
          -1.1,
          1.1
         ],
         "showgrid": false,
         "tickmode": "array",
         "ticktext": [
          "-1",
          "0",
          "1"
         ],
         "tickvals": [
          -1,
          0,
          1
         ],
         "title": {
          "text": "Polarité"
         },
         "zeroline": true,
         "zerolinecolor": "black",
         "zerolinewidth": 1
        }
       }
      }
     },
     "metadata": {},
     "output_type": "display_data"
    }
   ],
   "source": [
    "def show_pie_chart2():\n",
    "    df = pd.DataFrame(Tweet.compass, columns=['Polarité', 'Subjectivité'])\n",
    "    fig = px.scatter(df, x='Subjectivité', y='Polarité',\n",
    "                     color='Polarité', color_continuous_scale='RdBu',\n",
    "                     title='Visualisation des Tweets selon la Subjectivité et la Polarité')\n",
    "    # Centrage du graphique\n",
    "    fig.update_layout(xaxis=dict(range=[-0.1, 1.1], zeroline=False, showline=False),\n",
    "                      yaxis=dict(range=[-1.1, 1.1], zeroline=True, zerolinewidth=1, zerolinecolor='black'),\n",
    "                      plot_bgcolor='darkseagreen', margin=dict(l=0, r=0, t=0, b=0))\n",
    "\n",
    "    # Ajout d'une ligne verticale à 0.5 sur l'axe de la subjectivité\n",
    "    fig.add_shape(type='line', x0=0.5, y0=-1.1, x1=0.5, y1=1.1, line=dict(color='black', width=1))\n",
    "\n",
    "    # Mise en forme du graphique\n",
    "    fig.update_traces(marker=dict(size=12, opacity=0.8), selector=dict(mode='markers+text'))\n",
    "    fig.update_layout(xaxis_title='Subjectivité', yaxis_title='Polarité')\n",
    "    fig.update_coloraxes(colorbar_title='Polarité')\n",
    "\n",
    "    # Réglage de l'axe x pour placer la ligne zéro à 0.5 et cacher les valeurs dépassant les seuils\n",
    "    fig.update_xaxes(showgrid=False, tickvals=[0, 0.5, 1], ticktext=['0', '0.5', '1'], tickmode='array')\n",
    "    fig.update_yaxes(showgrid=False, tickvals=[-1, 0, 1], ticktext=['-1', '0', '1'], tickmode='array')\n",
    "\n",
    "    return fig\n",
    "\n",
    "show_pie_chart2()"
   ]
  },
  {
   "cell_type": "markdown",
   "metadata": {},
   "source": [
    "Fonction qui crée un fichier .html contenant une carte représentant la localisation de tous les tweets et le nombre de tweets par localisation"
   ]
  },
  {
   "cell_type": "code",
   "execution_count": 113,
   "metadata": {},
   "outputs": [],
   "source": [
    "def world_map(start=0, end=0, user='Géolocalisation_tweet'):\n",
    "    print('World Map')\n",
    "    global fin_map\n",
    "    global avancement_map\n",
    "    global analyse_finished\n",
    "    while analyse_finished != 1:\n",
    "        time.sleep(1)\n",
    "    if end == 0:\n",
    "        end = len(Tweet.tweets_localization)\n",
    "    debut = time.time()\n",
    "    geolocator = Nominatim(user_agent=user)\n",
    "    tweet_coordinates = {}\n",
    "    avancement_map = 1\n",
    "    for location in Tweet.tweets_localization[start:end]:\n",
    "        try:\n",
    "            location = location.strip()\n",
    "            if location not in tweet_coordinates:\n",
    "                location_data = geolocator.geocode(location)\n",
    "                if location_data:\n",
    "                    tweet_coordinates[location] = (location_data.latitude, location_data.longitude, location)\n",
    "            if avancement_map % 10 == 0 or avancement_map == 1:\n",
    "                print(avancement_map, '/', len(Tweet.tweets_localization))\n",
    "            avancement_map += 1\n",
    "        except ConnectionError:\n",
    "            print(f'Une erreur de connection est survenue lors de la création de la carte avec la localisation '\n",
    "                  f'suivante: {location}')\n",
    "            avancement_map += 1\n",
    "        except TimeoutError:\n",
    "            print(f'Une erreur de type Timeout est survenue lors de la création de la carte avec la localisation '\n",
    "                  f'suivante: {location}')\n",
    "            avancement_map += 1\n",
    "        except geopy.exc.GeocoderUnavailable:\n",
    "            print(f'Une erreur est survenue lors de la création de la carte avec la localisation '\n",
    "                  f'suivante: {location}. Soit la connexion n\\'a pas pu être établis avec le service de géolocalisation'\n",
    "                  f' soit le service n\\'est pas disponible')\n",
    "        except geopy.exc.GeocoderQuotaExceeded:\n",
    "            print(f'Une erreur est survenue lors de la création de la carte avec la localisation suivante: {location}'\n",
    "                  f'à cause d\\'un trop grand nombre de requête en un certain laps de temps.')\n",
    "        except Exception as error:\n",
    "            print(f'Une erreur de type {type(error)}est survenue lors de la création de la carte avec la localisation '\n",
    "                  f'suivante: {location}')\n",
    "            avancement_map += 1\n",
    "\n",
    "    tweet_counts = Counter(Tweet.tweets_localization)\n",
    "    m = folium.Map()\n",
    "\n",
    "    for location, count in tweet_counts.items():\n",
    "        if location in tweet_coordinates:\n",
    "            lat, lon = tweet_coordinates[location][:2]\n",
    "            popup_content = f'<p><b>{tweet_coordinates[location][2]}</b></p>' \\\n",
    "                            f'<p>{count} tweet{\"s\" if count > 1 else \"\"}' \\\n",
    "                            f' posté{\"s\" if count > 1 else \"\"} depuis cet endroit</p>'  # utilisation de html qui\n",
    "            # est nécessaire étant donné que le fichier contenant la carte est en html\n",
    "            popup = folium.Popup(popup_content, parse_html=False, max_width=100)\n",
    "            \"\"\"icon_image = \"icone_twitter.png\"\n",
    "            coeff = 1 + count*0.05\n",
    "            icon = folium.CustomIcon(\n",
    "                icon_image,\n",
    "                icon_size=(50*coeff, 50*coeff),\n",
    "                icon_anchor=(0, 0),\n",
    "                popup_anchor=(0, 0)\n",
    "            )\"\"\"\n",
    "            folium.Marker(location=(lat, lon), popup=popup).add_to(m)\n",
    "\n",
    "    m.save('tweet_map.html')\n",
    "    fin = time.time()\n",
    "    print('temps final:', fin - debut)\n",
    "    fin_map = 1"
   ]
  },
  {
   "cell_type": "markdown",
   "metadata": {},
   "source": [
    "Fonction permettant de visualiser le nombre de tweet en fonction de l'heure"
   ]
  },
  {
   "cell_type": "code",
   "execution_count": 114,
   "metadata": {},
   "outputs": [
    {
     "data": {
      "application/vnd.plotly.v1+json": {
       "config": {
        "plotlyServerURL": "https://plot.ly"
       },
       "data": [
        {
         "hovertemplate": "Heure=%{x}<br>Nombre de Tweets=%{y}<extra></extra>",
         "legendgroup": "",
         "line": {
          "color": "#636efa",
          "dash": "solid",
          "shape": "linear"
         },
         "marker": {
          "symbol": "circle"
         },
         "mode": "lines+markers",
         "name": "",
         "orientation": "v",
         "showlegend": false,
         "type": "scatter",
         "x": [
          "00",
          "01",
          "02",
          "03",
          "04",
          "05",
          "06",
          "07",
          "08",
          "09",
          "10",
          "11",
          "12",
          "13",
          "14",
          "15",
          "16",
          "17",
          "18",
          "19",
          "20",
          "21",
          "22",
          "23"
         ],
         "xaxis": "x",
         "y": [
          63,
          67,
          70,
          69,
          73,
          69,
          64,
          81,
          69,
          69,
          74,
          61,
          70,
          72,
          72,
          80,
          76,
          72,
          79,
          66,
          71,
          75,
          72,
          74
         ],
         "yaxis": "y"
        }
       ],
       "layout": {
        "legend": {
         "tracegroupgap": 0
        },
        "template": {
         "data": {
          "bar": [
           {
            "error_x": {
             "color": "#2a3f5f"
            },
            "error_y": {
             "color": "#2a3f5f"
            },
            "marker": {
             "line": {
              "color": "#E5ECF6",
              "width": 0.5
             },
             "pattern": {
              "fillmode": "overlay",
              "size": 10,
              "solidity": 0.2
             }
            },
            "type": "bar"
           }
          ],
          "barpolar": [
           {
            "marker": {
             "line": {
              "color": "#E5ECF6",
              "width": 0.5
             },
             "pattern": {
              "fillmode": "overlay",
              "size": 10,
              "solidity": 0.2
             }
            },
            "type": "barpolar"
           }
          ],
          "carpet": [
           {
            "aaxis": {
             "endlinecolor": "#2a3f5f",
             "gridcolor": "white",
             "linecolor": "white",
             "minorgridcolor": "white",
             "startlinecolor": "#2a3f5f"
            },
            "baxis": {
             "endlinecolor": "#2a3f5f",
             "gridcolor": "white",
             "linecolor": "white",
             "minorgridcolor": "white",
             "startlinecolor": "#2a3f5f"
            },
            "type": "carpet"
           }
          ],
          "choropleth": [
           {
            "colorbar": {
             "outlinewidth": 0,
             "ticks": ""
            },
            "type": "choropleth"
           }
          ],
          "contour": [
           {
            "colorbar": {
             "outlinewidth": 0,
             "ticks": ""
            },
            "colorscale": [
             [
              0,
              "#0d0887"
             ],
             [
              0.1111111111111111,
              "#46039f"
             ],
             [
              0.2222222222222222,
              "#7201a8"
             ],
             [
              0.3333333333333333,
              "#9c179e"
             ],
             [
              0.4444444444444444,
              "#bd3786"
             ],
             [
              0.5555555555555556,
              "#d8576b"
             ],
             [
              0.6666666666666666,
              "#ed7953"
             ],
             [
              0.7777777777777778,
              "#fb9f3a"
             ],
             [
              0.8888888888888888,
              "#fdca26"
             ],
             [
              1,
              "#f0f921"
             ]
            ],
            "type": "contour"
           }
          ],
          "contourcarpet": [
           {
            "colorbar": {
             "outlinewidth": 0,
             "ticks": ""
            },
            "type": "contourcarpet"
           }
          ],
          "heatmap": [
           {
            "colorbar": {
             "outlinewidth": 0,
             "ticks": ""
            },
            "colorscale": [
             [
              0,
              "#0d0887"
             ],
             [
              0.1111111111111111,
              "#46039f"
             ],
             [
              0.2222222222222222,
              "#7201a8"
             ],
             [
              0.3333333333333333,
              "#9c179e"
             ],
             [
              0.4444444444444444,
              "#bd3786"
             ],
             [
              0.5555555555555556,
              "#d8576b"
             ],
             [
              0.6666666666666666,
              "#ed7953"
             ],
             [
              0.7777777777777778,
              "#fb9f3a"
             ],
             [
              0.8888888888888888,
              "#fdca26"
             ],
             [
              1,
              "#f0f921"
             ]
            ],
            "type": "heatmap"
           }
          ],
          "heatmapgl": [
           {
            "colorbar": {
             "outlinewidth": 0,
             "ticks": ""
            },
            "colorscale": [
             [
              0,
              "#0d0887"
             ],
             [
              0.1111111111111111,
              "#46039f"
             ],
             [
              0.2222222222222222,
              "#7201a8"
             ],
             [
              0.3333333333333333,
              "#9c179e"
             ],
             [
              0.4444444444444444,
              "#bd3786"
             ],
             [
              0.5555555555555556,
              "#d8576b"
             ],
             [
              0.6666666666666666,
              "#ed7953"
             ],
             [
              0.7777777777777778,
              "#fb9f3a"
             ],
             [
              0.8888888888888888,
              "#fdca26"
             ],
             [
              1,
              "#f0f921"
             ]
            ],
            "type": "heatmapgl"
           }
          ],
          "histogram": [
           {
            "marker": {
             "pattern": {
              "fillmode": "overlay",
              "size": 10,
              "solidity": 0.2
             }
            },
            "type": "histogram"
           }
          ],
          "histogram2d": [
           {
            "colorbar": {
             "outlinewidth": 0,
             "ticks": ""
            },
            "colorscale": [
             [
              0,
              "#0d0887"
             ],
             [
              0.1111111111111111,
              "#46039f"
             ],
             [
              0.2222222222222222,
              "#7201a8"
             ],
             [
              0.3333333333333333,
              "#9c179e"
             ],
             [
              0.4444444444444444,
              "#bd3786"
             ],
             [
              0.5555555555555556,
              "#d8576b"
             ],
             [
              0.6666666666666666,
              "#ed7953"
             ],
             [
              0.7777777777777778,
              "#fb9f3a"
             ],
             [
              0.8888888888888888,
              "#fdca26"
             ],
             [
              1,
              "#f0f921"
             ]
            ],
            "type": "histogram2d"
           }
          ],
          "histogram2dcontour": [
           {
            "colorbar": {
             "outlinewidth": 0,
             "ticks": ""
            },
            "colorscale": [
             [
              0,
              "#0d0887"
             ],
             [
              0.1111111111111111,
              "#46039f"
             ],
             [
              0.2222222222222222,
              "#7201a8"
             ],
             [
              0.3333333333333333,
              "#9c179e"
             ],
             [
              0.4444444444444444,
              "#bd3786"
             ],
             [
              0.5555555555555556,
              "#d8576b"
             ],
             [
              0.6666666666666666,
              "#ed7953"
             ],
             [
              0.7777777777777778,
              "#fb9f3a"
             ],
             [
              0.8888888888888888,
              "#fdca26"
             ],
             [
              1,
              "#f0f921"
             ]
            ],
            "type": "histogram2dcontour"
           }
          ],
          "mesh3d": [
           {
            "colorbar": {
             "outlinewidth": 0,
             "ticks": ""
            },
            "type": "mesh3d"
           }
          ],
          "parcoords": [
           {
            "line": {
             "colorbar": {
              "outlinewidth": 0,
              "ticks": ""
             }
            },
            "type": "parcoords"
           }
          ],
          "pie": [
           {
            "automargin": true,
            "type": "pie"
           }
          ],
          "scatter": [
           {
            "fillpattern": {
             "fillmode": "overlay",
             "size": 10,
             "solidity": 0.2
            },
            "type": "scatter"
           }
          ],
          "scatter3d": [
           {
            "line": {
             "colorbar": {
              "outlinewidth": 0,
              "ticks": ""
             }
            },
            "marker": {
             "colorbar": {
              "outlinewidth": 0,
              "ticks": ""
             }
            },
            "type": "scatter3d"
           }
          ],
          "scattercarpet": [
           {
            "marker": {
             "colorbar": {
              "outlinewidth": 0,
              "ticks": ""
             }
            },
            "type": "scattercarpet"
           }
          ],
          "scattergeo": [
           {
            "marker": {
             "colorbar": {
              "outlinewidth": 0,
              "ticks": ""
             }
            },
            "type": "scattergeo"
           }
          ],
          "scattergl": [
           {
            "marker": {
             "colorbar": {
              "outlinewidth": 0,
              "ticks": ""
             }
            },
            "type": "scattergl"
           }
          ],
          "scattermapbox": [
           {
            "marker": {
             "colorbar": {
              "outlinewidth": 0,
              "ticks": ""
             }
            },
            "type": "scattermapbox"
           }
          ],
          "scatterpolar": [
           {
            "marker": {
             "colorbar": {
              "outlinewidth": 0,
              "ticks": ""
             }
            },
            "type": "scatterpolar"
           }
          ],
          "scatterpolargl": [
           {
            "marker": {
             "colorbar": {
              "outlinewidth": 0,
              "ticks": ""
             }
            },
            "type": "scatterpolargl"
           }
          ],
          "scatterternary": [
           {
            "marker": {
             "colorbar": {
              "outlinewidth": 0,
              "ticks": ""
             }
            },
            "type": "scatterternary"
           }
          ],
          "surface": [
           {
            "colorbar": {
             "outlinewidth": 0,
             "ticks": ""
            },
            "colorscale": [
             [
              0,
              "#0d0887"
             ],
             [
              0.1111111111111111,
              "#46039f"
             ],
             [
              0.2222222222222222,
              "#7201a8"
             ],
             [
              0.3333333333333333,
              "#9c179e"
             ],
             [
              0.4444444444444444,
              "#bd3786"
             ],
             [
              0.5555555555555556,
              "#d8576b"
             ],
             [
              0.6666666666666666,
              "#ed7953"
             ],
             [
              0.7777777777777778,
              "#fb9f3a"
             ],
             [
              0.8888888888888888,
              "#fdca26"
             ],
             [
              1,
              "#f0f921"
             ]
            ],
            "type": "surface"
           }
          ],
          "table": [
           {
            "cells": {
             "fill": {
              "color": "#EBF0F8"
             },
             "line": {
              "color": "white"
             }
            },
            "header": {
             "fill": {
              "color": "#C8D4E3"
             },
             "line": {
              "color": "white"
             }
            },
            "type": "table"
           }
          ]
         },
         "layout": {
          "annotationdefaults": {
           "arrowcolor": "#2a3f5f",
           "arrowhead": 0,
           "arrowwidth": 1
          },
          "autotypenumbers": "strict",
          "coloraxis": {
           "colorbar": {
            "outlinewidth": 0,
            "ticks": ""
           }
          },
          "colorscale": {
           "diverging": [
            [
             0,
             "#8e0152"
            ],
            [
             0.1,
             "#c51b7d"
            ],
            [
             0.2,
             "#de77ae"
            ],
            [
             0.3,
             "#f1b6da"
            ],
            [
             0.4,
             "#fde0ef"
            ],
            [
             0.5,
             "#f7f7f7"
            ],
            [
             0.6,
             "#e6f5d0"
            ],
            [
             0.7,
             "#b8e186"
            ],
            [
             0.8,
             "#7fbc41"
            ],
            [
             0.9,
             "#4d9221"
            ],
            [
             1,
             "#276419"
            ]
           ],
           "sequential": [
            [
             0,
             "#0d0887"
            ],
            [
             0.1111111111111111,
             "#46039f"
            ],
            [
             0.2222222222222222,
             "#7201a8"
            ],
            [
             0.3333333333333333,
             "#9c179e"
            ],
            [
             0.4444444444444444,
             "#bd3786"
            ],
            [
             0.5555555555555556,
             "#d8576b"
            ],
            [
             0.6666666666666666,
             "#ed7953"
            ],
            [
             0.7777777777777778,
             "#fb9f3a"
            ],
            [
             0.8888888888888888,
             "#fdca26"
            ],
            [
             1,
             "#f0f921"
            ]
           ],
           "sequentialminus": [
            [
             0,
             "#0d0887"
            ],
            [
             0.1111111111111111,
             "#46039f"
            ],
            [
             0.2222222222222222,
             "#7201a8"
            ],
            [
             0.3333333333333333,
             "#9c179e"
            ],
            [
             0.4444444444444444,
             "#bd3786"
            ],
            [
             0.5555555555555556,
             "#d8576b"
            ],
            [
             0.6666666666666666,
             "#ed7953"
            ],
            [
             0.7777777777777778,
             "#fb9f3a"
            ],
            [
             0.8888888888888888,
             "#fdca26"
            ],
            [
             1,
             "#f0f921"
            ]
           ]
          },
          "colorway": [
           "#636efa",
           "#EF553B",
           "#00cc96",
           "#ab63fa",
           "#FFA15A",
           "#19d3f3",
           "#FF6692",
           "#B6E880",
           "#FF97FF",
           "#FECB52"
          ],
          "font": {
           "color": "#2a3f5f"
          },
          "geo": {
           "bgcolor": "white",
           "lakecolor": "white",
           "landcolor": "#E5ECF6",
           "showlakes": true,
           "showland": true,
           "subunitcolor": "white"
          },
          "hoverlabel": {
           "align": "left"
          },
          "hovermode": "closest",
          "mapbox": {
           "style": "light"
          },
          "paper_bgcolor": "white",
          "plot_bgcolor": "#E5ECF6",
          "polar": {
           "angularaxis": {
            "gridcolor": "white",
            "linecolor": "white",
            "ticks": ""
           },
           "bgcolor": "#E5ECF6",
           "radialaxis": {
            "gridcolor": "white",
            "linecolor": "white",
            "ticks": ""
           }
          },
          "scene": {
           "xaxis": {
            "backgroundcolor": "#E5ECF6",
            "gridcolor": "white",
            "gridwidth": 2,
            "linecolor": "white",
            "showbackground": true,
            "ticks": "",
            "zerolinecolor": "white"
           },
           "yaxis": {
            "backgroundcolor": "#E5ECF6",
            "gridcolor": "white",
            "gridwidth": 2,
            "linecolor": "white",
            "showbackground": true,
            "ticks": "",
            "zerolinecolor": "white"
           },
           "zaxis": {
            "backgroundcolor": "#E5ECF6",
            "gridcolor": "white",
            "gridwidth": 2,
            "linecolor": "white",
            "showbackground": true,
            "ticks": "",
            "zerolinecolor": "white"
           }
          },
          "shapedefaults": {
           "line": {
            "color": "#2a3f5f"
           }
          },
          "ternary": {
           "aaxis": {
            "gridcolor": "white",
            "linecolor": "white",
            "ticks": ""
           },
           "baxis": {
            "gridcolor": "white",
            "linecolor": "white",
            "ticks": ""
           },
           "bgcolor": "#E5ECF6",
           "caxis": {
            "gridcolor": "white",
            "linecolor": "white",
            "ticks": ""
           }
          },
          "title": {
           "x": 0.05
          },
          "xaxis": {
           "automargin": true,
           "gridcolor": "white",
           "linecolor": "white",
           "ticks": "",
           "title": {
            "standoff": 15
           },
           "zerolinecolor": "white",
           "zerolinewidth": 2
          },
          "yaxis": {
           "automargin": true,
           "gridcolor": "white",
           "linecolor": "white",
           "ticks": "",
           "title": {
            "standoff": 15
           },
           "zerolinecolor": "white",
           "zerolinewidth": 2
          }
         }
        },
        "title": {
         "text": "Nombre de Tweets par Heure"
        },
        "xaxis": {
         "anchor": "y",
         "domain": [
          0,
          1
         ],
         "title": {
          "text": "Heure"
         }
        },
        "yaxis": {
         "anchor": "x",
         "domain": [
          0,
          1
         ],
         "title": {
          "text": "Nombre de Tweets"
         }
        }
       }
      }
     },
     "metadata": {},
     "output_type": "display_data"
    }
   ],
   "source": [
    "def visualize_tweet_time():\n",
    "    time = list(Tweet.tweets_time.keys())\n",
    "    nb_tweets = list(Tweet.tweets_time.values())\n",
    "    df = pd.DataFrame({'Heure': time, 'Nombre de Tweets': nb_tweets})\n",
    "    plot_time = px.line(df, x='Heure', y='Nombre de Tweets', markers=True, line_shape='linear',\n",
    "                        labels={'Heure': 'Heure', 'Nombre de Tweets': 'Nombre de Tweets'},\n",
    "                        title='Nombre de Tweets par Heure')\n",
    "    return plot_time\n",
    "\n",
    "visualize_tweet_time()"
   ]
  },
  {
   "cell_type": "markdown",
   "metadata": {},
   "source": [
    "Interface graphique réalisée avec Gradio (ne marche pas dans le notebook)"
   ]
  },
  {
   "cell_type": "code",
   "execution_count": 115,
   "metadata": {},
   "outputs": [
    {
     "data": {
      "text/plain": [
       "'def start():\\n    global file_path\\n    print(file)\\n    interface_init.close()\\n    interface.launch()\\n    Tweet.instantiate_from_file(file_path)\\n    return {\\n        welcome_label: gr.Label(visible=False),\\n        analyze_button: gr.Button(visible=False),\\n        upload_file_button: gr.UploadButton(visible=False),\\n        analysis: gr.Radio(visible=True)\\n    }\\n\\n\\ndef change_r(choice: str):\\n    if choice == Radio_Choices[-1]:\\n        return {plot: gr.Plot(visible=False),\\n                top: gr.Dropdown(visible=False),\\n                others: gr.Dropdown(visible=False)}\\n\\n    if choice == Radio_Choices[0]:\\n        return {top: gr.Dropdown(visible=True),\\n                others: gr.Dropdown(visible=False),\\n                plot: gr.Plot(visible=False)}\\n\\n    if choice == Radio_Choices[1]:\\n        return {others: gr.Dropdown(visible=True),\\n                top: gr.Dropdown(visible=False),\\n                plot: gr.Plot(visible=False)}\\n\\n\\ndef change_top(choice: str):\\n    if choice == \"Top hashtags\":\\n        return {plot: gr.Plot(value=get_top(list_used=Tweet.used_hashtag_sorted, k=10), visible=True)}\\n    if choice == \"Top utilisateurs\":\\n        return {plot: gr.Plot(value=get_top(list_used=Tweet.tweets_users, k=10), visible=True)}\\n    if choice == \"Top utilisateurs mentionnés\":\\n        return {plot: gr.Plot(value=get_top(list_used=Tweet.user_mentioned_sorted, k=10), visible=True)}\\n    if choice == \"Top topics\":\\n        return {plot: gr.Plot(value=get_top(list_used=Tweet.topics_sorted, k=10), visible=True)}\\n\\n\\ndef change_act(choice: str):\\n    if choice == \"Nombre de publications par utilisateur\":\\n        return {publi_user: gr.Textbox(value=number_publication(\"@Martin\"), visible=True)}\\n    if choice == \"Tous les Tweets d\\'un utilisateur\":\\n        pass\\n        # return {plot  : gr.Plot(visible=True)} #ajouter value\\n    if choice == \"Tous les utilisateurs mentionnés par un utilisateur\":\\n        pass\\n        # return {plot  : gr.Plot(visible=True)} #ajouter value\\n\\n\\ndef change_publi(choice: str):\\n    if choice == \"Nombre de publications par topic\":\\n        return {topic: gr.Textbox(visible=True)}\\n        # return {plot  : gr.Plot(visible=True)} #ajouter value\\n    if choice == \"Nombre de publications par hashtag\":\\n        return {hashtag: gr.Textbox(visible=True)}\\n        # return {plot  : gr.Plot(visible=True)} #ajouter value\\n    if choice == \"Tous les utilisateurs d\\'un hashtag\":\\n        return {hashtag: gr.Textbox(visible=True)}\\n        # return {plot  : gr.Plot(visible=True)} #ajouter value\\n\\n\\ndef change_others(choice: str):\\n    if choice == \"Heures de Tweet\":\\n        return {plot: gr.Plot(value=visualize_tweet_time(), visible=True)}\\n    if choice == \"Polarité/Subjectivité\":\\n        return {plot: gr.Plot(value=show_pie_chart2(), visible=True)}\\n    if choice == \"Répartition mondiale\":\\n        return {carte: gr.HTML(value=\\'tweet_map.html\\', visible=True)}\\n\\n\\ndef change_slider(value: int):\\n    val = value if value != 0 else 10\\n    return {plot: gr.Plot(value=get_top(k=value), visible=True),\\n            slider: gr.Slider(1, 50, val, step=1, label=\"Les Top combien voulez-vous voir ?\",\\n                              info=\"Déplacez le curseur\", visible=True, interactive=True)}\\n\\n\\ndef upload_file(file):\\n    global file_path\\n    file_path = file\\n    start()\\n\\n\\nRadio_Choices = [\"Top (4)\",\\n                 \"Caractéristiques (3)\",\\n                 \"Masquer\"]\\n\\nwith gr.Blocks(theme=gr.themes.Soft(neutral_hue=\\'cyan\\')) as interface:\\n    title = gr.Label(label=\"InPoDa\", value=\"InPoDa\", color=\"#00ACEE\")\\n    welcome_label = gr.Label(label=\"Bonjour\", value=\"Bienvenue sur InPoDa, la plateforme d\\'analyse de données de\"\\n                                                    \"réseaux sociaux.\\nVeuillez choisir un fichier à analyser\")\\n    # file_output = gr.File()\\n    upload_file_button = gr.UploadButton(\"Cliquez pour choisir le fichier à analyser\",\\n                                         file_types=[\".json\"], file_count=\"single\", visible=False)\\n    analyze_button = gr.Button(value=\"Lancer l\\'analyse\", visible=True)\\n    carte = gr.HTML(visible=False)\\n    analysis = gr.Radio(choices=Radio_Choices,\\n                        value=\"Masquer\",\\n                        label=\"Analyses\",\\n                        info=\"Que voulez-vous analyser ?\",\\n                        visible=False,\\n                        interactive=True)\\n    top = gr.Dropdown(choices=[\"Top hashtags\", \"Top utilisateurs\", \"Top utilisateurs mentionnés\", \"Top topics\"],\\n                      label=\"Top\", info=\"Veuillez sélectionner l\\'élément dont vous voulez voir le Top :\", visible=False)\\n    act = gr.Dropdown(choices=[\"Nombre de publications par utilisateur\", \"Tous les Tweets d\\'un utilisateur\",\\n                               \"Tous les utilisateurs mentionnés par un utilisateur\"],\\n                      label=\"Activité\", info=\"Veuillez sélectionner l\\'activité que vous souhaitez observer :\",\\n                      visible=False)\\n    publi = gr.Dropdown(choices=[\"Nombre de publications par topic\", \"Nombre de publications par hashtag\",\\n                                 \"Tous les utilisateurs d\\'un hashtag\"],\\n                        label=\"Catégories\", info=\"Veuillez sélectionner les publications que vous voulez analyser :\",\\n                        visible=False)\\n    others = gr.Dropdown(choices=[\"Heures de Tweet\", \"Polarité/Subjectivité\", \"Répartition mondiale\"],\\n                         label=\"Autres\", info=\"Veuillez sélectionner ce que vous souhaitez analyser :\", visible=False)\\n\\n    hashtag = gr.Textbox(info=\"Rentrez le hashtag\", visible=False, interactive=True)\\n    topic = gr.Textbox(info=\"Rentrez le topic :\", visible=False, interactive=True)\\n    plot = gr.Plot(visible=False)\\n    slider = gr.Slider(visible=False)\\n    publi_user = gr.Textbox(info=\"Quel utilisateur ?\", visible=False)\\n    # slider.change(change_r,inputs=[analysis,slider],outputs=plot)\\n    analysis.change(change_r, inputs=[analysis], outputs=[top, others, plot])\\n    top.change(change_top, inputs=[top], outputs=[plot])\\n    act.change(change_act, inputs=[act], outputs=[publi_user])\\n    publi.change(change_publi, inputs=[publi], outputs=[hashtag, topic])\\n    others.change(change_others, inputs=[others], outputs=[plot])\\n    hashtag.change(change_hashtag, inputs=[hashtag], outputs=[plot])\\n    topic.change(change_topic, inputs=[topic], outputs=[plot])\\n    interface.load(change_r, inputs=[analysis], outputs=[plot])\\n    analyze_button.click(start, outputs=[welcome_label, upload_file_button, analyze_button, analysis])\\n    upload_file_button.click(upload_file, outputs=[welcome_label, upload_file_button, analyze_button, analysis])\\n\\n\\nif __name__ == \\'__main__\\':\\n    #Tweet.instantiate_from_file(\\'aitweets.json\\')\\n    thread_map = threading.Thread(target=world_map)\\n    thread_map.start()\\n\\n    # Partie qui permettrait d\\'accélérer le processus de world map mais qui est impossible, car geopy refuse un trop\\n    # grand nombre de requêtes en un certain laps de temps. Pour régler ce problème, on pourrait essayer de passer par\\n    # un API nœud de TOR avant de changer les ip\\n\\n    thread_map = []\\n    for i in range(0, len(Tweet.tweets_localization), 100):\\n        print(\\'création du thread\\', i % 100)\\n        end = min(i + 100,\\n                  len(Tweet.tweets_localization))\\n        t = threading.Thread(target=world_map, args=(i, end, get_password(10)))\\n        thread_map.append(t)\\n        t.start()\\n        time.sleep(random.randint(1,5))\\n\\n    interface.launch()'"
      ]
     },
     "execution_count": 115,
     "metadata": {},
     "output_type": "execute_result"
    }
   ],
   "source": [
    "\"\"\"def start():\n",
    "    global file_path\n",
    "    print(file)\n",
    "    interface_init.close()\n",
    "    interface.launch()\n",
    "    Tweet.instantiate_from_file(file_path)\n",
    "    return {\n",
    "        welcome_label: gr.Label(visible=False),\n",
    "        analyze_button: gr.Button(visible=False),\n",
    "        upload_file_button: gr.UploadButton(visible=False),\n",
    "        analysis: gr.Radio(visible=True)\n",
    "    }\n",
    "\n",
    "\n",
    "def change_r(choice: str):\n",
    "    if choice == Radio_Choices[-1]:\n",
    "        return {plot: gr.Plot(visible=False),\n",
    "                top: gr.Dropdown(visible=False),\n",
    "                others: gr.Dropdown(visible=False)}\n",
    "\n",
    "    if choice == Radio_Choices[0]:\n",
    "        return {top: gr.Dropdown(visible=True),\n",
    "                others: gr.Dropdown(visible=False),\n",
    "                plot: gr.Plot(visible=False)}\n",
    "\n",
    "    if choice == Radio_Choices[1]:\n",
    "        return {others: gr.Dropdown(visible=True),\n",
    "                top: gr.Dropdown(visible=False),\n",
    "                plot: gr.Plot(visible=False)}\n",
    "\n",
    "\n",
    "def change_top(choice: str):\n",
    "    if choice == \"Top hashtags\":\n",
    "        return {plot: gr.Plot(value=get_top(list_used=Tweet.used_hashtag_sorted, k=10), visible=True)}\n",
    "    if choice == \"Top utilisateurs\":\n",
    "        return {plot: gr.Plot(value=get_top(list_used=Tweet.tweets_users, k=10), visible=True)}\n",
    "    if choice == \"Top utilisateurs mentionnés\":\n",
    "        return {plot: gr.Plot(value=get_top(list_used=Tweet.user_mentioned_sorted, k=10), visible=True)}\n",
    "    if choice == \"Top topics\":\n",
    "        return {plot: gr.Plot(value=get_top(list_used=Tweet.topics_sorted, k=10), visible=True)}\n",
    "\n",
    "\n",
    "def change_act(choice: str):\n",
    "    if choice == \"Nombre de publications par utilisateur\":\n",
    "        return {publi_user: gr.Textbox(value=number_publication(\"@Martin\"), visible=True)}\n",
    "    if choice == \"Tous les Tweets d'un utilisateur\":\n",
    "        pass\n",
    "        # return {plot  : gr.Plot(visible=True)} #ajouter value\n",
    "    if choice == \"Tous les utilisateurs mentionnés par un utilisateur\":\n",
    "        pass\n",
    "        # return {plot  : gr.Plot(visible=True)} #ajouter value\n",
    "\n",
    "\n",
    "def change_publi(choice: str):\n",
    "    if choice == \"Nombre de publications par topic\":\n",
    "        return {topic: gr.Textbox(visible=True)}\n",
    "        # return {plot  : gr.Plot(visible=True)} #ajouter value\n",
    "    if choice == \"Nombre de publications par hashtag\":\n",
    "        return {hashtag: gr.Textbox(visible=True)}\n",
    "        # return {plot  : gr.Plot(visible=True)} #ajouter value\n",
    "    if choice == \"Tous les utilisateurs d'un hashtag\":\n",
    "        return {hashtag: gr.Textbox(visible=True)}\n",
    "        # return {plot  : gr.Plot(visible=True)} #ajouter value\n",
    "\n",
    "\n",
    "def change_others(choice: str):\n",
    "    if choice == \"Heures de Tweet\":\n",
    "        return {plot: gr.Plot(value=visualize_tweet_time(), visible=True)}\n",
    "    if choice == \"Polarité/Subjectivité\":\n",
    "        return {plot: gr.Plot(value=show_pie_chart2(), visible=True)}\n",
    "    if choice == \"Répartition mondiale\":\n",
    "        return {carte: gr.HTML(value='tweet_map.html', visible=True)}\n",
    "\n",
    "\n",
    "def change_slider(value: int):\n",
    "    val = value if value != 0 else 10\n",
    "    return {plot: gr.Plot(value=get_top(k=value), visible=True),\n",
    "            slider: gr.Slider(1, 50, val, step=1, label=\"Les Top combien voulez-vous voir ?\",\n",
    "                              info=\"Déplacez le curseur\", visible=True, interactive=True)}\n",
    "\n",
    "\n",
    "def upload_file(file):\n",
    "    global file_path\n",
    "    file_path = file\n",
    "    start()\n",
    "\n",
    "\n",
    "Radio_Choices = [\"Top (4)\",\n",
    "                 \"Caractéristiques (3)\",\n",
    "                 \"Masquer\"]\n",
    "\n",
    "with gr.Blocks(theme=gr.themes.Soft(neutral_hue='cyan')) as interface:\n",
    "    title = gr.Label(label=\"InPoDa\", value=\"InPoDa\", color=\"#00ACEE\")\n",
    "    welcome_label = gr.Label(label=\"Bonjour\", value=\"Bienvenue sur InPoDa, la plateforme d'analyse de données de\"\n",
    "                                                    \"réseaux sociaux.\\nVeuillez choisir un fichier à analyser\")\n",
    "    # file_output = gr.File()\n",
    "    upload_file_button = gr.UploadButton(\"Cliquez pour choisir le fichier à analyser\",\n",
    "                                         file_types=[\".json\"], file_count=\"single\", visible=False)\n",
    "    analyze_button = gr.Button(value=\"Lancer l'analyse\", visible=True)\n",
    "    carte = gr.HTML(visible=False)\n",
    "    analysis = gr.Radio(choices=Radio_Choices,\n",
    "                        value=\"Masquer\",\n",
    "                        label=\"Analyses\",\n",
    "                        info=\"Que voulez-vous analyser ?\",\n",
    "                        visible=False,\n",
    "                        interactive=True)\n",
    "    top = gr.Dropdown(choices=[\"Top hashtags\", \"Top utilisateurs\", \"Top utilisateurs mentionnés\", \"Top topics\"],\n",
    "                      label=\"Top\", info=\"Veuillez sélectionner l'élément dont vous voulez voir le Top :\", visible=False)\n",
    "    act = gr.Dropdown(choices=[\"Nombre de publications par utilisateur\", \"Tous les Tweets d'un utilisateur\",\n",
    "                               \"Tous les utilisateurs mentionnés par un utilisateur\"],\n",
    "                      label=\"Activité\", info=\"Veuillez sélectionner l'activité que vous souhaitez observer :\",\n",
    "                      visible=False)\n",
    "    publi = gr.Dropdown(choices=[\"Nombre de publications par topic\", \"Nombre de publications par hashtag\",\n",
    "                                 \"Tous les utilisateurs d'un hashtag\"],\n",
    "                        label=\"Catégories\", info=\"Veuillez sélectionner les publications que vous voulez analyser :\",\n",
    "                        visible=False)\n",
    "    others = gr.Dropdown(choices=[\"Heures de Tweet\", \"Polarité/Subjectivité\", \"Répartition mondiale\"],\n",
    "                         label=\"Autres\", info=\"Veuillez sélectionner ce que vous souhaitez analyser :\", visible=False)\n",
    "\n",
    "    hashtag = gr.Textbox(info=\"Rentrez le hashtag\", visible=False, interactive=True)\n",
    "    topic = gr.Textbox(info=\"Rentrez le topic :\", visible=False, interactive=True)\n",
    "    plot = gr.Plot(visible=False)\n",
    "    slider = gr.Slider(visible=False)\n",
    "    publi_user = gr.Textbox(info=\"Quel utilisateur ?\", visible=False)\n",
    "    # slider.change(change_r,inputs=[analysis,slider],outputs=plot)\n",
    "    analysis.change(change_r, inputs=[analysis], outputs=[top, others, plot])\n",
    "    top.change(change_top, inputs=[top], outputs=[plot])\n",
    "    act.change(change_act, inputs=[act], outputs=[publi_user])\n",
    "    publi.change(change_publi, inputs=[publi], outputs=[hashtag, topic])\n",
    "    others.change(change_others, inputs=[others], outputs=[plot])\n",
    "    hashtag.change(change_hashtag, inputs=[hashtag], outputs=[plot])\n",
    "    topic.change(change_topic, inputs=[topic], outputs=[plot])\n",
    "    interface.load(change_r, inputs=[analysis], outputs=[plot])\n",
    "    analyze_button.click(start, outputs=[welcome_label, upload_file_button, analyze_button, analysis])\n",
    "    upload_file_button.click(upload_file, outputs=[welcome_label, upload_file_button, analyze_button, analysis])\n",
    "\n",
    "\n",
    "if __name__ == '__main__':\n",
    "    #Tweet.instantiate_from_file('aitweets.json')\n",
    "    thread_map = threading.Thread(target=world_map)\n",
    "    thread_map.start()\n",
    "\n",
    "    # Partie qui permettrait d'accélérer le processus de world map mais qui est impossible, car geopy refuse un trop\n",
    "    # grand nombre de requêtes en un certain laps de temps. Pour régler ce problème, on pourrait essayer de passer par\n",
    "    # un API nœud de TOR avant de changer les ip\n",
    "\n",
    "    thread_map = []\n",
    "    for i in range(0, len(Tweet.tweets_localization), 100):\n",
    "        print('création du thread', i % 100)\n",
    "        end = min(i + 100,\n",
    "                  len(Tweet.tweets_localization))\n",
    "        t = threading.Thread(target=world_map, args=(i, end, get_password(10)))\n",
    "        thread_map.append(t)\n",
    "        t.start()\n",
    "        time.sleep(random.randint(1,5))\n",
    "\n",
    "    interface.launch()\"\"\""
   ]
  },
  {
   "cell_type": "markdown",
   "metadata": {},
   "source": [
    "Lancement de l'interface graphique (et donc de l'analyse des tweets) et du thread world map"
   ]
  },
  {
   "cell_type": "code",
   "execution_count": 116,
   "metadata": {},
   "outputs": [
    {
     "data": {
      "text/plain": [
       "'with gr.Blocks(theme=gr.themes.Soft()) as demo:\\n    title = gr.Label(label = \"InPoDa\", value=\"InPoda\", color=\"black\")\\n    debut_label = gr.Label(label=\"\",value=\"Bienvenue sur la plateforme qui va te permettre d\\'analyser des tweets\")\\n    with gr.Tab(\"Toutes les langues utilisées\"):\\n        plot = gr.Plot(label=\"Plot\", value=languages_plot)\\n        demo.load(languages_plot, outputs=[plot])\\n    with gr.Tab(\"Lieux\"):\\n        gr.Button(\"là c\\'est bon c\\'est la map \")\\n        gr.HTML(value=\\'arattaa.html\\', visible=True)\\n    with gr.Tab(\"Hashtags\"):\\n        plot1 = gr.Plot(label=\"Hashtags\", value=get_top)\\n        demo.load(get_top(Tweet.used_hashtag_sorted), outputs=[plot1])   \\n        inp = gr.Textbox(placeholder=\"What is your name?\")\\n        out = gr.Textbox()\\n        inp.change(mention_specific, inp, out)        \\n    with gr.Tab(\"Top 8\"):\\n        gr.Button(\"Utilisateurs\")\\n        gr.Button(\"Utilisateurs mentionnés\")\\n        gr.Button(\"Les hashtags\")\\n        gr.Button(\"Topic\")\\n    with gr.Tab(\"Utilisateurs\"):\\n        plot2 = gr.Plot(label = \"Utilisateurs\", value=mention_specific)\\n        demo.load(mention_specific(Tweet.user_mentioned_sorted), outputs=[plot2])\\n    with gr.Tab(\\'Sentiments\\'):\\n        gr.Plot(value=show_pie_chart2, visible=True)'"
      ]
     },
     "execution_count": 116,
     "metadata": {},
     "output_type": "execute_result"
    }
   ],
   "source": [
    "\"\"\"with gr.Blocks(theme=gr.themes.Soft()) as demo:\n",
    "    title = gr.Label(label = \"InPoDa\", value=\"InPoda\", color=\"black\")\n",
    "    debut_label = gr.Label(label=\"\",value=\"Bienvenue sur la plateforme qui va te permettre d'analyser des tweets\")\n",
    "    with gr.Tab(\"Toutes les langues utilisées\"):\n",
    "        plot = gr.Plot(label=\"Plot\", value=languages_plot)\n",
    "        demo.load(languages_plot, outputs=[plot])\n",
    "    with gr.Tab(\"Lieux\"):\n",
    "        gr.Button(\"là c'est bon c'est la map \")\n",
    "        gr.HTML(value='arattaa.html', visible=True)\n",
    "    with gr.Tab(\"Hashtags\"):\n",
    "        plot1 = gr.Plot(label=\"Hashtags\", value=get_top)\n",
    "        demo.load(get_top(Tweet.used_hashtag_sorted), outputs=[plot1])   \n",
    "        inp = gr.Textbox(placeholder=\"What is your name?\")\n",
    "        out = gr.Textbox()\n",
    "        inp.change(mention_specific, inp, out)        \n",
    "    with gr.Tab(\"Top 8\"):\n",
    "        gr.Button(\"Utilisateurs\")\n",
    "        gr.Button(\"Utilisateurs mentionnés\")\n",
    "        gr.Button(\"Les hashtags\")\n",
    "        gr.Button(\"Topic\")\n",
    "    with gr.Tab(\"Utilisateurs\"):\n",
    "        plot2 = gr.Plot(label = \"Utilisateurs\", value=mention_specific)\n",
    "        demo.load(mention_specific(Tweet.user_mentioned_sorted), outputs=[plot2])\n",
    "    with gr.Tab('Sentiments'):\n",
    "        gr.Plot(value=show_pie_chart2, visible=True)\"\"\""
   ]
  },
  {
   "cell_type": "code",
   "execution_count": null,
   "metadata": {},
   "outputs": [],
   "source": []
  }
 ],
 "metadata": {
  "kernelspec": {
   "display_name": "Python 3",
   "language": "python",
   "name": "python3"
  },
  "language_info": {
   "codemirror_mode": {
    "name": "ipython",
    "version": 3
   },
   "file_extension": ".py",
   "mimetype": "text/x-python",
   "name": "python",
   "nbconvert_exporter": "python",
   "pygments_lexer": "ipython3",
   "version": "3.12.0"
  }
 },
 "nbformat": 4,
 "nbformat_minor": 2
}
